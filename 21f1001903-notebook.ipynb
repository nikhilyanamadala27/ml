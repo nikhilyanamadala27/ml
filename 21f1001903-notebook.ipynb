{
 "cells": [
  {
   "cell_type": "code",
   "execution_count": 1,
   "id": "c482c25e",
   "metadata": {
    "_cell_guid": "b1076dfc-b9ad-4769-8c92-a6c4dae69d19",
    "_uuid": "8f2839f25d086af736a60e9eeb907d3b93b6e0e5",
    "execution": {
     "iopub.execute_input": "2023-04-03T18:07:03.849769Z",
     "iopub.status.busy": "2023-04-03T18:07:03.849327Z",
     "iopub.status.idle": "2023-04-03T18:07:03.865733Z",
     "shell.execute_reply": "2023-04-03T18:07:03.864044Z"
    },
    "papermill": {
     "duration": 0.059073,
     "end_time": "2023-04-03T18:07:03.868640",
     "exception": false,
     "start_time": "2023-04-03T18:07:03.809567",
     "status": "completed"
    },
    "tags": []
   },
   "outputs": [
    {
     "name": "stdout",
     "output_type": "stream",
     "text": [
      "/kaggle/input/e-commerce-shoppers-behaviour-understanding/test_data_v2.csv\n",
      "/kaggle/input/e-commerce-shoppers-behaviour-understanding/train_data_v2.csv\n",
      "/kaggle/input/e-commerce-shoppers-behaviour-understanding/sample.csv\n"
     ]
    }
   ],
   "source": [
    "# This Python 3 environment comes with many helpful analytics libraries installed\n",
    "# It is defined by the kaggle/python Docker image: https://github.com/kaggle/docker-python\n",
    "# For example, here's several helpful packages to load\n",
    "\n",
    "import numpy as np # linear algebra\n",
    "import pandas as pd # data processing, CSV file I/O (e.g. pd.read_csv)\n",
    "\n",
    "# Input data files are available in the read-only \"../input/\" directory\n",
    "# For example, running this (by clicking run or pressing Shift+Enter) will list all files under the input directory\n",
    "\n",
    "import os\n",
    "for dirname, _, filenames in os.walk('/kaggle/input'):\n",
    "    for filename in filenames:\n",
    "        print(os.path.join(dirname, filename))\n",
    "\n",
    "# You can write up to 20GB to the current directory (/kaggle/working/) that gets preserved as output when you create a version using \"Save & Run All\" \n",
    "# You can also write temporary files to /kaggle/temp/, but they won't be saved outside of the current session"
   ]
  },
  {
   "cell_type": "code",
   "execution_count": 2,
   "id": "ef787965",
   "metadata": {
    "execution": {
     "iopub.execute_input": "2023-04-03T18:07:03.936589Z",
     "iopub.status.busy": "2023-04-03T18:07:03.936074Z",
     "iopub.status.idle": "2023-04-03T18:07:05.743286Z",
     "shell.execute_reply": "2023-04-03T18:07:05.741924Z"
    },
    "papermill": {
     "duration": 1.844365,
     "end_time": "2023-04-03T18:07:05.746277",
     "exception": false,
     "start_time": "2023-04-03T18:07:03.901912",
     "status": "completed"
    },
    "tags": []
   },
   "outputs": [],
   "source": [
    "import numpy as np\n",
    "import pandas as pd\n",
    "from sklearn.dummy import DummyClassifier\n",
    "import matplotlib.pyplot as plt\n",
    "import seaborn as sns\n",
    "from sklearn.impute import SimpleImputer,KNNImputer\n",
    "\n",
    "\n",
    "# Load the data\n",
    "\n",
    "train_data = pd.read_csv('/kaggle/input/e-commerce-shoppers-behaviour-understanding/train_data_v2.csv')\n",
    "test_data = pd.read_csv('/kaggle/input/e-commerce-shoppers-behaviour-understanding/test_data_v2.csv')\n",
    "\n",
    "# Check data types and missing values\n",
    "\n",
    "\n"
   ]
  },
  {
   "cell_type": "code",
   "execution_count": null,
   "id": "142a8152",
   "metadata": {
    "papermill": {
     "duration": 0.032076,
     "end_time": "2023-04-03T18:07:05.811339",
     "exception": false,
     "start_time": "2023-04-03T18:07:05.779263",
     "status": "completed"
    },
    "tags": []
   },
   "outputs": [],
   "source": []
  },
  {
   "cell_type": "code",
   "execution_count": 3,
   "id": "c2f2aecc",
   "metadata": {
    "execution": {
     "iopub.execute_input": "2023-04-03T18:07:05.877923Z",
     "iopub.status.busy": "2023-04-03T18:07:05.877451Z",
     "iopub.status.idle": "2023-04-03T18:07:05.914981Z",
     "shell.execute_reply": "2023-04-03T18:07:05.913120Z"
    },
    "papermill": {
     "duration": 0.07426,
     "end_time": "2023-04-03T18:07:05.917837",
     "exception": false,
     "start_time": "2023-04-03T18:07:05.843577",
     "status": "completed"
    },
    "tags": []
   },
   "outputs": [
    {
     "name": "stdout",
     "output_type": "stream",
     "text": [
      "<class 'pandas.core.frame.DataFrame'>\n",
      "RangeIndex: 14731 entries, 0 to 14730\n",
      "Data columns (total 22 columns):\n",
      " #   Column                           Non-Null Count  Dtype  \n",
      "---  ------                           --------------  -----  \n",
      " 0   HomePage                         14578 non-null  float64\n",
      " 1   HomePage_Duration                14581 non-null  float64\n",
      " 2   LandingPage                      14578 non-null  float64\n",
      " 3   LandingPage_Duration             14596 non-null  float64\n",
      " 4   ProductDescriptionPage           14608 non-null  float64\n",
      " 5   ProductDescriptionPage_Duration  14564 non-null  float64\n",
      " 6   GoogleMetric:Bounce Rates        14580 non-null  float64\n",
      " 7   GoogleMetric:Exit Rates          14602 non-null  float64\n",
      " 8   GoogleMetric:Page Values         14599 non-null  float64\n",
      " 9   SeasonalPurchase                 14581 non-null  float64\n",
      " 10  Month_SeasonalPurchase           14587 non-null  object \n",
      " 11  OS                               14597 non-null  float64\n",
      " 12  SearchEngine                     14609 non-null  float64\n",
      " 13  Zone                             14614 non-null  float64\n",
      " 14  Type of Traffic                  14588 non-null  float64\n",
      " 15  CustomerType                     14587 non-null  object \n",
      " 16  Gender                           14586 non-null  object \n",
      " 17  Cookies Setting                  14587 non-null  object \n",
      " 18  Education                        14595 non-null  object \n",
      " 19  Marital Status                   14601 non-null  object \n",
      " 20  WeekendPurchase                  14610 non-null  float64\n",
      " 21  Made_Purchase                    14731 non-null  bool   \n",
      "dtypes: bool(1), float64(15), object(6)\n",
      "memory usage: 2.4+ MB\n"
     ]
    }
   ],
   "source": [
    "train_data.info()"
   ]
  },
  {
   "cell_type": "code",
   "execution_count": 4,
   "id": "b00ae227",
   "metadata": {
    "execution": {
     "iopub.execute_input": "2023-04-03T18:07:05.985969Z",
     "iopub.status.busy": "2023-04-03T18:07:05.985495Z",
     "iopub.status.idle": "2023-04-03T18:07:06.001282Z",
     "shell.execute_reply": "2023-04-03T18:07:06.000367Z"
    },
    "papermill": {
     "duration": 0.052153,
     "end_time": "2023-04-03T18:07:06.003588",
     "exception": false,
     "start_time": "2023-04-03T18:07:05.951435",
     "status": "completed"
    },
    "tags": []
   },
   "outputs": [
    {
     "data": {
      "text/plain": [
       "HomePage                           153\n",
       "HomePage_Duration                  150\n",
       "LandingPage                        153\n",
       "LandingPage_Duration               135\n",
       "ProductDescriptionPage             123\n",
       "ProductDescriptionPage_Duration    167\n",
       "GoogleMetric:Bounce Rates          151\n",
       "GoogleMetric:Exit Rates            129\n",
       "GoogleMetric:Page Values           132\n",
       "SeasonalPurchase                   150\n",
       "Month_SeasonalPurchase             144\n",
       "OS                                 134\n",
       "SearchEngine                       122\n",
       "Zone                               117\n",
       "Type of Traffic                    143\n",
       "CustomerType                       144\n",
       "Gender                             145\n",
       "Cookies Setting                    144\n",
       "Education                          136\n",
       "Marital Status                     130\n",
       "WeekendPurchase                    121\n",
       "Made_Purchase                        0\n",
       "dtype: int64"
      ]
     },
     "execution_count": 4,
     "metadata": {},
     "output_type": "execute_result"
    }
   ],
   "source": [
    "train_data.isnull().sum()"
   ]
  },
  {
   "cell_type": "code",
   "execution_count": 5,
   "id": "d0cc6efb",
   "metadata": {
    "execution": {
     "iopub.execute_input": "2023-04-03T18:07:06.071444Z",
     "iopub.status.busy": "2023-04-03T18:07:06.070637Z",
     "iopub.status.idle": "2023-04-03T18:07:06.093973Z",
     "shell.execute_reply": "2023-04-03T18:07:06.092905Z"
    },
    "papermill": {
     "duration": 0.060893,
     "end_time": "2023-04-03T18:07:06.097272",
     "exception": false,
     "start_time": "2023-04-03T18:07:06.036379",
     "status": "completed"
    },
    "tags": []
   },
   "outputs": [],
   "source": [
    "from sklearn.compose import ColumnTransformer"
   ]
  },
  {
   "cell_type": "code",
   "execution_count": 6,
   "id": "57b9fb10",
   "metadata": {
    "execution": {
     "iopub.execute_input": "2023-04-03T18:07:06.165398Z",
     "iopub.status.busy": "2023-04-03T18:07:06.164920Z",
     "iopub.status.idle": "2023-04-03T18:07:06.208992Z",
     "shell.execute_reply": "2023-04-03T18:07:06.207752Z"
    },
    "papermill": {
     "duration": 0.08065,
     "end_time": "2023-04-03T18:07:06.211537",
     "exception": false,
     "start_time": "2023-04-03T18:07:06.130887",
     "status": "completed"
    },
    "tags": []
   },
   "outputs": [
    {
     "data": {
      "text/html": [
       "<div>\n",
       "<style scoped>\n",
       "    .dataframe tbody tr th:only-of-type {\n",
       "        vertical-align: middle;\n",
       "    }\n",
       "\n",
       "    .dataframe tbody tr th {\n",
       "        vertical-align: top;\n",
       "    }\n",
       "\n",
       "    .dataframe thead th {\n",
       "        text-align: right;\n",
       "    }\n",
       "</style>\n",
       "<table border=\"1\" class=\"dataframe\">\n",
       "  <thead>\n",
       "    <tr style=\"text-align: right;\">\n",
       "      <th></th>\n",
       "      <th>HomePage</th>\n",
       "      <th>HomePage_Duration</th>\n",
       "      <th>LandingPage</th>\n",
       "      <th>LandingPage_Duration</th>\n",
       "      <th>ProductDescriptionPage</th>\n",
       "      <th>ProductDescriptionPage_Duration</th>\n",
       "      <th>GoogleMetric:Bounce Rates</th>\n",
       "      <th>GoogleMetric:Exit Rates</th>\n",
       "      <th>GoogleMetric:Page Values</th>\n",
       "      <th>SeasonalPurchase</th>\n",
       "      <th>...</th>\n",
       "      <th>SearchEngine</th>\n",
       "      <th>Zone</th>\n",
       "      <th>Type of Traffic</th>\n",
       "      <th>CustomerType</th>\n",
       "      <th>Gender</th>\n",
       "      <th>Cookies Setting</th>\n",
       "      <th>Education</th>\n",
       "      <th>Marital Status</th>\n",
       "      <th>WeekendPurchase</th>\n",
       "      <th>Made_Purchase</th>\n",
       "    </tr>\n",
       "  </thead>\n",
       "  <tbody>\n",
       "    <tr>\n",
       "      <th>0</th>\n",
       "      <td>0.0</td>\n",
       "      <td>0.0</td>\n",
       "      <td>0.0</td>\n",
       "      <td>0.0</td>\n",
       "      <td>1.0</td>\n",
       "      <td>0.000000</td>\n",
       "      <td>0.20</td>\n",
       "      <td>0.20</td>\n",
       "      <td>0.0</td>\n",
       "      <td>0.0</td>\n",
       "      <td>...</td>\n",
       "      <td>1.0</td>\n",
       "      <td>9.0</td>\n",
       "      <td>3.0</td>\n",
       "      <td>Returning_Visitor</td>\n",
       "      <td>Not Specified</td>\n",
       "      <td>Deny</td>\n",
       "      <td>Not Specified</td>\n",
       "      <td>Other</td>\n",
       "      <td>0.0</td>\n",
       "      <td>False</td>\n",
       "    </tr>\n",
       "    <tr>\n",
       "      <th>1</th>\n",
       "      <td>0.0</td>\n",
       "      <td>0.0</td>\n",
       "      <td>0.0</td>\n",
       "      <td>0.0</td>\n",
       "      <td>2.0</td>\n",
       "      <td>2.666667</td>\n",
       "      <td>0.05</td>\n",
       "      <td>0.14</td>\n",
       "      <td>0.0</td>\n",
       "      <td>0.0</td>\n",
       "      <td>...</td>\n",
       "      <td>2.0</td>\n",
       "      <td>2.0</td>\n",
       "      <td>4.0</td>\n",
       "      <td>Returning_Visitor</td>\n",
       "      <td>Female</td>\n",
       "      <td>Deny</td>\n",
       "      <td>Others</td>\n",
       "      <td>Married</td>\n",
       "      <td>0.0</td>\n",
       "      <td>False</td>\n",
       "    </tr>\n",
       "    <tr>\n",
       "      <th>2</th>\n",
       "      <td>0.0</td>\n",
       "      <td>0.0</td>\n",
       "      <td>0.0</td>\n",
       "      <td>0.0</td>\n",
       "      <td>10.0</td>\n",
       "      <td>627.500000</td>\n",
       "      <td>0.02</td>\n",
       "      <td>0.05</td>\n",
       "      <td>0.0</td>\n",
       "      <td>0.0</td>\n",
       "      <td>...</td>\n",
       "      <td>3.0</td>\n",
       "      <td>1.0</td>\n",
       "      <td>4.0</td>\n",
       "      <td>Returning_Visitor</td>\n",
       "      <td>Female</td>\n",
       "      <td>ALL</td>\n",
       "      <td>Others</td>\n",
       "      <td>Married</td>\n",
       "      <td>1.0</td>\n",
       "      <td>False</td>\n",
       "    </tr>\n",
       "    <tr>\n",
       "      <th>3</th>\n",
       "      <td>0.0</td>\n",
       "      <td>0.0</td>\n",
       "      <td>0.0</td>\n",
       "      <td>0.0</td>\n",
       "      <td>1.0</td>\n",
       "      <td>0.000000</td>\n",
       "      <td>0.20</td>\n",
       "      <td>0.20</td>\n",
       "      <td>0.0</td>\n",
       "      <td>0.4</td>\n",
       "      <td>...</td>\n",
       "      <td>4.0</td>\n",
       "      <td>3.0</td>\n",
       "      <td>3.0</td>\n",
       "      <td>Returning_Visitor</td>\n",
       "      <td>Male</td>\n",
       "      <td>ALL</td>\n",
       "      <td>Diploma</td>\n",
       "      <td>Single</td>\n",
       "      <td>0.0</td>\n",
       "      <td>False</td>\n",
       "    </tr>\n",
       "    <tr>\n",
       "      <th>4</th>\n",
       "      <td>1.0</td>\n",
       "      <td>0.0</td>\n",
       "      <td>0.0</td>\n",
       "      <td>0.0</td>\n",
       "      <td>0.0</td>\n",
       "      <td>0.000000</td>\n",
       "      <td>0.20</td>\n",
       "      <td>0.20</td>\n",
       "      <td>0.0</td>\n",
       "      <td>0.0</td>\n",
       "      <td>...</td>\n",
       "      <td>2.0</td>\n",
       "      <td>1.0</td>\n",
       "      <td>5.0</td>\n",
       "      <td>Returning_Visitor</td>\n",
       "      <td>Male</td>\n",
       "      <td>Deny</td>\n",
       "      <td>Diploma</td>\n",
       "      <td>Other</td>\n",
       "      <td>1.0</td>\n",
       "      <td>False</td>\n",
       "    </tr>\n",
       "  </tbody>\n",
       "</table>\n",
       "<p>5 rows × 22 columns</p>\n",
       "</div>"
      ],
      "text/plain": [
       "   HomePage  HomePage_Duration  LandingPage  LandingPage_Duration  \\\n",
       "0       0.0                0.0          0.0                   0.0   \n",
       "1       0.0                0.0          0.0                   0.0   \n",
       "2       0.0                0.0          0.0                   0.0   \n",
       "3       0.0                0.0          0.0                   0.0   \n",
       "4       1.0                0.0          0.0                   0.0   \n",
       "\n",
       "   ProductDescriptionPage  ProductDescriptionPage_Duration  \\\n",
       "0                     1.0                         0.000000   \n",
       "1                     2.0                         2.666667   \n",
       "2                    10.0                       627.500000   \n",
       "3                     1.0                         0.000000   \n",
       "4                     0.0                         0.000000   \n",
       "\n",
       "   GoogleMetric:Bounce Rates  GoogleMetric:Exit Rates  \\\n",
       "0                       0.20                     0.20   \n",
       "1                       0.05                     0.14   \n",
       "2                       0.02                     0.05   \n",
       "3                       0.20                     0.20   \n",
       "4                       0.20                     0.20   \n",
       "\n",
       "   GoogleMetric:Page Values  SeasonalPurchase  ... SearchEngine  Zone  \\\n",
       "0                       0.0               0.0  ...          1.0   9.0   \n",
       "1                       0.0               0.0  ...          2.0   2.0   \n",
       "2                       0.0               0.0  ...          3.0   1.0   \n",
       "3                       0.0               0.4  ...          4.0   3.0   \n",
       "4                       0.0               0.0  ...          2.0   1.0   \n",
       "\n",
       "   Type of Traffic       CustomerType         Gender Cookies Setting  \\\n",
       "0              3.0  Returning_Visitor  Not Specified            Deny   \n",
       "1              4.0  Returning_Visitor         Female            Deny   \n",
       "2              4.0  Returning_Visitor         Female             ALL   \n",
       "3              3.0  Returning_Visitor           Male             ALL   \n",
       "4              5.0  Returning_Visitor           Male            Deny   \n",
       "\n",
       "       Education Marital Status WeekendPurchase Made_Purchase  \n",
       "0  Not Specified          Other             0.0         False  \n",
       "1         Others        Married             0.0         False  \n",
       "2         Others        Married             1.0         False  \n",
       "3        Diploma         Single             0.0         False  \n",
       "4        Diploma          Other             1.0         False  \n",
       "\n",
       "[5 rows x 22 columns]"
      ]
     },
     "execution_count": 6,
     "metadata": {},
     "output_type": "execute_result"
    }
   ],
   "source": [
    "train_data.head()"
   ]
  },
  {
   "cell_type": "code",
   "execution_count": 7,
   "id": "50bd1143",
   "metadata": {
    "execution": {
     "iopub.execute_input": "2023-04-03T18:07:06.280495Z",
     "iopub.status.busy": "2023-04-03T18:07:06.280031Z",
     "iopub.status.idle": "2023-04-03T18:07:06.285769Z",
     "shell.execute_reply": "2023-04-03T18:07:06.284449Z"
    },
    "papermill": {
     "duration": 0.043331,
     "end_time": "2023-04-03T18:07:06.288370",
     "exception": false,
     "start_time": "2023-04-03T18:07:06.245039",
     "status": "completed"
    },
    "tags": []
   },
   "outputs": [],
   "source": [
    "from sklearn.preprocessing import OneHotEncoder,OrdinalEncoder"
   ]
  },
  {
   "cell_type": "code",
   "execution_count": 8,
   "id": "cd8f84a5",
   "metadata": {
    "execution": {
     "iopub.execute_input": "2023-04-03T18:07:06.357736Z",
     "iopub.status.busy": "2023-04-03T18:07:06.356990Z",
     "iopub.status.idle": "2023-04-03T18:07:06.367400Z",
     "shell.execute_reply": "2023-04-03T18:07:06.366164Z"
    },
    "papermill": {
     "duration": 0.047861,
     "end_time": "2023-04-03T18:07:06.369918",
     "exception": false,
     "start_time": "2023-04-03T18:07:06.322057",
     "status": "completed"
    },
    "tags": []
   },
   "outputs": [
    {
     "data": {
      "text/plain": [
       "Others           3726\n",
       "Graduate         3691\n",
       "Diploma          3653\n",
       "Not Specified    3525\n",
       "Name: Education, dtype: int64"
      ]
     },
     "execution_count": 8,
     "metadata": {},
     "output_type": "execute_result"
    }
   ],
   "source": [
    "train_data['Education'].value_counts()"
   ]
  },
  {
   "cell_type": "code",
   "execution_count": null,
   "id": "7d0d2de7",
   "metadata": {
    "papermill": {
     "duration": 0.033708,
     "end_time": "2023-04-03T18:07:06.437478",
     "exception": false,
     "start_time": "2023-04-03T18:07:06.403770",
     "status": "completed"
    },
    "tags": []
   },
   "outputs": [],
   "source": []
  },
  {
   "cell_type": "code",
   "execution_count": null,
   "id": "e9e784aa",
   "metadata": {
    "papermill": {
     "duration": 0.03291,
     "end_time": "2023-04-03T18:07:06.503869",
     "exception": false,
     "start_time": "2023-04-03T18:07:06.470959",
     "status": "completed"
    },
    "tags": []
   },
   "outputs": [],
   "source": []
  },
  {
   "cell_type": "code",
   "execution_count": null,
   "id": "3264ef51",
   "metadata": {
    "papermill": {
     "duration": 0.032914,
     "end_time": "2023-04-03T18:07:06.570220",
     "exception": false,
     "start_time": "2023-04-03T18:07:06.537306",
     "status": "completed"
    },
    "tags": []
   },
   "outputs": [],
   "source": []
  },
  {
   "cell_type": "code",
   "execution_count": null,
   "id": "ea99cb7e",
   "metadata": {
    "papermill": {
     "duration": 0.033136,
     "end_time": "2023-04-03T18:07:06.636627",
     "exception": false,
     "start_time": "2023-04-03T18:07:06.603491",
     "status": "completed"
    },
    "tags": []
   },
   "outputs": [],
   "source": []
  },
  {
   "cell_type": "code",
   "execution_count": null,
   "id": "46379a66",
   "metadata": {
    "papermill": {
     "duration": 0.033414,
     "end_time": "2023-04-03T18:07:06.704349",
     "exception": false,
     "start_time": "2023-04-03T18:07:06.670935",
     "status": "completed"
    },
    "tags": []
   },
   "outputs": [],
   "source": []
  },
  {
   "cell_type": "code",
   "execution_count": null,
   "id": "4d2bce40",
   "metadata": {
    "papermill": {
     "duration": 0.03349,
     "end_time": "2023-04-03T18:07:06.773039",
     "exception": false,
     "start_time": "2023-04-03T18:07:06.739549",
     "status": "completed"
    },
    "tags": []
   },
   "outputs": [],
   "source": []
  },
  {
   "cell_type": "code",
   "execution_count": 9,
   "id": "dce948cc",
   "metadata": {
    "execution": {
     "iopub.execute_input": "2023-04-03T18:07:06.841659Z",
     "iopub.status.busy": "2023-04-03T18:07:06.841242Z",
     "iopub.status.idle": "2023-04-03T18:07:06.854365Z",
     "shell.execute_reply": "2023-04-03T18:07:06.853401Z"
    },
    "papermill": {
     "duration": 0.050677,
     "end_time": "2023-04-03T18:07:06.856973",
     "exception": false,
     "start_time": "2023-04-03T18:07:06.806296",
     "status": "completed"
    },
    "tags": []
   },
   "outputs": [],
   "source": [
    "floating = train_data.select_dtypes(include='float')\n",
    "obj = train_data.select_dtypes(include='object')"
   ]
  },
  {
   "cell_type": "code",
   "execution_count": 10,
   "id": "4f754f0e",
   "metadata": {
    "execution": {
     "iopub.execute_input": "2023-04-03T18:07:06.927115Z",
     "iopub.status.busy": "2023-04-03T18:07:06.926693Z",
     "iopub.status.idle": "2023-04-03T18:07:06.937301Z",
     "shell.execute_reply": "2023-04-03T18:07:06.936038Z"
    },
    "papermill": {
     "duration": 0.048749,
     "end_time": "2023-04-03T18:07:06.939858",
     "exception": false,
     "start_time": "2023-04-03T18:07:06.891109",
     "status": "completed"
    },
    "tags": []
   },
   "outputs": [],
   "source": [
    "floatingt = test_data.select_dtypes(include='float')\n",
    "objt = test_data.select_dtypes(include='object')"
   ]
  },
  {
   "cell_type": "code",
   "execution_count": 11,
   "id": "12975f2f",
   "metadata": {
    "execution": {
     "iopub.execute_input": "2023-04-03T18:07:07.009155Z",
     "iopub.status.busy": "2023-04-03T18:07:07.008700Z",
     "iopub.status.idle": "2023-04-03T18:07:07.014663Z",
     "shell.execute_reply": "2023-04-03T18:07:07.013312Z"
    },
    "papermill": {
     "duration": 0.04383,
     "end_time": "2023-04-03T18:07:07.017215",
     "exception": false,
     "start_time": "2023-04-03T18:07:06.973385",
     "status": "completed"
    },
    "tags": []
   },
   "outputs": [],
   "source": [
    "floating=pd.DataFrame(floating)\n",
    "obj=pd.DataFrame(obj)"
   ]
  },
  {
   "cell_type": "code",
   "execution_count": 12,
   "id": "f3c3b77a",
   "metadata": {
    "execution": {
     "iopub.execute_input": "2023-04-03T18:07:07.087054Z",
     "iopub.status.busy": "2023-04-03T18:07:07.086285Z",
     "iopub.status.idle": "2023-04-03T18:07:07.092428Z",
     "shell.execute_reply": "2023-04-03T18:07:07.091032Z"
    },
    "papermill": {
     "duration": 0.043634,
     "end_time": "2023-04-03T18:07:07.095137",
     "exception": false,
     "start_time": "2023-04-03T18:07:07.051503",
     "status": "completed"
    },
    "tags": []
   },
   "outputs": [],
   "source": [
    "floatingt=pd.DataFrame(floatingt)\n",
    "objt=pd.DataFrame(objt)"
   ]
  },
  {
   "cell_type": "code",
   "execution_count": 13,
   "id": "bc46c977",
   "metadata": {
    "execution": {
     "iopub.execute_input": "2023-04-03T18:07:07.164153Z",
     "iopub.status.busy": "2023-04-03T18:07:07.163003Z",
     "iopub.status.idle": "2023-04-03T18:07:07.189603Z",
     "shell.execute_reply": "2023-04-03T18:07:07.188379Z"
    },
    "papermill": {
     "duration": 0.063993,
     "end_time": "2023-04-03T18:07:07.192234",
     "exception": false,
     "start_time": "2023-04-03T18:07:07.128241",
     "status": "completed"
    },
    "tags": []
   },
   "outputs": [
    {
     "data": {
      "text/html": [
       "<div>\n",
       "<style scoped>\n",
       "    .dataframe tbody tr th:only-of-type {\n",
       "        vertical-align: middle;\n",
       "    }\n",
       "\n",
       "    .dataframe tbody tr th {\n",
       "        vertical-align: top;\n",
       "    }\n",
       "\n",
       "    .dataframe thead th {\n",
       "        text-align: right;\n",
       "    }\n",
       "</style>\n",
       "<table border=\"1\" class=\"dataframe\">\n",
       "  <thead>\n",
       "    <tr style=\"text-align: right;\">\n",
       "      <th></th>\n",
       "      <th>HomePage</th>\n",
       "      <th>HomePage_Duration</th>\n",
       "      <th>LandingPage</th>\n",
       "      <th>LandingPage_Duration</th>\n",
       "      <th>ProductDescriptionPage</th>\n",
       "      <th>ProductDescriptionPage_Duration</th>\n",
       "      <th>GoogleMetric:Bounce Rates</th>\n",
       "      <th>GoogleMetric:Exit Rates</th>\n",
       "      <th>GoogleMetric:Page Values</th>\n",
       "      <th>SeasonalPurchase</th>\n",
       "      <th>OS</th>\n",
       "      <th>SearchEngine</th>\n",
       "      <th>Zone</th>\n",
       "      <th>Type of Traffic</th>\n",
       "      <th>WeekendPurchase</th>\n",
       "    </tr>\n",
       "  </thead>\n",
       "  <tbody>\n",
       "    <tr>\n",
       "      <th>0</th>\n",
       "      <td>0.0</td>\n",
       "      <td>0.0</td>\n",
       "      <td>0.0</td>\n",
       "      <td>0.0</td>\n",
       "      <td>1.0</td>\n",
       "      <td>0.000000</td>\n",
       "      <td>0.20</td>\n",
       "      <td>0.20</td>\n",
       "      <td>0.0</td>\n",
       "      <td>0.0</td>\n",
       "      <td>4.0</td>\n",
       "      <td>1.0</td>\n",
       "      <td>9.0</td>\n",
       "      <td>3.0</td>\n",
       "      <td>0.0</td>\n",
       "    </tr>\n",
       "    <tr>\n",
       "      <th>1</th>\n",
       "      <td>0.0</td>\n",
       "      <td>0.0</td>\n",
       "      <td>0.0</td>\n",
       "      <td>0.0</td>\n",
       "      <td>2.0</td>\n",
       "      <td>2.666667</td>\n",
       "      <td>0.05</td>\n",
       "      <td>0.14</td>\n",
       "      <td>0.0</td>\n",
       "      <td>0.0</td>\n",
       "      <td>3.0</td>\n",
       "      <td>2.0</td>\n",
       "      <td>2.0</td>\n",
       "      <td>4.0</td>\n",
       "      <td>0.0</td>\n",
       "    </tr>\n",
       "    <tr>\n",
       "      <th>2</th>\n",
       "      <td>0.0</td>\n",
       "      <td>0.0</td>\n",
       "      <td>0.0</td>\n",
       "      <td>0.0</td>\n",
       "      <td>10.0</td>\n",
       "      <td>627.500000</td>\n",
       "      <td>0.02</td>\n",
       "      <td>0.05</td>\n",
       "      <td>0.0</td>\n",
       "      <td>0.0</td>\n",
       "      <td>3.0</td>\n",
       "      <td>3.0</td>\n",
       "      <td>1.0</td>\n",
       "      <td>4.0</td>\n",
       "      <td>1.0</td>\n",
       "    </tr>\n",
       "    <tr>\n",
       "      <th>3</th>\n",
       "      <td>0.0</td>\n",
       "      <td>0.0</td>\n",
       "      <td>0.0</td>\n",
       "      <td>0.0</td>\n",
       "      <td>1.0</td>\n",
       "      <td>0.000000</td>\n",
       "      <td>0.20</td>\n",
       "      <td>0.20</td>\n",
       "      <td>0.0</td>\n",
       "      <td>0.4</td>\n",
       "      <td>2.0</td>\n",
       "      <td>4.0</td>\n",
       "      <td>3.0</td>\n",
       "      <td>3.0</td>\n",
       "      <td>0.0</td>\n",
       "    </tr>\n",
       "    <tr>\n",
       "      <th>4</th>\n",
       "      <td>1.0</td>\n",
       "      <td>0.0</td>\n",
       "      <td>0.0</td>\n",
       "      <td>0.0</td>\n",
       "      <td>0.0</td>\n",
       "      <td>0.000000</td>\n",
       "      <td>0.20</td>\n",
       "      <td>0.20</td>\n",
       "      <td>0.0</td>\n",
       "      <td>0.0</td>\n",
       "      <td>1.0</td>\n",
       "      <td>2.0</td>\n",
       "      <td>1.0</td>\n",
       "      <td>5.0</td>\n",
       "      <td>1.0</td>\n",
       "    </tr>\n",
       "  </tbody>\n",
       "</table>\n",
       "</div>"
      ],
      "text/plain": [
       "   HomePage  HomePage_Duration  LandingPage  LandingPage_Duration  \\\n",
       "0       0.0                0.0          0.0                   0.0   \n",
       "1       0.0                0.0          0.0                   0.0   \n",
       "2       0.0                0.0          0.0                   0.0   \n",
       "3       0.0                0.0          0.0                   0.0   \n",
       "4       1.0                0.0          0.0                   0.0   \n",
       "\n",
       "   ProductDescriptionPage  ProductDescriptionPage_Duration  \\\n",
       "0                     1.0                         0.000000   \n",
       "1                     2.0                         2.666667   \n",
       "2                    10.0                       627.500000   \n",
       "3                     1.0                         0.000000   \n",
       "4                     0.0                         0.000000   \n",
       "\n",
       "   GoogleMetric:Bounce Rates  GoogleMetric:Exit Rates  \\\n",
       "0                       0.20                     0.20   \n",
       "1                       0.05                     0.14   \n",
       "2                       0.02                     0.05   \n",
       "3                       0.20                     0.20   \n",
       "4                       0.20                     0.20   \n",
       "\n",
       "   GoogleMetric:Page Values  SeasonalPurchase   OS  SearchEngine  Zone  \\\n",
       "0                       0.0               0.0  4.0           1.0   9.0   \n",
       "1                       0.0               0.0  3.0           2.0   2.0   \n",
       "2                       0.0               0.0  3.0           3.0   1.0   \n",
       "3                       0.0               0.4  2.0           4.0   3.0   \n",
       "4                       0.0               0.0  1.0           2.0   1.0   \n",
       "\n",
       "   Type of Traffic  WeekendPurchase  \n",
       "0              3.0              0.0  \n",
       "1              4.0              0.0  \n",
       "2              4.0              1.0  \n",
       "3              3.0              0.0  \n",
       "4              5.0              1.0  "
      ]
     },
     "execution_count": 13,
     "metadata": {},
     "output_type": "execute_result"
    }
   ],
   "source": [
    "floating.head()"
   ]
  },
  {
   "cell_type": "code",
   "execution_count": 14,
   "id": "dfd322b1",
   "metadata": {
    "execution": {
     "iopub.execute_input": "2023-04-03T18:07:07.261592Z",
     "iopub.status.busy": "2023-04-03T18:07:07.261169Z",
     "iopub.status.idle": "2023-04-03T18:07:07.270762Z",
     "shell.execute_reply": "2023-04-03T18:07:07.269441Z"
    },
    "papermill": {
     "duration": 0.047115,
     "end_time": "2023-04-03T18:07:07.273364",
     "exception": false,
     "start_time": "2023-04-03T18:07:07.226249",
     "status": "completed"
    },
    "tags": []
   },
   "outputs": [
    {
     "data": {
      "text/plain": [
       "HomePage                           153\n",
       "HomePage_Duration                  150\n",
       "LandingPage                        153\n",
       "LandingPage_Duration               135\n",
       "ProductDescriptionPage             123\n",
       "ProductDescriptionPage_Duration    167\n",
       "GoogleMetric:Bounce Rates          151\n",
       "GoogleMetric:Exit Rates            129\n",
       "GoogleMetric:Page Values           132\n",
       "SeasonalPurchase                   150\n",
       "OS                                 134\n",
       "SearchEngine                       122\n",
       "Zone                               117\n",
       "Type of Traffic                    143\n",
       "WeekendPurchase                    121\n",
       "dtype: int64"
      ]
     },
     "execution_count": 14,
     "metadata": {},
     "output_type": "execute_result"
    }
   ],
   "source": [
    "floating.isnull().sum()"
   ]
  },
  {
   "cell_type": "code",
   "execution_count": 15,
   "id": "6026bb5d",
   "metadata": {
    "execution": {
     "iopub.execute_input": "2023-04-03T18:07:07.343617Z",
     "iopub.status.busy": "2023-04-03T18:07:07.343211Z",
     "iopub.status.idle": "2023-04-03T18:07:07.352559Z",
     "shell.execute_reply": "2023-04-03T18:07:07.351509Z"
    },
    "papermill": {
     "duration": 0.047432,
     "end_time": "2023-04-03T18:07:07.355300",
     "exception": false,
     "start_time": "2023-04-03T18:07:07.307868",
     "status": "completed"
    },
    "tags": []
   },
   "outputs": [
    {
     "data": {
      "text/plain": [
       "HomePage                           51\n",
       "HomePage_Duration                  55\n",
       "LandingPage                        56\n",
       "LandingPage_Duration               75\n",
       "ProductDescriptionPage             58\n",
       "ProductDescriptionPage_Duration    63\n",
       "GoogleMetric:Bounce Rates          66\n",
       "GoogleMetric:Exit Rates            51\n",
       "GoogleMetric:Page Values           45\n",
       "SeasonalPurchase                   45\n",
       "OS                                 62\n",
       "SearchEngine                       58\n",
       "Zone                               47\n",
       "Type of Traffic                    68\n",
       "WeekendPurchase                    58\n",
       "dtype: int64"
      ]
     },
     "execution_count": 15,
     "metadata": {},
     "output_type": "execute_result"
    }
   ],
   "source": [
    "floatingt.isnull().sum()"
   ]
  },
  {
   "cell_type": "code",
   "execution_count": 16,
   "id": "880217f0",
   "metadata": {
    "execution": {
     "iopub.execute_input": "2023-04-03T18:07:07.424562Z",
     "iopub.status.busy": "2023-04-03T18:07:07.424101Z",
     "iopub.status.idle": "2023-04-03T18:07:07.455184Z",
     "shell.execute_reply": "2023-04-03T18:07:07.453948Z"
    },
    "papermill": {
     "duration": 0.069289,
     "end_time": "2023-04-03T18:07:07.458146",
     "exception": false,
     "start_time": "2023-04-03T18:07:07.388857",
     "status": "completed"
    },
    "tags": []
   },
   "outputs": [],
   "source": [
    "# t0=KNNImputer(n_neighbors=10)\n",
    "t0=SimpleImputer(strategy='most_frequent')\n",
    "floating=t0.fit_transform(floating)\n",
    "floatingt=t0.transform(floatingt)\n",
    "floating=pd.DataFrame(floating)\n",
    "floatingt=pd.DataFrame(floatingt)"
   ]
  },
  {
   "cell_type": "code",
   "execution_count": 17,
   "id": "c9e7f195",
   "metadata": {
    "execution": {
     "iopub.execute_input": "2023-04-03T18:07:07.528330Z",
     "iopub.status.busy": "2023-04-03T18:07:07.527885Z",
     "iopub.status.idle": "2023-04-03T18:07:07.537993Z",
     "shell.execute_reply": "2023-04-03T18:07:07.536879Z"
    },
    "papermill": {
     "duration": 0.048582,
     "end_time": "2023-04-03T18:07:07.540486",
     "exception": false,
     "start_time": "2023-04-03T18:07:07.491904",
     "status": "completed"
    },
    "tags": []
   },
   "outputs": [
    {
     "data": {
      "text/plain": [
       "0     0\n",
       "1     0\n",
       "2     0\n",
       "3     0\n",
       "4     0\n",
       "5     0\n",
       "6     0\n",
       "7     0\n",
       "8     0\n",
       "9     0\n",
       "10    0\n",
       "11    0\n",
       "12    0\n",
       "13    0\n",
       "14    0\n",
       "dtype: int64"
      ]
     },
     "execution_count": 17,
     "metadata": {},
     "output_type": "execute_result"
    }
   ],
   "source": [
    "floating.isnull().sum()"
   ]
  },
  {
   "cell_type": "code",
   "execution_count": 18,
   "id": "679edc5c",
   "metadata": {
    "execution": {
     "iopub.execute_input": "2023-04-03T18:07:07.611077Z",
     "iopub.status.busy": "2023-04-03T18:07:07.610669Z",
     "iopub.status.idle": "2023-04-03T18:07:07.620549Z",
     "shell.execute_reply": "2023-04-03T18:07:07.619445Z"
    },
    "papermill": {
     "duration": 0.047625,
     "end_time": "2023-04-03T18:07:07.622843",
     "exception": false,
     "start_time": "2023-04-03T18:07:07.575218",
     "status": "completed"
    },
    "tags": []
   },
   "outputs": [
    {
     "data": {
      "text/plain": [
       "0     0\n",
       "1     0\n",
       "2     0\n",
       "3     0\n",
       "4     0\n",
       "5     0\n",
       "6     0\n",
       "7     0\n",
       "8     0\n",
       "9     0\n",
       "10    0\n",
       "11    0\n",
       "12    0\n",
       "13    0\n",
       "14    0\n",
       "dtype: int64"
      ]
     },
     "execution_count": 18,
     "metadata": {},
     "output_type": "execute_result"
    }
   ],
   "source": [
    "floatingt.isnull().sum()"
   ]
  },
  {
   "cell_type": "code",
   "execution_count": 19,
   "id": "2c131b00",
   "metadata": {
    "execution": {
     "iopub.execute_input": "2023-04-03T18:07:07.693624Z",
     "iopub.status.busy": "2023-04-03T18:07:07.693181Z",
     "iopub.status.idle": "2023-04-03T18:07:07.721227Z",
     "shell.execute_reply": "2023-04-03T18:07:07.720287Z"
    },
    "papermill": {
     "duration": 0.06646,
     "end_time": "2023-04-03T18:07:07.723952",
     "exception": false,
     "start_time": "2023-04-03T18:07:07.657492",
     "status": "completed"
    },
    "tags": []
   },
   "outputs": [],
   "source": [
    "t00=SimpleImputer(strategy='most_frequent')\n",
    "obj=t00.fit_transform(obj)\n",
    "objt=t00.transform(objt)\n",
    "obj=pd.DataFrame(obj)\n",
    "objt=pd.DataFrame(objt)"
   ]
  },
  {
   "cell_type": "code",
   "execution_count": 20,
   "id": "796bd2b1",
   "metadata": {
    "execution": {
     "iopub.execute_input": "2023-04-03T18:07:07.795057Z",
     "iopub.status.busy": "2023-04-03T18:07:07.794322Z",
     "iopub.status.idle": "2023-04-03T18:07:07.802793Z",
     "shell.execute_reply": "2023-04-03T18:07:07.801520Z"
    },
    "papermill": {
     "duration": 0.046953,
     "end_time": "2023-04-03T18:07:07.805508",
     "exception": false,
     "start_time": "2023-04-03T18:07:07.758555",
     "status": "completed"
    },
    "tags": []
   },
   "outputs": [],
   "source": [
    "now=pd.concat([floating,obj],axis=1)\n",
    "nowt=pd.concat([floatingt,objt],axis=1)"
   ]
  },
  {
   "cell_type": "code",
   "execution_count": null,
   "id": "88f64d7c",
   "metadata": {
    "papermill": {
     "duration": 0.034614,
     "end_time": "2023-04-03T18:07:07.874410",
     "exception": false,
     "start_time": "2023-04-03T18:07:07.839796",
     "status": "completed"
    },
    "tags": []
   },
   "outputs": [],
   "source": []
  },
  {
   "cell_type": "code",
   "execution_count": null,
   "id": "a5b8ed8c",
   "metadata": {
    "papermill": {
     "duration": 0.034388,
     "end_time": "2023-04-03T18:07:07.943360",
     "exception": false,
     "start_time": "2023-04-03T18:07:07.908972",
     "status": "completed"
    },
    "tags": []
   },
   "outputs": [],
   "source": []
  },
  {
   "cell_type": "code",
   "execution_count": 21,
   "id": "d77a5413",
   "metadata": {
    "execution": {
     "iopub.execute_input": "2023-04-03T18:07:08.014829Z",
     "iopub.status.busy": "2023-04-03T18:07:08.014385Z",
     "iopub.status.idle": "2023-04-03T18:07:08.029126Z",
     "shell.execute_reply": "2023-04-03T18:07:08.028267Z"
    },
    "papermill": {
     "duration": 0.053507,
     "end_time": "2023-04-03T18:07:08.031576",
     "exception": false,
     "start_time": "2023-04-03T18:07:07.978069",
     "status": "completed"
    },
    "tags": []
   },
   "outputs": [
    {
     "data": {
      "text/plain": [
       "0     0\n",
       "1     0\n",
       "2     0\n",
       "3     0\n",
       "4     0\n",
       "5     0\n",
       "6     0\n",
       "7     0\n",
       "8     0\n",
       "9     0\n",
       "10    0\n",
       "11    0\n",
       "12    0\n",
       "13    0\n",
       "14    0\n",
       "0     0\n",
       "1     0\n",
       "2     0\n",
       "3     0\n",
       "4     0\n",
       "5     0\n",
       "dtype: int64"
      ]
     },
     "execution_count": 21,
     "metadata": {},
     "output_type": "execute_result"
    }
   ],
   "source": [
    "now.isnull().sum()"
   ]
  },
  {
   "cell_type": "code",
   "execution_count": 22,
   "id": "7bc5c2e2",
   "metadata": {
    "execution": {
     "iopub.execute_input": "2023-04-03T18:07:08.104211Z",
     "iopub.status.busy": "2023-04-03T18:07:08.103035Z",
     "iopub.status.idle": "2023-04-03T18:07:08.115266Z",
     "shell.execute_reply": "2023-04-03T18:07:08.113738Z"
    },
    "papermill": {
     "duration": 0.051583,
     "end_time": "2023-04-03T18:07:08.118429",
     "exception": false,
     "start_time": "2023-04-03T18:07:08.066846",
     "status": "completed"
    },
    "tags": []
   },
   "outputs": [
    {
     "data": {
      "text/plain": [
       "0     0\n",
       "1     0\n",
       "2     0\n",
       "3     0\n",
       "4     0\n",
       "5     0\n",
       "6     0\n",
       "7     0\n",
       "8     0\n",
       "9     0\n",
       "10    0\n",
       "11    0\n",
       "12    0\n",
       "13    0\n",
       "14    0\n",
       "0     0\n",
       "1     0\n",
       "2     0\n",
       "3     0\n",
       "4     0\n",
       "5     0\n",
       "dtype: int64"
      ]
     },
     "execution_count": 22,
     "metadata": {},
     "output_type": "execute_result"
    }
   ],
   "source": [
    "nowt.isnull().sum()"
   ]
  },
  {
   "cell_type": "code",
   "execution_count": 23,
   "id": "1a89dbea",
   "metadata": {
    "execution": {
     "iopub.execute_input": "2023-04-03T18:07:08.190767Z",
     "iopub.status.busy": "2023-04-03T18:07:08.190022Z",
     "iopub.status.idle": "2023-04-03T18:07:08.218037Z",
     "shell.execute_reply": "2023-04-03T18:07:08.216644Z"
    },
    "papermill": {
     "duration": 0.066961,
     "end_time": "2023-04-03T18:07:08.220923",
     "exception": false,
     "start_time": "2023-04-03T18:07:08.153962",
     "status": "completed"
    },
    "tags": []
   },
   "outputs": [
    {
     "data": {
      "text/html": [
       "<div>\n",
       "<style scoped>\n",
       "    .dataframe tbody tr th:only-of-type {\n",
       "        vertical-align: middle;\n",
       "    }\n",
       "\n",
       "    .dataframe tbody tr th {\n",
       "        vertical-align: top;\n",
       "    }\n",
       "\n",
       "    .dataframe thead th {\n",
       "        text-align: right;\n",
       "    }\n",
       "</style>\n",
       "<table border=\"1\" class=\"dataframe\">\n",
       "  <thead>\n",
       "    <tr style=\"text-align: right;\">\n",
       "      <th></th>\n",
       "      <th>0</th>\n",
       "      <th>1</th>\n",
       "      <th>2</th>\n",
       "      <th>3</th>\n",
       "      <th>4</th>\n",
       "      <th>5</th>\n",
       "      <th>6</th>\n",
       "      <th>7</th>\n",
       "      <th>8</th>\n",
       "      <th>9</th>\n",
       "      <th>...</th>\n",
       "      <th>11</th>\n",
       "      <th>12</th>\n",
       "      <th>13</th>\n",
       "      <th>14</th>\n",
       "      <th>0</th>\n",
       "      <th>1</th>\n",
       "      <th>2</th>\n",
       "      <th>3</th>\n",
       "      <th>4</th>\n",
       "      <th>5</th>\n",
       "    </tr>\n",
       "  </thead>\n",
       "  <tbody>\n",
       "    <tr>\n",
       "      <th>0</th>\n",
       "      <td>0.0</td>\n",
       "      <td>0.0</td>\n",
       "      <td>0.0</td>\n",
       "      <td>0.0</td>\n",
       "      <td>1.0</td>\n",
       "      <td>0.000000</td>\n",
       "      <td>0.20</td>\n",
       "      <td>0.20</td>\n",
       "      <td>0.0</td>\n",
       "      <td>0.0</td>\n",
       "      <td>...</td>\n",
       "      <td>1.0</td>\n",
       "      <td>9.0</td>\n",
       "      <td>3.0</td>\n",
       "      <td>0.0</td>\n",
       "      <td>Feb</td>\n",
       "      <td>Returning_Visitor</td>\n",
       "      <td>Not Specified</td>\n",
       "      <td>Deny</td>\n",
       "      <td>Not Specified</td>\n",
       "      <td>Other</td>\n",
       "    </tr>\n",
       "    <tr>\n",
       "      <th>1</th>\n",
       "      <td>0.0</td>\n",
       "      <td>0.0</td>\n",
       "      <td>0.0</td>\n",
       "      <td>0.0</td>\n",
       "      <td>2.0</td>\n",
       "      <td>2.666667</td>\n",
       "      <td>0.05</td>\n",
       "      <td>0.14</td>\n",
       "      <td>0.0</td>\n",
       "      <td>0.0</td>\n",
       "      <td>...</td>\n",
       "      <td>2.0</td>\n",
       "      <td>2.0</td>\n",
       "      <td>4.0</td>\n",
       "      <td>0.0</td>\n",
       "      <td>Feb</td>\n",
       "      <td>Returning_Visitor</td>\n",
       "      <td>Female</td>\n",
       "      <td>Deny</td>\n",
       "      <td>Others</td>\n",
       "      <td>Married</td>\n",
       "    </tr>\n",
       "    <tr>\n",
       "      <th>2</th>\n",
       "      <td>0.0</td>\n",
       "      <td>0.0</td>\n",
       "      <td>0.0</td>\n",
       "      <td>0.0</td>\n",
       "      <td>10.0</td>\n",
       "      <td>627.500000</td>\n",
       "      <td>0.02</td>\n",
       "      <td>0.05</td>\n",
       "      <td>0.0</td>\n",
       "      <td>0.0</td>\n",
       "      <td>...</td>\n",
       "      <td>3.0</td>\n",
       "      <td>1.0</td>\n",
       "      <td>4.0</td>\n",
       "      <td>1.0</td>\n",
       "      <td>Feb</td>\n",
       "      <td>Returning_Visitor</td>\n",
       "      <td>Female</td>\n",
       "      <td>ALL</td>\n",
       "      <td>Others</td>\n",
       "      <td>Married</td>\n",
       "    </tr>\n",
       "    <tr>\n",
       "      <th>3</th>\n",
       "      <td>0.0</td>\n",
       "      <td>0.0</td>\n",
       "      <td>0.0</td>\n",
       "      <td>0.0</td>\n",
       "      <td>1.0</td>\n",
       "      <td>0.000000</td>\n",
       "      <td>0.20</td>\n",
       "      <td>0.20</td>\n",
       "      <td>0.0</td>\n",
       "      <td>0.4</td>\n",
       "      <td>...</td>\n",
       "      <td>4.0</td>\n",
       "      <td>3.0</td>\n",
       "      <td>3.0</td>\n",
       "      <td>0.0</td>\n",
       "      <td>Feb</td>\n",
       "      <td>Returning_Visitor</td>\n",
       "      <td>Male</td>\n",
       "      <td>ALL</td>\n",
       "      <td>Diploma</td>\n",
       "      <td>Single</td>\n",
       "    </tr>\n",
       "    <tr>\n",
       "      <th>4</th>\n",
       "      <td>1.0</td>\n",
       "      <td>0.0</td>\n",
       "      <td>0.0</td>\n",
       "      <td>0.0</td>\n",
       "      <td>0.0</td>\n",
       "      <td>0.000000</td>\n",
       "      <td>0.20</td>\n",
       "      <td>0.20</td>\n",
       "      <td>0.0</td>\n",
       "      <td>0.0</td>\n",
       "      <td>...</td>\n",
       "      <td>2.0</td>\n",
       "      <td>1.0</td>\n",
       "      <td>5.0</td>\n",
       "      <td>1.0</td>\n",
       "      <td>Feb</td>\n",
       "      <td>Returning_Visitor</td>\n",
       "      <td>Male</td>\n",
       "      <td>Deny</td>\n",
       "      <td>Diploma</td>\n",
       "      <td>Other</td>\n",
       "    </tr>\n",
       "  </tbody>\n",
       "</table>\n",
       "<p>5 rows × 21 columns</p>\n",
       "</div>"
      ],
      "text/plain": [
       "    0    1    2    3     4           5     6     7    8    9   ...   11   12  \\\n",
       "0  0.0  0.0  0.0  0.0   1.0    0.000000  0.20  0.20  0.0  0.0  ...  1.0  9.0   \n",
       "1  0.0  0.0  0.0  0.0   2.0    2.666667  0.05  0.14  0.0  0.0  ...  2.0  2.0   \n",
       "2  0.0  0.0  0.0  0.0  10.0  627.500000  0.02  0.05  0.0  0.0  ...  3.0  1.0   \n",
       "3  0.0  0.0  0.0  0.0   1.0    0.000000  0.20  0.20  0.0  0.4  ...  4.0  3.0   \n",
       "4  1.0  0.0  0.0  0.0   0.0    0.000000  0.20  0.20  0.0  0.0  ...  2.0  1.0   \n",
       "\n",
       "    13   14   0                  1              2     3              4   \\\n",
       "0  3.0  0.0  Feb  Returning_Visitor  Not Specified  Deny  Not Specified   \n",
       "1  4.0  0.0  Feb  Returning_Visitor         Female  Deny         Others   \n",
       "2  4.0  1.0  Feb  Returning_Visitor         Female   ALL         Others   \n",
       "3  3.0  0.0  Feb  Returning_Visitor           Male   ALL        Diploma   \n",
       "4  5.0  1.0  Feb  Returning_Visitor           Male  Deny        Diploma   \n",
       "\n",
       "        5   \n",
       "0    Other  \n",
       "1  Married  \n",
       "2  Married  \n",
       "3   Single  \n",
       "4    Other  \n",
       "\n",
       "[5 rows x 21 columns]"
      ]
     },
     "execution_count": 23,
     "metadata": {},
     "output_type": "execute_result"
    }
   ],
   "source": [
    "now.head()"
   ]
  },
  {
   "cell_type": "code",
   "execution_count": 24,
   "id": "e094d310",
   "metadata": {
    "execution": {
     "iopub.execute_input": "2023-04-03T18:07:08.293116Z",
     "iopub.status.busy": "2023-04-03T18:07:08.292430Z",
     "iopub.status.idle": "2023-04-03T18:07:08.298177Z",
     "shell.execute_reply": "2023-04-03T18:07:08.297236Z"
    },
    "papermill": {
     "duration": 0.045029,
     "end_time": "2023-04-03T18:07:08.300752",
     "exception": false,
     "start_time": "2023-04-03T18:07:08.255723",
     "status": "completed"
    },
    "tags": []
   },
   "outputs": [],
   "source": [
    "y_train = train_data['Made_Purchase']\n",
    "del train_data['Made_Purchase']"
   ]
  },
  {
   "cell_type": "code",
   "execution_count": 25,
   "id": "3b7cd644",
   "metadata": {
    "execution": {
     "iopub.execute_input": "2023-04-03T18:07:08.372174Z",
     "iopub.status.busy": "2023-04-03T18:07:08.371489Z",
     "iopub.status.idle": "2023-04-03T18:07:08.377970Z",
     "shell.execute_reply": "2023-04-03T18:07:08.377035Z"
    },
    "papermill": {
     "duration": 0.045191,
     "end_time": "2023-04-03T18:07:08.380373",
     "exception": false,
     "start_time": "2023-04-03T18:07:08.335182",
     "status": "completed"
    },
    "tags": []
   },
   "outputs": [],
   "source": [
    "now.columns=['HomePage', 'HomePage_Duration', 'LandingPage', 'LandingPage_Duration',\n",
    "       'ProductDescriptionPage', 'ProductDescriptionPage_Duration',\n",
    "       'GoogleMetric:Bounce Rates', 'GoogleMetric:Exit Rates',\n",
    "       'GoogleMetric:Page Values', 'SeasonalPurchase', 'WeekendPurchase',\n",
    "        'OS', 'SearchEngine', 'Zone',\n",
    "       'Type of Traffic','Month_SeasonalPurchase', 'CustomerType', 'Gender', 'Cookies Setting',\n",
    "       'Education', 'Marital Status']"
   ]
  },
  {
   "cell_type": "code",
   "execution_count": 26,
   "id": "5de4c358",
   "metadata": {
    "execution": {
     "iopub.execute_input": "2023-04-03T18:07:08.451843Z",
     "iopub.status.busy": "2023-04-03T18:07:08.451119Z",
     "iopub.status.idle": "2023-04-03T18:07:08.457281Z",
     "shell.execute_reply": "2023-04-03T18:07:08.456399Z"
    },
    "papermill": {
     "duration": 0.044674,
     "end_time": "2023-04-03T18:07:08.459719",
     "exception": false,
     "start_time": "2023-04-03T18:07:08.415045",
     "status": "completed"
    },
    "tags": []
   },
   "outputs": [],
   "source": [
    "nowt.columns=['HomePage', 'HomePage_Duration', 'LandingPage', 'LandingPage_Duration',\n",
    "       'ProductDescriptionPage', 'ProductDescriptionPage_Duration',\n",
    "       'GoogleMetric:Bounce Rates', 'GoogleMetric:Exit Rates',\n",
    "       'GoogleMetric:Page Values', 'SeasonalPurchase', 'WeekendPurchase',\n",
    "        'OS', 'SearchEngine', 'Zone',\n",
    "       'Type of Traffic','Month_SeasonalPurchase', 'CustomerType', 'Gender', 'Cookies Setting',\n",
    "       'Education', 'Marital Status']"
   ]
  },
  {
   "cell_type": "code",
   "execution_count": 27,
   "id": "73ae1303",
   "metadata": {
    "execution": {
     "iopub.execute_input": "2023-04-03T18:07:08.531292Z",
     "iopub.status.busy": "2023-04-03T18:07:08.530848Z",
     "iopub.status.idle": "2023-04-03T18:07:08.538731Z",
     "shell.execute_reply": "2023-04-03T18:07:08.537793Z"
    },
    "papermill": {
     "duration": 0.048556,
     "end_time": "2023-04-03T18:07:08.542657",
     "exception": false,
     "start_time": "2023-04-03T18:07:08.494101",
     "status": "completed"
    },
    "tags": []
   },
   "outputs": [
    {
     "data": {
      "text/plain": [
       "Index(['HomePage', 'HomePage_Duration', 'LandingPage', 'LandingPage_Duration',\n",
       "       'ProductDescriptionPage', 'ProductDescriptionPage_Duration',\n",
       "       'GoogleMetric:Bounce Rates', 'GoogleMetric:Exit Rates',\n",
       "       'GoogleMetric:Page Values', 'SeasonalPurchase',\n",
       "       'Month_SeasonalPurchase', 'OS', 'SearchEngine', 'Zone',\n",
       "       'Type of Traffic', 'CustomerType', 'Gender', 'Cookies Setting',\n",
       "       'Education', 'Marital Status', 'WeekendPurchase'],\n",
       "      dtype='object')"
      ]
     },
     "execution_count": 27,
     "metadata": {},
     "output_type": "execute_result"
    }
   ],
   "source": [
    "train_data.columns"
   ]
  },
  {
   "cell_type": "code",
   "execution_count": null,
   "id": "331b5026",
   "metadata": {
    "papermill": {
     "duration": 0.034566,
     "end_time": "2023-04-03T18:07:08.614294",
     "exception": false,
     "start_time": "2023-04-03T18:07:08.579728",
     "status": "completed"
    },
    "tags": []
   },
   "outputs": [],
   "source": []
  },
  {
   "cell_type": "code",
   "execution_count": 28,
   "id": "7767b4da",
   "metadata": {
    "execution": {
     "iopub.execute_input": "2023-04-03T18:07:08.688145Z",
     "iopub.status.busy": "2023-04-03T18:07:08.687363Z",
     "iopub.status.idle": "2023-04-03T18:07:08.707716Z",
     "shell.execute_reply": "2023-04-03T18:07:08.705960Z"
    },
    "papermill": {
     "duration": 0.060824,
     "end_time": "2023-04-03T18:07:08.710752",
     "exception": false,
     "start_time": "2023-04-03T18:07:08.649928",
     "status": "completed"
    },
    "tags": []
   },
   "outputs": [
    {
     "name": "stdout",
     "output_type": "stream",
     "text": [
      "<class 'pandas.core.frame.DataFrame'>\n",
      "RangeIndex: 14731 entries, 0 to 14730\n",
      "Data columns (total 21 columns):\n",
      " #   Column                           Non-Null Count  Dtype  \n",
      "---  ------                           --------------  -----  \n",
      " 0   HomePage                         14731 non-null  float64\n",
      " 1   HomePage_Duration                14731 non-null  float64\n",
      " 2   LandingPage                      14731 non-null  float64\n",
      " 3   LandingPage_Duration             14731 non-null  float64\n",
      " 4   ProductDescriptionPage           14731 non-null  float64\n",
      " 5   ProductDescriptionPage_Duration  14731 non-null  float64\n",
      " 6   GoogleMetric:Bounce Rates        14731 non-null  float64\n",
      " 7   GoogleMetric:Exit Rates          14731 non-null  float64\n",
      " 8   GoogleMetric:Page Values         14731 non-null  float64\n",
      " 9   SeasonalPurchase                 14731 non-null  float64\n",
      " 10  WeekendPurchase                  14731 non-null  float64\n",
      " 11  OS                               14731 non-null  float64\n",
      " 12  SearchEngine                     14731 non-null  float64\n",
      " 13  Zone                             14731 non-null  float64\n",
      " 14  Type of Traffic                  14731 non-null  float64\n",
      " 15  Month_SeasonalPurchase           14731 non-null  object \n",
      " 16  CustomerType                     14731 non-null  object \n",
      " 17  Gender                           14731 non-null  object \n",
      " 18  Cookies Setting                  14731 non-null  object \n",
      " 19  Education                        14731 non-null  object \n",
      " 20  Marital Status                   14731 non-null  object \n",
      "dtypes: float64(15), object(6)\n",
      "memory usage: 2.4+ MB\n"
     ]
    }
   ],
   "source": [
    "now.info()"
   ]
  },
  {
   "cell_type": "code",
   "execution_count": 29,
   "id": "d93c240c",
   "metadata": {
    "execution": {
     "iopub.execute_input": "2023-04-03T18:07:08.783893Z",
     "iopub.status.busy": "2023-04-03T18:07:08.783131Z",
     "iopub.status.idle": "2023-04-03T18:07:08.812245Z",
     "shell.execute_reply": "2023-04-03T18:07:08.810724Z"
    },
    "papermill": {
     "duration": 0.068417,
     "end_time": "2023-04-03T18:07:08.814903",
     "exception": false,
     "start_time": "2023-04-03T18:07:08.746486",
     "status": "completed"
    },
    "tags": []
   },
   "outputs": [
    {
     "data": {
      "text/html": [
       "<div>\n",
       "<style scoped>\n",
       "    .dataframe tbody tr th:only-of-type {\n",
       "        vertical-align: middle;\n",
       "    }\n",
       "\n",
       "    .dataframe tbody tr th {\n",
       "        vertical-align: top;\n",
       "    }\n",
       "\n",
       "    .dataframe thead th {\n",
       "        text-align: right;\n",
       "    }\n",
       "</style>\n",
       "<table border=\"1\" class=\"dataframe\">\n",
       "  <thead>\n",
       "    <tr style=\"text-align: right;\">\n",
       "      <th></th>\n",
       "      <th>HomePage</th>\n",
       "      <th>HomePage_Duration</th>\n",
       "      <th>LandingPage</th>\n",
       "      <th>LandingPage_Duration</th>\n",
       "      <th>ProductDescriptionPage</th>\n",
       "      <th>ProductDescriptionPage_Duration</th>\n",
       "      <th>GoogleMetric:Bounce Rates</th>\n",
       "      <th>GoogleMetric:Exit Rates</th>\n",
       "      <th>GoogleMetric:Page Values</th>\n",
       "      <th>SeasonalPurchase</th>\n",
       "      <th>...</th>\n",
       "      <th>OS</th>\n",
       "      <th>SearchEngine</th>\n",
       "      <th>Zone</th>\n",
       "      <th>Type of Traffic</th>\n",
       "      <th>Month_SeasonalPurchase</th>\n",
       "      <th>CustomerType</th>\n",
       "      <th>Gender</th>\n",
       "      <th>Cookies Setting</th>\n",
       "      <th>Education</th>\n",
       "      <th>Marital Status</th>\n",
       "    </tr>\n",
       "  </thead>\n",
       "  <tbody>\n",
       "    <tr>\n",
       "      <th>0</th>\n",
       "      <td>0.0</td>\n",
       "      <td>0.0</td>\n",
       "      <td>0.0</td>\n",
       "      <td>0.0</td>\n",
       "      <td>1.0</td>\n",
       "      <td>0.000000</td>\n",
       "      <td>0.20</td>\n",
       "      <td>0.20</td>\n",
       "      <td>0.0</td>\n",
       "      <td>0.0</td>\n",
       "      <td>...</td>\n",
       "      <td>1.0</td>\n",
       "      <td>9.0</td>\n",
       "      <td>3.0</td>\n",
       "      <td>0.0</td>\n",
       "      <td>Feb</td>\n",
       "      <td>Returning_Visitor</td>\n",
       "      <td>Not Specified</td>\n",
       "      <td>Deny</td>\n",
       "      <td>Not Specified</td>\n",
       "      <td>Other</td>\n",
       "    </tr>\n",
       "    <tr>\n",
       "      <th>1</th>\n",
       "      <td>0.0</td>\n",
       "      <td>0.0</td>\n",
       "      <td>0.0</td>\n",
       "      <td>0.0</td>\n",
       "      <td>2.0</td>\n",
       "      <td>2.666667</td>\n",
       "      <td>0.05</td>\n",
       "      <td>0.14</td>\n",
       "      <td>0.0</td>\n",
       "      <td>0.0</td>\n",
       "      <td>...</td>\n",
       "      <td>2.0</td>\n",
       "      <td>2.0</td>\n",
       "      <td>4.0</td>\n",
       "      <td>0.0</td>\n",
       "      <td>Feb</td>\n",
       "      <td>Returning_Visitor</td>\n",
       "      <td>Female</td>\n",
       "      <td>Deny</td>\n",
       "      <td>Others</td>\n",
       "      <td>Married</td>\n",
       "    </tr>\n",
       "    <tr>\n",
       "      <th>2</th>\n",
       "      <td>0.0</td>\n",
       "      <td>0.0</td>\n",
       "      <td>0.0</td>\n",
       "      <td>0.0</td>\n",
       "      <td>10.0</td>\n",
       "      <td>627.500000</td>\n",
       "      <td>0.02</td>\n",
       "      <td>0.05</td>\n",
       "      <td>0.0</td>\n",
       "      <td>0.0</td>\n",
       "      <td>...</td>\n",
       "      <td>3.0</td>\n",
       "      <td>1.0</td>\n",
       "      <td>4.0</td>\n",
       "      <td>1.0</td>\n",
       "      <td>Feb</td>\n",
       "      <td>Returning_Visitor</td>\n",
       "      <td>Female</td>\n",
       "      <td>ALL</td>\n",
       "      <td>Others</td>\n",
       "      <td>Married</td>\n",
       "    </tr>\n",
       "    <tr>\n",
       "      <th>3</th>\n",
       "      <td>0.0</td>\n",
       "      <td>0.0</td>\n",
       "      <td>0.0</td>\n",
       "      <td>0.0</td>\n",
       "      <td>1.0</td>\n",
       "      <td>0.000000</td>\n",
       "      <td>0.20</td>\n",
       "      <td>0.20</td>\n",
       "      <td>0.0</td>\n",
       "      <td>0.4</td>\n",
       "      <td>...</td>\n",
       "      <td>4.0</td>\n",
       "      <td>3.0</td>\n",
       "      <td>3.0</td>\n",
       "      <td>0.0</td>\n",
       "      <td>Feb</td>\n",
       "      <td>Returning_Visitor</td>\n",
       "      <td>Male</td>\n",
       "      <td>ALL</td>\n",
       "      <td>Diploma</td>\n",
       "      <td>Single</td>\n",
       "    </tr>\n",
       "    <tr>\n",
       "      <th>4</th>\n",
       "      <td>1.0</td>\n",
       "      <td>0.0</td>\n",
       "      <td>0.0</td>\n",
       "      <td>0.0</td>\n",
       "      <td>0.0</td>\n",
       "      <td>0.000000</td>\n",
       "      <td>0.20</td>\n",
       "      <td>0.20</td>\n",
       "      <td>0.0</td>\n",
       "      <td>0.0</td>\n",
       "      <td>...</td>\n",
       "      <td>2.0</td>\n",
       "      <td>1.0</td>\n",
       "      <td>5.0</td>\n",
       "      <td>1.0</td>\n",
       "      <td>Feb</td>\n",
       "      <td>Returning_Visitor</td>\n",
       "      <td>Male</td>\n",
       "      <td>Deny</td>\n",
       "      <td>Diploma</td>\n",
       "      <td>Other</td>\n",
       "    </tr>\n",
       "  </tbody>\n",
       "</table>\n",
       "<p>5 rows × 21 columns</p>\n",
       "</div>"
      ],
      "text/plain": [
       "   HomePage  HomePage_Duration  LandingPage  LandingPage_Duration  \\\n",
       "0       0.0                0.0          0.0                   0.0   \n",
       "1       0.0                0.0          0.0                   0.0   \n",
       "2       0.0                0.0          0.0                   0.0   \n",
       "3       0.0                0.0          0.0                   0.0   \n",
       "4       1.0                0.0          0.0                   0.0   \n",
       "\n",
       "   ProductDescriptionPage  ProductDescriptionPage_Duration  \\\n",
       "0                     1.0                         0.000000   \n",
       "1                     2.0                         2.666667   \n",
       "2                    10.0                       627.500000   \n",
       "3                     1.0                         0.000000   \n",
       "4                     0.0                         0.000000   \n",
       "\n",
       "   GoogleMetric:Bounce Rates  GoogleMetric:Exit Rates  \\\n",
       "0                       0.20                     0.20   \n",
       "1                       0.05                     0.14   \n",
       "2                       0.02                     0.05   \n",
       "3                       0.20                     0.20   \n",
       "4                       0.20                     0.20   \n",
       "\n",
       "   GoogleMetric:Page Values  SeasonalPurchase  ...   OS  SearchEngine  Zone  \\\n",
       "0                       0.0               0.0  ...  1.0           9.0   3.0   \n",
       "1                       0.0               0.0  ...  2.0           2.0   4.0   \n",
       "2                       0.0               0.0  ...  3.0           1.0   4.0   \n",
       "3                       0.0               0.4  ...  4.0           3.0   3.0   \n",
       "4                       0.0               0.0  ...  2.0           1.0   5.0   \n",
       "\n",
       "   Type of Traffic  Month_SeasonalPurchase       CustomerType         Gender  \\\n",
       "0              0.0                     Feb  Returning_Visitor  Not Specified   \n",
       "1              0.0                     Feb  Returning_Visitor         Female   \n",
       "2              1.0                     Feb  Returning_Visitor         Female   \n",
       "3              0.0                     Feb  Returning_Visitor           Male   \n",
       "4              1.0                     Feb  Returning_Visitor           Male   \n",
       "\n",
       "  Cookies Setting      Education Marital Status  \n",
       "0            Deny  Not Specified          Other  \n",
       "1            Deny         Others        Married  \n",
       "2             ALL         Others        Married  \n",
       "3             ALL        Diploma         Single  \n",
       "4            Deny        Diploma          Other  \n",
       "\n",
       "[5 rows x 21 columns]"
      ]
     },
     "execution_count": 29,
     "metadata": {},
     "output_type": "execute_result"
    }
   ],
   "source": [
    "now.head()"
   ]
  },
  {
   "cell_type": "code",
   "execution_count": 30,
   "id": "65ac0aad",
   "metadata": {
    "execution": {
     "iopub.execute_input": "2023-04-03T18:07:08.890447Z",
     "iopub.status.busy": "2023-04-03T18:07:08.890013Z",
     "iopub.status.idle": "2023-04-03T18:07:08.895524Z",
     "shell.execute_reply": "2023-04-03T18:07:08.894584Z"
    },
    "papermill": {
     "duration": 0.047215,
     "end_time": "2023-04-03T18:07:08.898073",
     "exception": false,
     "start_time": "2023-04-03T18:07:08.850858",
     "status": "completed"
    },
    "tags": []
   },
   "outputs": [],
   "source": [
    "trns= ColumnTransformer(transformers=[('t1',OrdinalEncoder(categories=[['Others','Not Specified','Diploma','Graduate']]),['Education']),('t2',OneHotEncoder(sparse=False,drop='first'),['Month_SeasonalPurchase','CustomerType','Gender', 'Cookies Setting','Marital Status' ])],remainder='passthrough')"
   ]
  },
  {
   "cell_type": "code",
   "execution_count": 31,
   "id": "a7ebd62f",
   "metadata": {
    "execution": {
     "iopub.execute_input": "2023-04-03T18:07:08.971648Z",
     "iopub.status.busy": "2023-04-03T18:07:08.970766Z",
     "iopub.status.idle": "2023-04-03T18:07:08.981086Z",
     "shell.execute_reply": "2023-04-03T18:07:08.979691Z"
    },
    "papermill": {
     "duration": 0.050619,
     "end_time": "2023-04-03T18:07:08.983930",
     "exception": false,
     "start_time": "2023-04-03T18:07:08.933311",
     "status": "completed"
    },
    "tags": []
   },
   "outputs": [
    {
     "data": {
      "text/plain": [
       "Other      5082\n",
       "Single     4919\n",
       "Married    4730\n",
       "Name: Marital Status, dtype: int64"
      ]
     },
     "execution_count": 31,
     "metadata": {},
     "output_type": "execute_result"
    }
   ],
   "source": [
    "now['Marital Status'].value_counts()"
   ]
  },
  {
   "cell_type": "code",
   "execution_count": 32,
   "id": "8c062857",
   "metadata": {
    "execution": {
     "iopub.execute_input": "2023-04-03T18:07:09.057305Z",
     "iopub.status.busy": "2023-04-03T18:07:09.056846Z",
     "iopub.status.idle": "2023-04-03T18:07:09.067516Z",
     "shell.execute_reply": "2023-04-03T18:07:09.066426Z"
    },
    "papermill": {
     "duration": 0.050272,
     "end_time": "2023-04-03T18:07:09.070161",
     "exception": false,
     "start_time": "2023-04-03T18:07:09.019889",
     "status": "completed"
    },
    "tags": []
   },
   "outputs": [
    {
     "data": {
      "text/plain": [
       "Other      2267\n",
       "Single     2170\n",
       "Married    2162\n",
       "Name: Marital Status, dtype: int64"
      ]
     },
     "execution_count": 32,
     "metadata": {},
     "output_type": "execute_result"
    }
   ],
   "source": [
    "nowt['Marital Status'].value_counts()"
   ]
  },
  {
   "cell_type": "code",
   "execution_count": 33,
   "id": "4c08ade3",
   "metadata": {
    "execution": {
     "iopub.execute_input": "2023-04-03T18:07:09.144076Z",
     "iopub.status.busy": "2023-04-03T18:07:09.143163Z",
     "iopub.status.idle": "2023-04-03T18:07:09.172733Z",
     "shell.execute_reply": "2023-04-03T18:07:09.171461Z"
    },
    "papermill": {
     "duration": 0.069236,
     "end_time": "2023-04-03T18:07:09.175309",
     "exception": false,
     "start_time": "2023-04-03T18:07:09.106073",
     "status": "completed"
    },
    "tags": []
   },
   "outputs": [
    {
     "data": {
      "text/html": [
       "<div>\n",
       "<style scoped>\n",
       "    .dataframe tbody tr th:only-of-type {\n",
       "        vertical-align: middle;\n",
       "    }\n",
       "\n",
       "    .dataframe tbody tr th {\n",
       "        vertical-align: top;\n",
       "    }\n",
       "\n",
       "    .dataframe thead th {\n",
       "        text-align: right;\n",
       "    }\n",
       "</style>\n",
       "<table border=\"1\" class=\"dataframe\">\n",
       "  <thead>\n",
       "    <tr style=\"text-align: right;\">\n",
       "      <th></th>\n",
       "      <th>HomePage</th>\n",
       "      <th>HomePage_Duration</th>\n",
       "      <th>LandingPage</th>\n",
       "      <th>LandingPage_Duration</th>\n",
       "      <th>ProductDescriptionPage</th>\n",
       "      <th>ProductDescriptionPage_Duration</th>\n",
       "      <th>GoogleMetric:Bounce Rates</th>\n",
       "      <th>GoogleMetric:Exit Rates</th>\n",
       "      <th>GoogleMetric:Page Values</th>\n",
       "      <th>SeasonalPurchase</th>\n",
       "      <th>...</th>\n",
       "      <th>OS</th>\n",
       "      <th>SearchEngine</th>\n",
       "      <th>Zone</th>\n",
       "      <th>Type of Traffic</th>\n",
       "      <th>Month_SeasonalPurchase</th>\n",
       "      <th>CustomerType</th>\n",
       "      <th>Gender</th>\n",
       "      <th>Cookies Setting</th>\n",
       "      <th>Education</th>\n",
       "      <th>Marital Status</th>\n",
       "    </tr>\n",
       "  </thead>\n",
       "  <tbody>\n",
       "    <tr>\n",
       "      <th>0</th>\n",
       "      <td>0.0</td>\n",
       "      <td>0.0</td>\n",
       "      <td>0.0</td>\n",
       "      <td>0.0</td>\n",
       "      <td>1.0</td>\n",
       "      <td>0.000000</td>\n",
       "      <td>0.200000</td>\n",
       "      <td>0.200000</td>\n",
       "      <td>0.0</td>\n",
       "      <td>0.0</td>\n",
       "      <td>...</td>\n",
       "      <td>1.0</td>\n",
       "      <td>1.0</td>\n",
       "      <td>1.0</td>\n",
       "      <td>0.0</td>\n",
       "      <td>Feb</td>\n",
       "      <td>Returning_Visitor</td>\n",
       "      <td>Not Specified</td>\n",
       "      <td>Deny</td>\n",
       "      <td>Not Specified</td>\n",
       "      <td>Single</td>\n",
       "    </tr>\n",
       "    <tr>\n",
       "      <th>1</th>\n",
       "      <td>0.0</td>\n",
       "      <td>0.0</td>\n",
       "      <td>0.0</td>\n",
       "      <td>0.0</td>\n",
       "      <td>2.0</td>\n",
       "      <td>64.000000</td>\n",
       "      <td>0.000000</td>\n",
       "      <td>0.100000</td>\n",
       "      <td>0.0</td>\n",
       "      <td>0.0</td>\n",
       "      <td>...</td>\n",
       "      <td>2.0</td>\n",
       "      <td>1.0</td>\n",
       "      <td>2.0</td>\n",
       "      <td>0.0</td>\n",
       "      <td>Feb</td>\n",
       "      <td>Returning_Visitor</td>\n",
       "      <td>Not Specified</td>\n",
       "      <td>ALL</td>\n",
       "      <td>Graduate</td>\n",
       "      <td>Married</td>\n",
       "    </tr>\n",
       "    <tr>\n",
       "      <th>2</th>\n",
       "      <td>0.0</td>\n",
       "      <td>0.0</td>\n",
       "      <td>0.0</td>\n",
       "      <td>0.0</td>\n",
       "      <td>19.0</td>\n",
       "      <td>154.216667</td>\n",
       "      <td>0.015789</td>\n",
       "      <td>0.024561</td>\n",
       "      <td>0.0</td>\n",
       "      <td>0.0</td>\n",
       "      <td>...</td>\n",
       "      <td>2.0</td>\n",
       "      <td>1.0</td>\n",
       "      <td>3.0</td>\n",
       "      <td>0.0</td>\n",
       "      <td>Feb</td>\n",
       "      <td>Returning_Visitor</td>\n",
       "      <td>Female</td>\n",
       "      <td>Required</td>\n",
       "      <td>Diploma</td>\n",
       "      <td>Other</td>\n",
       "    </tr>\n",
       "    <tr>\n",
       "      <th>3</th>\n",
       "      <td>0.0</td>\n",
       "      <td>0.0</td>\n",
       "      <td>0.0</td>\n",
       "      <td>0.0</td>\n",
       "      <td>2.0</td>\n",
       "      <td>37.000000</td>\n",
       "      <td>0.000000</td>\n",
       "      <td>0.100000</td>\n",
       "      <td>0.0</td>\n",
       "      <td>0.8</td>\n",
       "      <td>...</td>\n",
       "      <td>2.0</td>\n",
       "      <td>2.0</td>\n",
       "      <td>3.0</td>\n",
       "      <td>0.0</td>\n",
       "      <td>Feb</td>\n",
       "      <td>Returning_Visitor</td>\n",
       "      <td>Not Specified</td>\n",
       "      <td>Required</td>\n",
       "      <td>Graduate</td>\n",
       "      <td>Other</td>\n",
       "    </tr>\n",
       "    <tr>\n",
       "      <th>4</th>\n",
       "      <td>0.0</td>\n",
       "      <td>0.0</td>\n",
       "      <td>0.0</td>\n",
       "      <td>0.0</td>\n",
       "      <td>16.0</td>\n",
       "      <td>407.750000</td>\n",
       "      <td>0.018750</td>\n",
       "      <td>0.025833</td>\n",
       "      <td>0.0</td>\n",
       "      <td>0.4</td>\n",
       "      <td>...</td>\n",
       "      <td>1.0</td>\n",
       "      <td>4.0</td>\n",
       "      <td>3.0</td>\n",
       "      <td>0.0</td>\n",
       "      <td>Feb</td>\n",
       "      <td>Returning_Visitor</td>\n",
       "      <td>Female</td>\n",
       "      <td>Deny</td>\n",
       "      <td>Others</td>\n",
       "      <td>Other</td>\n",
       "    </tr>\n",
       "  </tbody>\n",
       "</table>\n",
       "<p>5 rows × 21 columns</p>\n",
       "</div>"
      ],
      "text/plain": [
       "   HomePage  HomePage_Duration  LandingPage  LandingPage_Duration  \\\n",
       "0       0.0                0.0          0.0                   0.0   \n",
       "1       0.0                0.0          0.0                   0.0   \n",
       "2       0.0                0.0          0.0                   0.0   \n",
       "3       0.0                0.0          0.0                   0.0   \n",
       "4       0.0                0.0          0.0                   0.0   \n",
       "\n",
       "   ProductDescriptionPage  ProductDescriptionPage_Duration  \\\n",
       "0                     1.0                         0.000000   \n",
       "1                     2.0                        64.000000   \n",
       "2                    19.0                       154.216667   \n",
       "3                     2.0                        37.000000   \n",
       "4                    16.0                       407.750000   \n",
       "\n",
       "   GoogleMetric:Bounce Rates  GoogleMetric:Exit Rates  \\\n",
       "0                   0.200000                 0.200000   \n",
       "1                   0.000000                 0.100000   \n",
       "2                   0.015789                 0.024561   \n",
       "3                   0.000000                 0.100000   \n",
       "4                   0.018750                 0.025833   \n",
       "\n",
       "   GoogleMetric:Page Values  SeasonalPurchase  ...   OS  SearchEngine  Zone  \\\n",
       "0                       0.0               0.0  ...  1.0           1.0   1.0   \n",
       "1                       0.0               0.0  ...  2.0           1.0   2.0   \n",
       "2                       0.0               0.0  ...  2.0           1.0   3.0   \n",
       "3                       0.0               0.8  ...  2.0           2.0   3.0   \n",
       "4                       0.0               0.4  ...  1.0           4.0   3.0   \n",
       "\n",
       "   Type of Traffic  Month_SeasonalPurchase       CustomerType         Gender  \\\n",
       "0              0.0                     Feb  Returning_Visitor  Not Specified   \n",
       "1              0.0                     Feb  Returning_Visitor  Not Specified   \n",
       "2              0.0                     Feb  Returning_Visitor         Female   \n",
       "3              0.0                     Feb  Returning_Visitor  Not Specified   \n",
       "4              0.0                     Feb  Returning_Visitor         Female   \n",
       "\n",
       "  Cookies Setting      Education Marital Status  \n",
       "0            Deny  Not Specified         Single  \n",
       "1             ALL       Graduate        Married  \n",
       "2        Required        Diploma          Other  \n",
       "3        Required       Graduate          Other  \n",
       "4            Deny         Others          Other  \n",
       "\n",
       "[5 rows x 21 columns]"
      ]
     },
     "execution_count": 33,
     "metadata": {},
     "output_type": "execute_result"
    }
   ],
   "source": [
    "nowt.head()"
   ]
  },
  {
   "cell_type": "code",
   "execution_count": 34,
   "id": "9d285096",
   "metadata": {
    "execution": {
     "iopub.execute_input": "2023-04-03T18:07:09.249003Z",
     "iopub.status.busy": "2023-04-03T18:07:09.248299Z",
     "iopub.status.idle": "2023-04-03T18:07:09.256457Z",
     "shell.execute_reply": "2023-04-03T18:07:09.255444Z"
    },
    "papermill": {
     "duration": 0.048248,
     "end_time": "2023-04-03T18:07:09.259273",
     "exception": false,
     "start_time": "2023-04-03T18:07:09.211025",
     "status": "completed"
    },
    "tags": []
   },
   "outputs": [],
   "source": [
    "unew=pd.concat([now,y_train],axis=1)"
   ]
  },
  {
   "cell_type": "code",
   "execution_count": 35,
   "id": "c63cf8a9",
   "metadata": {
    "execution": {
     "iopub.execute_input": "2023-04-03T18:07:09.334279Z",
     "iopub.status.busy": "2023-04-03T18:07:09.333586Z",
     "iopub.status.idle": "2023-04-03T18:07:09.362017Z",
     "shell.execute_reply": "2023-04-03T18:07:09.360775Z"
    },
    "papermill": {
     "duration": 0.068797,
     "end_time": "2023-04-03T18:07:09.364771",
     "exception": false,
     "start_time": "2023-04-03T18:07:09.295974",
     "status": "completed"
    },
    "tags": []
   },
   "outputs": [
    {
     "data": {
      "text/html": [
       "<div>\n",
       "<style scoped>\n",
       "    .dataframe tbody tr th:only-of-type {\n",
       "        vertical-align: middle;\n",
       "    }\n",
       "\n",
       "    .dataframe tbody tr th {\n",
       "        vertical-align: top;\n",
       "    }\n",
       "\n",
       "    .dataframe thead th {\n",
       "        text-align: right;\n",
       "    }\n",
       "</style>\n",
       "<table border=\"1\" class=\"dataframe\">\n",
       "  <thead>\n",
       "    <tr style=\"text-align: right;\">\n",
       "      <th></th>\n",
       "      <th>HomePage</th>\n",
       "      <th>HomePage_Duration</th>\n",
       "      <th>LandingPage</th>\n",
       "      <th>LandingPage_Duration</th>\n",
       "      <th>ProductDescriptionPage</th>\n",
       "      <th>ProductDescriptionPage_Duration</th>\n",
       "      <th>GoogleMetric:Bounce Rates</th>\n",
       "      <th>GoogleMetric:Exit Rates</th>\n",
       "      <th>GoogleMetric:Page Values</th>\n",
       "      <th>SeasonalPurchase</th>\n",
       "      <th>...</th>\n",
       "      <th>SearchEngine</th>\n",
       "      <th>Zone</th>\n",
       "      <th>Type of Traffic</th>\n",
       "      <th>Month_SeasonalPurchase</th>\n",
       "      <th>CustomerType</th>\n",
       "      <th>Gender</th>\n",
       "      <th>Cookies Setting</th>\n",
       "      <th>Education</th>\n",
       "      <th>Marital Status</th>\n",
       "      <th>Made_Purchase</th>\n",
       "    </tr>\n",
       "  </thead>\n",
       "  <tbody>\n",
       "    <tr>\n",
       "      <th>0</th>\n",
       "      <td>0.0</td>\n",
       "      <td>0.0</td>\n",
       "      <td>0.0</td>\n",
       "      <td>0.0</td>\n",
       "      <td>1.0</td>\n",
       "      <td>0.000000</td>\n",
       "      <td>0.20</td>\n",
       "      <td>0.20</td>\n",
       "      <td>0.0</td>\n",
       "      <td>0.0</td>\n",
       "      <td>...</td>\n",
       "      <td>9.0</td>\n",
       "      <td>3.0</td>\n",
       "      <td>0.0</td>\n",
       "      <td>Feb</td>\n",
       "      <td>Returning_Visitor</td>\n",
       "      <td>Not Specified</td>\n",
       "      <td>Deny</td>\n",
       "      <td>Not Specified</td>\n",
       "      <td>Other</td>\n",
       "      <td>False</td>\n",
       "    </tr>\n",
       "    <tr>\n",
       "      <th>1</th>\n",
       "      <td>0.0</td>\n",
       "      <td>0.0</td>\n",
       "      <td>0.0</td>\n",
       "      <td>0.0</td>\n",
       "      <td>2.0</td>\n",
       "      <td>2.666667</td>\n",
       "      <td>0.05</td>\n",
       "      <td>0.14</td>\n",
       "      <td>0.0</td>\n",
       "      <td>0.0</td>\n",
       "      <td>...</td>\n",
       "      <td>2.0</td>\n",
       "      <td>4.0</td>\n",
       "      <td>0.0</td>\n",
       "      <td>Feb</td>\n",
       "      <td>Returning_Visitor</td>\n",
       "      <td>Female</td>\n",
       "      <td>Deny</td>\n",
       "      <td>Others</td>\n",
       "      <td>Married</td>\n",
       "      <td>False</td>\n",
       "    </tr>\n",
       "    <tr>\n",
       "      <th>2</th>\n",
       "      <td>0.0</td>\n",
       "      <td>0.0</td>\n",
       "      <td>0.0</td>\n",
       "      <td>0.0</td>\n",
       "      <td>10.0</td>\n",
       "      <td>627.500000</td>\n",
       "      <td>0.02</td>\n",
       "      <td>0.05</td>\n",
       "      <td>0.0</td>\n",
       "      <td>0.0</td>\n",
       "      <td>...</td>\n",
       "      <td>1.0</td>\n",
       "      <td>4.0</td>\n",
       "      <td>1.0</td>\n",
       "      <td>Feb</td>\n",
       "      <td>Returning_Visitor</td>\n",
       "      <td>Female</td>\n",
       "      <td>ALL</td>\n",
       "      <td>Others</td>\n",
       "      <td>Married</td>\n",
       "      <td>False</td>\n",
       "    </tr>\n",
       "    <tr>\n",
       "      <th>3</th>\n",
       "      <td>0.0</td>\n",
       "      <td>0.0</td>\n",
       "      <td>0.0</td>\n",
       "      <td>0.0</td>\n",
       "      <td>1.0</td>\n",
       "      <td>0.000000</td>\n",
       "      <td>0.20</td>\n",
       "      <td>0.20</td>\n",
       "      <td>0.0</td>\n",
       "      <td>0.4</td>\n",
       "      <td>...</td>\n",
       "      <td>3.0</td>\n",
       "      <td>3.0</td>\n",
       "      <td>0.0</td>\n",
       "      <td>Feb</td>\n",
       "      <td>Returning_Visitor</td>\n",
       "      <td>Male</td>\n",
       "      <td>ALL</td>\n",
       "      <td>Diploma</td>\n",
       "      <td>Single</td>\n",
       "      <td>False</td>\n",
       "    </tr>\n",
       "    <tr>\n",
       "      <th>4</th>\n",
       "      <td>1.0</td>\n",
       "      <td>0.0</td>\n",
       "      <td>0.0</td>\n",
       "      <td>0.0</td>\n",
       "      <td>0.0</td>\n",
       "      <td>0.000000</td>\n",
       "      <td>0.20</td>\n",
       "      <td>0.20</td>\n",
       "      <td>0.0</td>\n",
       "      <td>0.0</td>\n",
       "      <td>...</td>\n",
       "      <td>1.0</td>\n",
       "      <td>5.0</td>\n",
       "      <td>1.0</td>\n",
       "      <td>Feb</td>\n",
       "      <td>Returning_Visitor</td>\n",
       "      <td>Male</td>\n",
       "      <td>Deny</td>\n",
       "      <td>Diploma</td>\n",
       "      <td>Other</td>\n",
       "      <td>False</td>\n",
       "    </tr>\n",
       "  </tbody>\n",
       "</table>\n",
       "<p>5 rows × 22 columns</p>\n",
       "</div>"
      ],
      "text/plain": [
       "   HomePage  HomePage_Duration  LandingPage  LandingPage_Duration  \\\n",
       "0       0.0                0.0          0.0                   0.0   \n",
       "1       0.0                0.0          0.0                   0.0   \n",
       "2       0.0                0.0          0.0                   0.0   \n",
       "3       0.0                0.0          0.0                   0.0   \n",
       "4       1.0                0.0          0.0                   0.0   \n",
       "\n",
       "   ProductDescriptionPage  ProductDescriptionPage_Duration  \\\n",
       "0                     1.0                         0.000000   \n",
       "1                     2.0                         2.666667   \n",
       "2                    10.0                       627.500000   \n",
       "3                     1.0                         0.000000   \n",
       "4                     0.0                         0.000000   \n",
       "\n",
       "   GoogleMetric:Bounce Rates  GoogleMetric:Exit Rates  \\\n",
       "0                       0.20                     0.20   \n",
       "1                       0.05                     0.14   \n",
       "2                       0.02                     0.05   \n",
       "3                       0.20                     0.20   \n",
       "4                       0.20                     0.20   \n",
       "\n",
       "   GoogleMetric:Page Values  SeasonalPurchase  ...  SearchEngine  Zone  \\\n",
       "0                       0.0               0.0  ...           9.0   3.0   \n",
       "1                       0.0               0.0  ...           2.0   4.0   \n",
       "2                       0.0               0.0  ...           1.0   4.0   \n",
       "3                       0.0               0.4  ...           3.0   3.0   \n",
       "4                       0.0               0.0  ...           1.0   5.0   \n",
       "\n",
       "   Type of Traffic  Month_SeasonalPurchase       CustomerType         Gender  \\\n",
       "0              0.0                     Feb  Returning_Visitor  Not Specified   \n",
       "1              0.0                     Feb  Returning_Visitor         Female   \n",
       "2              1.0                     Feb  Returning_Visitor         Female   \n",
       "3              0.0                     Feb  Returning_Visitor           Male   \n",
       "4              1.0                     Feb  Returning_Visitor           Male   \n",
       "\n",
       "  Cookies Setting      Education Marital Status Made_Purchase  \n",
       "0            Deny  Not Specified          Other         False  \n",
       "1            Deny         Others        Married         False  \n",
       "2             ALL         Others        Married         False  \n",
       "3             ALL        Diploma         Single         False  \n",
       "4            Deny        Diploma          Other         False  \n",
       "\n",
       "[5 rows x 22 columns]"
      ]
     },
     "execution_count": 35,
     "metadata": {},
     "output_type": "execute_result"
    }
   ],
   "source": [
    "unew.head()"
   ]
  },
  {
   "cell_type": "code",
   "execution_count": 36,
   "id": "89756784",
   "metadata": {
    "execution": {
     "iopub.execute_input": "2023-04-03T18:07:09.441474Z",
     "iopub.status.busy": "2023-04-03T18:07:09.440319Z",
     "iopub.status.idle": "2023-04-03T18:07:09.451644Z",
     "shell.execute_reply": "2023-04-03T18:07:09.450631Z"
    },
    "papermill": {
     "duration": 0.053191,
     "end_time": "2023-04-03T18:07:09.454210",
     "exception": false,
     "start_time": "2023-04-03T18:07:09.401019",
     "status": "completed"
    },
    "tags": []
   },
   "outputs": [
    {
     "data": {
      "text/plain": [
       "False    9065\n",
       "True     5666\n",
       "Name: Made_Purchase, dtype: int64"
      ]
     },
     "execution_count": 36,
     "metadata": {},
     "output_type": "execute_result"
    }
   ],
   "source": [
    "unew['Made_Purchase'].value_counts()"
   ]
  },
  {
   "cell_type": "code",
   "execution_count": 37,
   "id": "9b3485f2",
   "metadata": {
    "execution": {
     "iopub.execute_input": "2023-04-03T18:07:09.530886Z",
     "iopub.status.busy": "2023-04-03T18:07:09.530133Z",
     "iopub.status.idle": "2023-04-03T18:07:09.537728Z",
     "shell.execute_reply": "2023-04-03T18:07:09.536773Z"
    },
    "papermill": {
     "duration": 0.048474,
     "end_time": "2023-04-03T18:07:09.540356",
     "exception": false,
     "start_time": "2023-04-03T18:07:09.491882",
     "status": "completed"
    },
    "tags": []
   },
   "outputs": [],
   "source": [
    "unew1=unew[unew['Made_Purchase']==False]"
   ]
  },
  {
   "cell_type": "code",
   "execution_count": 38,
   "id": "afbecdd2",
   "metadata": {
    "execution": {
     "iopub.execute_input": "2023-04-03T18:07:09.616427Z",
     "iopub.status.busy": "2023-04-03T18:07:09.615954Z",
     "iopub.status.idle": "2023-04-03T18:07:09.623012Z",
     "shell.execute_reply": "2023-04-03T18:07:09.622105Z"
    },
    "papermill": {
     "duration": 0.048484,
     "end_time": "2023-04-03T18:07:09.625661",
     "exception": false,
     "start_time": "2023-04-03T18:07:09.577177",
     "status": "completed"
    },
    "tags": []
   },
   "outputs": [],
   "source": [
    "unew2=unew[~(unew['Made_Purchase']==False)]"
   ]
  },
  {
   "cell_type": "code",
   "execution_count": 39,
   "id": "cd6a0df1",
   "metadata": {
    "execution": {
     "iopub.execute_input": "2023-04-03T18:07:09.703477Z",
     "iopub.status.busy": "2023-04-03T18:07:09.702207Z",
     "iopub.status.idle": "2023-04-03T18:07:09.712906Z",
     "shell.execute_reply": "2023-04-03T18:07:09.711871Z"
    },
    "papermill": {
     "duration": 0.052569,
     "end_time": "2023-04-03T18:07:09.715751",
     "exception": false,
     "start_time": "2023-04-03T18:07:09.663182",
     "status": "completed"
    },
    "tags": []
   },
   "outputs": [],
   "source": [
    "nn=unew1.sample(n=9000)"
   ]
  },
  {
   "cell_type": "code",
   "execution_count": 40,
   "id": "96f28c61",
   "metadata": {
    "execution": {
     "iopub.execute_input": "2023-04-03T18:07:09.790637Z",
     "iopub.status.busy": "2023-04-03T18:07:09.790174Z",
     "iopub.status.idle": "2023-04-03T18:07:09.801082Z",
     "shell.execute_reply": "2023-04-03T18:07:09.799753Z"
    },
    "papermill": {
     "duration": 0.051474,
     "end_time": "2023-04-03T18:07:09.803791",
     "exception": false,
     "start_time": "2023-04-03T18:07:09.752317",
     "status": "completed"
    },
    "tags": []
   },
   "outputs": [],
   "source": [
    "now=pd.concat([unew2,nn],axis=0)"
   ]
  },
  {
   "cell_type": "code",
   "execution_count": 41,
   "id": "4cc1c504",
   "metadata": {
    "execution": {
     "iopub.execute_input": "2023-04-03T18:07:09.878049Z",
     "iopub.status.busy": "2023-04-03T18:07:09.877564Z",
     "iopub.status.idle": "2023-04-03T18:07:09.907602Z",
     "shell.execute_reply": "2023-04-03T18:07:09.906604Z"
    },
    "papermill": {
     "duration": 0.070135,
     "end_time": "2023-04-03T18:07:09.909937",
     "exception": false,
     "start_time": "2023-04-03T18:07:09.839802",
     "status": "completed"
    },
    "tags": []
   },
   "outputs": [
    {
     "data": {
      "text/html": [
       "<div>\n",
       "<style scoped>\n",
       "    .dataframe tbody tr th:only-of-type {\n",
       "        vertical-align: middle;\n",
       "    }\n",
       "\n",
       "    .dataframe tbody tr th {\n",
       "        vertical-align: top;\n",
       "    }\n",
       "\n",
       "    .dataframe thead th {\n",
       "        text-align: right;\n",
       "    }\n",
       "</style>\n",
       "<table border=\"1\" class=\"dataframe\">\n",
       "  <thead>\n",
       "    <tr style=\"text-align: right;\">\n",
       "      <th></th>\n",
       "      <th>HomePage</th>\n",
       "      <th>HomePage_Duration</th>\n",
       "      <th>LandingPage</th>\n",
       "      <th>LandingPage_Duration</th>\n",
       "      <th>ProductDescriptionPage</th>\n",
       "      <th>ProductDescriptionPage_Duration</th>\n",
       "      <th>GoogleMetric:Bounce Rates</th>\n",
       "      <th>GoogleMetric:Exit Rates</th>\n",
       "      <th>GoogleMetric:Page Values</th>\n",
       "      <th>SeasonalPurchase</th>\n",
       "      <th>...</th>\n",
       "      <th>SearchEngine</th>\n",
       "      <th>Zone</th>\n",
       "      <th>Type of Traffic</th>\n",
       "      <th>Month_SeasonalPurchase</th>\n",
       "      <th>CustomerType</th>\n",
       "      <th>Gender</th>\n",
       "      <th>Cookies Setting</th>\n",
       "      <th>Education</th>\n",
       "      <th>Marital Status</th>\n",
       "      <th>Made_Purchase</th>\n",
       "    </tr>\n",
       "  </thead>\n",
       "  <tbody>\n",
       "    <tr>\n",
       "      <th>43</th>\n",
       "      <td>3.0</td>\n",
       "      <td>87.833333</td>\n",
       "      <td>0.0</td>\n",
       "      <td>0.0</td>\n",
       "      <td>27.0</td>\n",
       "      <td>798.333333</td>\n",
       "      <td>0.000000</td>\n",
       "      <td>0.012644</td>\n",
       "      <td>22.916036</td>\n",
       "      <td>0.8</td>\n",
       "      <td>...</td>\n",
       "      <td>3.0</td>\n",
       "      <td>1.0</td>\n",
       "      <td>0.0</td>\n",
       "      <td>Feb</td>\n",
       "      <td>Returning_Visitor</td>\n",
       "      <td>Male</td>\n",
       "      <td>Deny</td>\n",
       "      <td>Others</td>\n",
       "      <td>Married</td>\n",
       "      <td>True</td>\n",
       "    </tr>\n",
       "    <tr>\n",
       "      <th>50</th>\n",
       "      <td>10.0</td>\n",
       "      <td>1005.666667</td>\n",
       "      <td>0.0</td>\n",
       "      <td>0.0</td>\n",
       "      <td>36.0</td>\n",
       "      <td>2111.341667</td>\n",
       "      <td>0.004348</td>\n",
       "      <td>0.014493</td>\n",
       "      <td>11.439412</td>\n",
       "      <td>0.0</td>\n",
       "      <td>...</td>\n",
       "      <td>1.0</td>\n",
       "      <td>2.0</td>\n",
       "      <td>0.0</td>\n",
       "      <td>Feb</td>\n",
       "      <td>Returning_Visitor</td>\n",
       "      <td>Not Specified</td>\n",
       "      <td>Required</td>\n",
       "      <td>Not Specified</td>\n",
       "      <td>Single</td>\n",
       "      <td>True</td>\n",
       "    </tr>\n",
       "    <tr>\n",
       "      <th>120</th>\n",
       "      <td>9.0</td>\n",
       "      <td>111.500000</td>\n",
       "      <td>1.0</td>\n",
       "      <td>48.5</td>\n",
       "      <td>49.0</td>\n",
       "      <td>1868.819697</td>\n",
       "      <td>0.000000</td>\n",
       "      <td>0.020709</td>\n",
       "      <td>1.706015</td>\n",
       "      <td>0.0</td>\n",
       "      <td>...</td>\n",
       "      <td>7.0</td>\n",
       "      <td>2.0</td>\n",
       "      <td>0.0</td>\n",
       "      <td>Mar</td>\n",
       "      <td>Returning_Visitor</td>\n",
       "      <td>Female</td>\n",
       "      <td>Required</td>\n",
       "      <td>Others</td>\n",
       "      <td>Married</td>\n",
       "      <td>True</td>\n",
       "    </tr>\n",
       "    <tr>\n",
       "      <th>128</th>\n",
       "      <td>2.0</td>\n",
       "      <td>56.000000</td>\n",
       "      <td>1.0</td>\n",
       "      <td>144.0</td>\n",
       "      <td>67.0</td>\n",
       "      <td>2563.783333</td>\n",
       "      <td>0.000000</td>\n",
       "      <td>0.005797</td>\n",
       "      <td>19.342650</td>\n",
       "      <td>0.0</td>\n",
       "      <td>...</td>\n",
       "      <td>4.0</td>\n",
       "      <td>2.0</td>\n",
       "      <td>0.0</td>\n",
       "      <td>Mar</td>\n",
       "      <td>New_Visitor</td>\n",
       "      <td>Male</td>\n",
       "      <td>Required</td>\n",
       "      <td>Others</td>\n",
       "      <td>Other</td>\n",
       "      <td>True</td>\n",
       "    </tr>\n",
       "    <tr>\n",
       "      <th>130</th>\n",
       "      <td>0.0</td>\n",
       "      <td>0.000000</td>\n",
       "      <td>0.0</td>\n",
       "      <td>0.0</td>\n",
       "      <td>17.0</td>\n",
       "      <td>840.233333</td>\n",
       "      <td>0.000000</td>\n",
       "      <td>0.001667</td>\n",
       "      <td>109.176000</td>\n",
       "      <td>0.0</td>\n",
       "      <td>...</td>\n",
       "      <td>9.0</td>\n",
       "      <td>2.0</td>\n",
       "      <td>0.0</td>\n",
       "      <td>Mar</td>\n",
       "      <td>New_Visitor</td>\n",
       "      <td>Female</td>\n",
       "      <td>ALL</td>\n",
       "      <td>Graduate</td>\n",
       "      <td>Single</td>\n",
       "      <td>True</td>\n",
       "    </tr>\n",
       "  </tbody>\n",
       "</table>\n",
       "<p>5 rows × 22 columns</p>\n",
       "</div>"
      ],
      "text/plain": [
       "     HomePage  HomePage_Duration  LandingPage  LandingPage_Duration  \\\n",
       "43        3.0          87.833333          0.0                   0.0   \n",
       "50       10.0        1005.666667          0.0                   0.0   \n",
       "120       9.0         111.500000          1.0                  48.5   \n",
       "128       2.0          56.000000          1.0                 144.0   \n",
       "130       0.0           0.000000          0.0                   0.0   \n",
       "\n",
       "     ProductDescriptionPage  ProductDescriptionPage_Duration  \\\n",
       "43                     27.0                       798.333333   \n",
       "50                     36.0                      2111.341667   \n",
       "120                    49.0                      1868.819697   \n",
       "128                    67.0                      2563.783333   \n",
       "130                    17.0                       840.233333   \n",
       "\n",
       "     GoogleMetric:Bounce Rates  GoogleMetric:Exit Rates  \\\n",
       "43                    0.000000                 0.012644   \n",
       "50                    0.004348                 0.014493   \n",
       "120                   0.000000                 0.020709   \n",
       "128                   0.000000                 0.005797   \n",
       "130                   0.000000                 0.001667   \n",
       "\n",
       "     GoogleMetric:Page Values  SeasonalPurchase  ...  SearchEngine  Zone  \\\n",
       "43                  22.916036               0.8  ...           3.0   1.0   \n",
       "50                  11.439412               0.0  ...           1.0   2.0   \n",
       "120                  1.706015               0.0  ...           7.0   2.0   \n",
       "128                 19.342650               0.0  ...           4.0   2.0   \n",
       "130                109.176000               0.0  ...           9.0   2.0   \n",
       "\n",
       "     Type of Traffic  Month_SeasonalPurchase       CustomerType  \\\n",
       "43               0.0                     Feb  Returning_Visitor   \n",
       "50               0.0                     Feb  Returning_Visitor   \n",
       "120              0.0                     Mar  Returning_Visitor   \n",
       "128              0.0                     Mar        New_Visitor   \n",
       "130              0.0                     Mar        New_Visitor   \n",
       "\n",
       "            Gender Cookies Setting      Education Marital Status Made_Purchase  \n",
       "43            Male            Deny         Others        Married          True  \n",
       "50   Not Specified        Required  Not Specified         Single          True  \n",
       "120         Female        Required         Others        Married          True  \n",
       "128           Male        Required         Others          Other          True  \n",
       "130         Female             ALL       Graduate         Single          True  \n",
       "\n",
       "[5 rows x 22 columns]"
      ]
     },
     "execution_count": 41,
     "metadata": {},
     "output_type": "execute_result"
    }
   ],
   "source": [
    "now.head()"
   ]
  },
  {
   "cell_type": "code",
   "execution_count": 42,
   "id": "d8415b5b",
   "metadata": {
    "execution": {
     "iopub.execute_input": "2023-04-03T18:07:09.987176Z",
     "iopub.status.busy": "2023-04-03T18:07:09.986339Z",
     "iopub.status.idle": "2023-04-03T18:07:09.993442Z",
     "shell.execute_reply": "2023-04-03T18:07:09.992105Z"
    },
    "papermill": {
     "duration": 0.04913,
     "end_time": "2023-04-03T18:07:09.995847",
     "exception": false,
     "start_time": "2023-04-03T18:07:09.946717",
     "status": "completed"
    },
    "tags": []
   },
   "outputs": [],
   "source": [
    "y_train = now['Made_Purchase']\n",
    "del now['Made_Purchase']"
   ]
  },
  {
   "cell_type": "code",
   "execution_count": 43,
   "id": "ba0b2a58",
   "metadata": {
    "execution": {
     "iopub.execute_input": "2023-04-03T18:07:10.071469Z",
     "iopub.status.busy": "2023-04-03T18:07:10.070768Z",
     "iopub.status.idle": "2023-04-03T18:07:10.127763Z",
     "shell.execute_reply": "2023-04-03T18:07:10.126717Z"
    },
    "papermill": {
     "duration": 0.097713,
     "end_time": "2023-04-03T18:07:10.130487",
     "exception": false,
     "start_time": "2023-04-03T18:07:10.032774",
     "status": "completed"
    },
    "tags": []
   },
   "outputs": [],
   "source": [
    "this=trns.fit_transform(now)\n",
    "\n"
   ]
  },
  {
   "cell_type": "code",
   "execution_count": 44,
   "id": "96b6318c",
   "metadata": {
    "execution": {
     "iopub.execute_input": "2023-04-03T18:07:10.206506Z",
     "iopub.status.busy": "2023-04-03T18:07:10.206036Z",
     "iopub.status.idle": "2023-04-03T18:07:10.233859Z",
     "shell.execute_reply": "2023-04-03T18:07:10.232401Z"
    },
    "papermill": {
     "duration": 0.069644,
     "end_time": "2023-04-03T18:07:10.236807",
     "exception": false,
     "start_time": "2023-04-03T18:07:10.167163",
     "status": "completed"
    },
    "tags": []
   },
   "outputs": [],
   "source": [
    "thist=trns.transform(nowt)"
   ]
  },
  {
   "cell_type": "code",
   "execution_count": null,
   "id": "86841fea",
   "metadata": {
    "papermill": {
     "duration": 0.038414,
     "end_time": "2023-04-03T18:07:10.312658",
     "exception": false,
     "start_time": "2023-04-03T18:07:10.274244",
     "status": "completed"
    },
    "tags": []
   },
   "outputs": [],
   "source": []
  },
  {
   "cell_type": "code",
   "execution_count": 45,
   "id": "38242ae7",
   "metadata": {
    "execution": {
     "iopub.execute_input": "2023-04-03T18:07:10.390098Z",
     "iopub.status.busy": "2023-04-03T18:07:10.389663Z",
     "iopub.status.idle": "2023-04-03T18:07:10.395391Z",
     "shell.execute_reply": "2023-04-03T18:07:10.394086Z"
    },
    "papermill": {
     "duration": 0.047293,
     "end_time": "2023-04-03T18:07:10.398139",
     "exception": false,
     "start_time": "2023-04-03T18:07:10.350846",
     "status": "completed"
    },
    "tags": []
   },
   "outputs": [],
   "source": [
    "this=pd.DataFrame(this)"
   ]
  },
  {
   "cell_type": "code",
   "execution_count": null,
   "id": "8f5db89a",
   "metadata": {
    "papermill": {
     "duration": 0.036705,
     "end_time": "2023-04-03T18:07:10.472014",
     "exception": false,
     "start_time": "2023-04-03T18:07:10.435309",
     "status": "completed"
    },
    "tags": []
   },
   "outputs": [],
   "source": []
  },
  {
   "cell_type": "code",
   "execution_count": 46,
   "id": "7ef3f5b4",
   "metadata": {
    "execution": {
     "iopub.execute_input": "2023-04-03T18:07:10.550418Z",
     "iopub.status.busy": "2023-04-03T18:07:10.549958Z",
     "iopub.status.idle": "2023-04-03T18:07:10.580788Z",
     "shell.execute_reply": "2023-04-03T18:07:10.579579Z"
    },
    "papermill": {
     "duration": 0.074097,
     "end_time": "2023-04-03T18:07:10.583528",
     "exception": false,
     "start_time": "2023-04-03T18:07:10.509431",
     "status": "completed"
    },
    "tags": []
   },
   "outputs": [
    {
     "data": {
      "text/html": [
       "<div>\n",
       "<style scoped>\n",
       "    .dataframe tbody tr th:only-of-type {\n",
       "        vertical-align: middle;\n",
       "    }\n",
       "\n",
       "    .dataframe tbody tr th {\n",
       "        vertical-align: top;\n",
       "    }\n",
       "\n",
       "    .dataframe thead th {\n",
       "        text-align: right;\n",
       "    }\n",
       "</style>\n",
       "<table border=\"1\" class=\"dataframe\">\n",
       "  <thead>\n",
       "    <tr style=\"text-align: right;\">\n",
       "      <th></th>\n",
       "      <th>0</th>\n",
       "      <th>1</th>\n",
       "      <th>2</th>\n",
       "      <th>3</th>\n",
       "      <th>4</th>\n",
       "      <th>5</th>\n",
       "      <th>6</th>\n",
       "      <th>7</th>\n",
       "      <th>8</th>\n",
       "      <th>9</th>\n",
       "      <th>...</th>\n",
       "      <th>23</th>\n",
       "      <th>24</th>\n",
       "      <th>25</th>\n",
       "      <th>26</th>\n",
       "      <th>27</th>\n",
       "      <th>28</th>\n",
       "      <th>29</th>\n",
       "      <th>30</th>\n",
       "      <th>31</th>\n",
       "      <th>32</th>\n",
       "    </tr>\n",
       "  </thead>\n",
       "  <tbody>\n",
       "    <tr>\n",
       "      <th>0</th>\n",
       "      <td>0.0</td>\n",
       "      <td>0.0</td>\n",
       "      <td>1.0</td>\n",
       "      <td>0.0</td>\n",
       "      <td>0.0</td>\n",
       "      <td>0.0</td>\n",
       "      <td>0.0</td>\n",
       "      <td>0.0</td>\n",
       "      <td>0.0</td>\n",
       "      <td>0.0</td>\n",
       "      <td>...</td>\n",
       "      <td>798.333333</td>\n",
       "      <td>0.000000</td>\n",
       "      <td>0.012644</td>\n",
       "      <td>22.916036</td>\n",
       "      <td>0.8</td>\n",
       "      <td>2.0</td>\n",
       "      <td>2.0</td>\n",
       "      <td>3.0</td>\n",
       "      <td>1.0</td>\n",
       "      <td>0.0</td>\n",
       "    </tr>\n",
       "    <tr>\n",
       "      <th>1</th>\n",
       "      <td>1.0</td>\n",
       "      <td>0.0</td>\n",
       "      <td>1.0</td>\n",
       "      <td>0.0</td>\n",
       "      <td>0.0</td>\n",
       "      <td>0.0</td>\n",
       "      <td>0.0</td>\n",
       "      <td>0.0</td>\n",
       "      <td>0.0</td>\n",
       "      <td>0.0</td>\n",
       "      <td>...</td>\n",
       "      <td>2111.341667</td>\n",
       "      <td>0.004348</td>\n",
       "      <td>0.014493</td>\n",
       "      <td>11.439412</td>\n",
       "      <td>0.0</td>\n",
       "      <td>2.0</td>\n",
       "      <td>6.0</td>\n",
       "      <td>1.0</td>\n",
       "      <td>2.0</td>\n",
       "      <td>0.0</td>\n",
       "    </tr>\n",
       "    <tr>\n",
       "      <th>2</th>\n",
       "      <td>0.0</td>\n",
       "      <td>0.0</td>\n",
       "      <td>0.0</td>\n",
       "      <td>0.0</td>\n",
       "      <td>0.0</td>\n",
       "      <td>1.0</td>\n",
       "      <td>0.0</td>\n",
       "      <td>0.0</td>\n",
       "      <td>0.0</td>\n",
       "      <td>0.0</td>\n",
       "      <td>...</td>\n",
       "      <td>1868.819697</td>\n",
       "      <td>0.000000</td>\n",
       "      <td>0.020709</td>\n",
       "      <td>1.706015</td>\n",
       "      <td>0.0</td>\n",
       "      <td>2.0</td>\n",
       "      <td>2.0</td>\n",
       "      <td>7.0</td>\n",
       "      <td>2.0</td>\n",
       "      <td>0.0</td>\n",
       "    </tr>\n",
       "    <tr>\n",
       "      <th>3</th>\n",
       "      <td>0.0</td>\n",
       "      <td>0.0</td>\n",
       "      <td>0.0</td>\n",
       "      <td>0.0</td>\n",
       "      <td>0.0</td>\n",
       "      <td>1.0</td>\n",
       "      <td>0.0</td>\n",
       "      <td>0.0</td>\n",
       "      <td>0.0</td>\n",
       "      <td>0.0</td>\n",
       "      <td>...</td>\n",
       "      <td>2563.783333</td>\n",
       "      <td>0.000000</td>\n",
       "      <td>0.005797</td>\n",
       "      <td>19.342650</td>\n",
       "      <td>0.0</td>\n",
       "      <td>2.0</td>\n",
       "      <td>2.0</td>\n",
       "      <td>4.0</td>\n",
       "      <td>2.0</td>\n",
       "      <td>0.0</td>\n",
       "    </tr>\n",
       "    <tr>\n",
       "      <th>4</th>\n",
       "      <td>3.0</td>\n",
       "      <td>0.0</td>\n",
       "      <td>0.0</td>\n",
       "      <td>0.0</td>\n",
       "      <td>0.0</td>\n",
       "      <td>1.0</td>\n",
       "      <td>0.0</td>\n",
       "      <td>0.0</td>\n",
       "      <td>0.0</td>\n",
       "      <td>0.0</td>\n",
       "      <td>...</td>\n",
       "      <td>840.233333</td>\n",
       "      <td>0.000000</td>\n",
       "      <td>0.001667</td>\n",
       "      <td>109.176000</td>\n",
       "      <td>0.0</td>\n",
       "      <td>2.0</td>\n",
       "      <td>2.0</td>\n",
       "      <td>9.0</td>\n",
       "      <td>2.0</td>\n",
       "      <td>0.0</td>\n",
       "    </tr>\n",
       "  </tbody>\n",
       "</table>\n",
       "<p>5 rows × 33 columns</p>\n",
       "</div>"
      ],
      "text/plain": [
       "    0    1    2    3    4    5    6    7    8    9   ...           23  \\\n",
       "0  0.0  0.0  1.0  0.0  0.0  0.0  0.0  0.0  0.0  0.0  ...   798.333333   \n",
       "1  1.0  0.0  1.0  0.0  0.0  0.0  0.0  0.0  0.0  0.0  ...  2111.341667   \n",
       "2  0.0  0.0  0.0  0.0  0.0  1.0  0.0  0.0  0.0  0.0  ...  1868.819697   \n",
       "3  0.0  0.0  0.0  0.0  0.0  1.0  0.0  0.0  0.0  0.0  ...  2563.783333   \n",
       "4  3.0  0.0  0.0  0.0  0.0  1.0  0.0  0.0  0.0  0.0  ...   840.233333   \n",
       "\n",
       "         24        25          26   27   28   29   30   31   32  \n",
       "0  0.000000  0.012644   22.916036  0.8  2.0  2.0  3.0  1.0  0.0  \n",
       "1  0.004348  0.014493   11.439412  0.0  2.0  6.0  1.0  2.0  0.0  \n",
       "2  0.000000  0.020709    1.706015  0.0  2.0  2.0  7.0  2.0  0.0  \n",
       "3  0.000000  0.005797   19.342650  0.0  2.0  2.0  4.0  2.0  0.0  \n",
       "4  0.000000  0.001667  109.176000  0.0  2.0  2.0  9.0  2.0  0.0  \n",
       "\n",
       "[5 rows x 33 columns]"
      ]
     },
     "execution_count": 46,
     "metadata": {},
     "output_type": "execute_result"
    }
   ],
   "source": [
    "this.head()"
   ]
  },
  {
   "cell_type": "code",
   "execution_count": 47,
   "id": "234914f0",
   "metadata": {
    "execution": {
     "iopub.execute_input": "2023-04-03T18:07:10.660839Z",
     "iopub.status.busy": "2023-04-03T18:07:10.660399Z",
     "iopub.status.idle": "2023-04-03T18:07:10.666131Z",
     "shell.execute_reply": "2023-04-03T18:07:10.664883Z"
    },
    "papermill": {
     "duration": 0.047044,
     "end_time": "2023-04-03T18:07:10.668531",
     "exception": false,
     "start_time": "2023-04-03T18:07:10.621487",
     "status": "completed"
    },
    "tags": []
   },
   "outputs": [],
   "source": [
    "thist=pd.DataFrame(thist)"
   ]
  },
  {
   "cell_type": "code",
   "execution_count": 48,
   "id": "94919d15",
   "metadata": {
    "execution": {
     "iopub.execute_input": "2023-04-03T18:07:10.744794Z",
     "iopub.status.busy": "2023-04-03T18:07:10.744354Z",
     "iopub.status.idle": "2023-04-03T18:07:10.785672Z",
     "shell.execute_reply": "2023-04-03T18:07:10.784746Z"
    },
    "papermill": {
     "duration": 0.082187,
     "end_time": "2023-04-03T18:07:10.788219",
     "exception": false,
     "start_time": "2023-04-03T18:07:10.706032",
     "status": "completed"
    },
    "tags": []
   },
   "outputs": [
    {
     "data": {
      "text/html": [
       "<div>\n",
       "<style scoped>\n",
       "    .dataframe tbody tr th:only-of-type {\n",
       "        vertical-align: middle;\n",
       "    }\n",
       "\n",
       "    .dataframe tbody tr th {\n",
       "        vertical-align: top;\n",
       "    }\n",
       "\n",
       "    .dataframe thead th {\n",
       "        text-align: right;\n",
       "    }\n",
       "</style>\n",
       "<table border=\"1\" class=\"dataframe\">\n",
       "  <thead>\n",
       "    <tr style=\"text-align: right;\">\n",
       "      <th></th>\n",
       "      <th>0</th>\n",
       "      <th>1</th>\n",
       "      <th>2</th>\n",
       "      <th>3</th>\n",
       "      <th>4</th>\n",
       "      <th>5</th>\n",
       "      <th>6</th>\n",
       "      <th>7</th>\n",
       "      <th>8</th>\n",
       "      <th>9</th>\n",
       "      <th>...</th>\n",
       "      <th>23</th>\n",
       "      <th>24</th>\n",
       "      <th>25</th>\n",
       "      <th>26</th>\n",
       "      <th>27</th>\n",
       "      <th>28</th>\n",
       "      <th>29</th>\n",
       "      <th>30</th>\n",
       "      <th>31</th>\n",
       "      <th>32</th>\n",
       "    </tr>\n",
       "  </thead>\n",
       "  <tbody>\n",
       "    <tr>\n",
       "      <th>0</th>\n",
       "      <td>1.0</td>\n",
       "      <td>0.0</td>\n",
       "      <td>1.0</td>\n",
       "      <td>0.0</td>\n",
       "      <td>0.0</td>\n",
       "      <td>0.0</td>\n",
       "      <td>0.0</td>\n",
       "      <td>0.0</td>\n",
       "      <td>0.0</td>\n",
       "      <td>0.0</td>\n",
       "      <td>...</td>\n",
       "      <td>0.000000</td>\n",
       "      <td>0.200000</td>\n",
       "      <td>0.200000</td>\n",
       "      <td>0.0</td>\n",
       "      <td>0.0</td>\n",
       "      <td>1.0</td>\n",
       "      <td>1.0</td>\n",
       "      <td>1.0</td>\n",
       "      <td>1.0</td>\n",
       "      <td>0.0</td>\n",
       "    </tr>\n",
       "    <tr>\n",
       "      <th>1</th>\n",
       "      <td>3.0</td>\n",
       "      <td>0.0</td>\n",
       "      <td>1.0</td>\n",
       "      <td>0.0</td>\n",
       "      <td>0.0</td>\n",
       "      <td>0.0</td>\n",
       "      <td>0.0</td>\n",
       "      <td>0.0</td>\n",
       "      <td>0.0</td>\n",
       "      <td>0.0</td>\n",
       "      <td>...</td>\n",
       "      <td>64.000000</td>\n",
       "      <td>0.000000</td>\n",
       "      <td>0.100000</td>\n",
       "      <td>0.0</td>\n",
       "      <td>0.0</td>\n",
       "      <td>2.0</td>\n",
       "      <td>2.0</td>\n",
       "      <td>1.0</td>\n",
       "      <td>2.0</td>\n",
       "      <td>0.0</td>\n",
       "    </tr>\n",
       "    <tr>\n",
       "      <th>2</th>\n",
       "      <td>2.0</td>\n",
       "      <td>0.0</td>\n",
       "      <td>1.0</td>\n",
       "      <td>0.0</td>\n",
       "      <td>0.0</td>\n",
       "      <td>0.0</td>\n",
       "      <td>0.0</td>\n",
       "      <td>0.0</td>\n",
       "      <td>0.0</td>\n",
       "      <td>0.0</td>\n",
       "      <td>...</td>\n",
       "      <td>154.216667</td>\n",
       "      <td>0.015789</td>\n",
       "      <td>0.024561</td>\n",
       "      <td>0.0</td>\n",
       "      <td>0.0</td>\n",
       "      <td>2.0</td>\n",
       "      <td>2.0</td>\n",
       "      <td>1.0</td>\n",
       "      <td>3.0</td>\n",
       "      <td>0.0</td>\n",
       "    </tr>\n",
       "    <tr>\n",
       "      <th>3</th>\n",
       "      <td>3.0</td>\n",
       "      <td>0.0</td>\n",
       "      <td>1.0</td>\n",
       "      <td>0.0</td>\n",
       "      <td>0.0</td>\n",
       "      <td>0.0</td>\n",
       "      <td>0.0</td>\n",
       "      <td>0.0</td>\n",
       "      <td>0.0</td>\n",
       "      <td>0.0</td>\n",
       "      <td>...</td>\n",
       "      <td>37.000000</td>\n",
       "      <td>0.000000</td>\n",
       "      <td>0.100000</td>\n",
       "      <td>0.0</td>\n",
       "      <td>0.8</td>\n",
       "      <td>2.0</td>\n",
       "      <td>2.0</td>\n",
       "      <td>2.0</td>\n",
       "      <td>3.0</td>\n",
       "      <td>0.0</td>\n",
       "    </tr>\n",
       "    <tr>\n",
       "      <th>4</th>\n",
       "      <td>0.0</td>\n",
       "      <td>0.0</td>\n",
       "      <td>1.0</td>\n",
       "      <td>0.0</td>\n",
       "      <td>0.0</td>\n",
       "      <td>0.0</td>\n",
       "      <td>0.0</td>\n",
       "      <td>0.0</td>\n",
       "      <td>0.0</td>\n",
       "      <td>0.0</td>\n",
       "      <td>...</td>\n",
       "      <td>407.750000</td>\n",
       "      <td>0.018750</td>\n",
       "      <td>0.025833</td>\n",
       "      <td>0.0</td>\n",
       "      <td>0.4</td>\n",
       "      <td>1.0</td>\n",
       "      <td>1.0</td>\n",
       "      <td>4.0</td>\n",
       "      <td>3.0</td>\n",
       "      <td>0.0</td>\n",
       "    </tr>\n",
       "    <tr>\n",
       "      <th>...</th>\n",
       "      <td>...</td>\n",
       "      <td>...</td>\n",
       "      <td>...</td>\n",
       "      <td>...</td>\n",
       "      <td>...</td>\n",
       "      <td>...</td>\n",
       "      <td>...</td>\n",
       "      <td>...</td>\n",
       "      <td>...</td>\n",
       "      <td>...</td>\n",
       "      <td>...</td>\n",
       "      <td>...</td>\n",
       "      <td>...</td>\n",
       "      <td>...</td>\n",
       "      <td>...</td>\n",
       "      <td>...</td>\n",
       "      <td>...</td>\n",
       "      <td>...</td>\n",
       "      <td>...</td>\n",
       "      <td>...</td>\n",
       "      <td>...</td>\n",
       "    </tr>\n",
       "    <tr>\n",
       "      <th>6594</th>\n",
       "      <td>3.0</td>\n",
       "      <td>0.0</td>\n",
       "      <td>1.0</td>\n",
       "      <td>0.0</td>\n",
       "      <td>0.0</td>\n",
       "      <td>0.0</td>\n",
       "      <td>0.0</td>\n",
       "      <td>0.0</td>\n",
       "      <td>0.0</td>\n",
       "      <td>0.0</td>\n",
       "      <td>...</td>\n",
       "      <td>208.000000</td>\n",
       "      <td>0.000000</td>\n",
       "      <td>0.028571</td>\n",
       "      <td>0.0</td>\n",
       "      <td>0.0</td>\n",
       "      <td>4.0</td>\n",
       "      <td>1.0</td>\n",
       "      <td>1.0</td>\n",
       "      <td>5.0</td>\n",
       "      <td>1.0</td>\n",
       "    </tr>\n",
       "    <tr>\n",
       "      <th>6595</th>\n",
       "      <td>1.0</td>\n",
       "      <td>0.0</td>\n",
       "      <td>0.0</td>\n",
       "      <td>0.0</td>\n",
       "      <td>0.0</td>\n",
       "      <td>0.0</td>\n",
       "      <td>0.0</td>\n",
       "      <td>0.0</td>\n",
       "      <td>0.0</td>\n",
       "      <td>0.0</td>\n",
       "      <td>...</td>\n",
       "      <td>1738.472529</td>\n",
       "      <td>0.000027</td>\n",
       "      <td>0.025998</td>\n",
       "      <td>0.0</td>\n",
       "      <td>0.0</td>\n",
       "      <td>2.0</td>\n",
       "      <td>4.0</td>\n",
       "      <td>9.0</td>\n",
       "      <td>11.0</td>\n",
       "      <td>0.0</td>\n",
       "    </tr>\n",
       "    <tr>\n",
       "      <th>6596</th>\n",
       "      <td>3.0</td>\n",
       "      <td>0.0</td>\n",
       "      <td>0.0</td>\n",
       "      <td>0.0</td>\n",
       "      <td>0.0</td>\n",
       "      <td>0.0</td>\n",
       "      <td>1.0</td>\n",
       "      <td>0.0</td>\n",
       "      <td>0.0</td>\n",
       "      <td>0.0</td>\n",
       "      <td>...</td>\n",
       "      <td>0.000000</td>\n",
       "      <td>0.002778</td>\n",
       "      <td>0.009127</td>\n",
       "      <td>0.0</td>\n",
       "      <td>0.6</td>\n",
       "      <td>8.0</td>\n",
       "      <td>5.0</td>\n",
       "      <td>1.0</td>\n",
       "      <td>2.0</td>\n",
       "      <td>0.0</td>\n",
       "    </tr>\n",
       "    <tr>\n",
       "      <th>6597</th>\n",
       "      <td>2.0</td>\n",
       "      <td>0.0</td>\n",
       "      <td>0.0</td>\n",
       "      <td>0.0</td>\n",
       "      <td>0.0</td>\n",
       "      <td>0.0</td>\n",
       "      <td>1.0</td>\n",
       "      <td>0.0</td>\n",
       "      <td>0.0</td>\n",
       "      <td>0.0</td>\n",
       "      <td>...</td>\n",
       "      <td>9.000000</td>\n",
       "      <td>0.066667</td>\n",
       "      <td>0.133333</td>\n",
       "      <td>0.0</td>\n",
       "      <td>0.0</td>\n",
       "      <td>2.0</td>\n",
       "      <td>2.0</td>\n",
       "      <td>2.0</td>\n",
       "      <td>3.0</td>\n",
       "      <td>1.0</td>\n",
       "    </tr>\n",
       "    <tr>\n",
       "      <th>6598</th>\n",
       "      <td>2.0</td>\n",
       "      <td>0.0</td>\n",
       "      <td>0.0</td>\n",
       "      <td>0.0</td>\n",
       "      <td>0.0</td>\n",
       "      <td>0.0</td>\n",
       "      <td>1.0</td>\n",
       "      <td>0.0</td>\n",
       "      <td>0.0</td>\n",
       "      <td>0.0</td>\n",
       "      <td>...</td>\n",
       "      <td>313.000000</td>\n",
       "      <td>0.000000</td>\n",
       "      <td>0.050000</td>\n",
       "      <td>0.0</td>\n",
       "      <td>0.0</td>\n",
       "      <td>2.0</td>\n",
       "      <td>4.0</td>\n",
       "      <td>3.0</td>\n",
       "      <td>1.0</td>\n",
       "      <td>0.0</td>\n",
       "    </tr>\n",
       "  </tbody>\n",
       "</table>\n",
       "<p>6599 rows × 33 columns</p>\n",
       "</div>"
      ],
      "text/plain": [
       "       0    1    2    3    4    5    6    7    8    9   ...           23  \\\n",
       "0     1.0  0.0  1.0  0.0  0.0  0.0  0.0  0.0  0.0  0.0  ...     0.000000   \n",
       "1     3.0  0.0  1.0  0.0  0.0  0.0  0.0  0.0  0.0  0.0  ...    64.000000   \n",
       "2     2.0  0.0  1.0  0.0  0.0  0.0  0.0  0.0  0.0  0.0  ...   154.216667   \n",
       "3     3.0  0.0  1.0  0.0  0.0  0.0  0.0  0.0  0.0  0.0  ...    37.000000   \n",
       "4     0.0  0.0  1.0  0.0  0.0  0.0  0.0  0.0  0.0  0.0  ...   407.750000   \n",
       "...   ...  ...  ...  ...  ...  ...  ...  ...  ...  ...  ...          ...   \n",
       "6594  3.0  0.0  1.0  0.0  0.0  0.0  0.0  0.0  0.0  0.0  ...   208.000000   \n",
       "6595  1.0  0.0  0.0  0.0  0.0  0.0  0.0  0.0  0.0  0.0  ...  1738.472529   \n",
       "6596  3.0  0.0  0.0  0.0  0.0  0.0  1.0  0.0  0.0  0.0  ...     0.000000   \n",
       "6597  2.0  0.0  0.0  0.0  0.0  0.0  1.0  0.0  0.0  0.0  ...     9.000000   \n",
       "6598  2.0  0.0  0.0  0.0  0.0  0.0  1.0  0.0  0.0  0.0  ...   313.000000   \n",
       "\n",
       "            24        25   26   27   28   29   30    31   32  \n",
       "0     0.200000  0.200000  0.0  0.0  1.0  1.0  1.0   1.0  0.0  \n",
       "1     0.000000  0.100000  0.0  0.0  2.0  2.0  1.0   2.0  0.0  \n",
       "2     0.015789  0.024561  0.0  0.0  2.0  2.0  1.0   3.0  0.0  \n",
       "3     0.000000  0.100000  0.0  0.8  2.0  2.0  2.0   3.0  0.0  \n",
       "4     0.018750  0.025833  0.0  0.4  1.0  1.0  4.0   3.0  0.0  \n",
       "...        ...       ...  ...  ...  ...  ...  ...   ...  ...  \n",
       "6594  0.000000  0.028571  0.0  0.0  4.0  1.0  1.0   5.0  1.0  \n",
       "6595  0.000027  0.025998  0.0  0.0  2.0  4.0  9.0  11.0  0.0  \n",
       "6596  0.002778  0.009127  0.0  0.6  8.0  5.0  1.0   2.0  0.0  \n",
       "6597  0.066667  0.133333  0.0  0.0  2.0  2.0  2.0   3.0  1.0  \n",
       "6598  0.000000  0.050000  0.0  0.0  2.0  4.0  3.0   1.0  0.0  \n",
       "\n",
       "[6599 rows x 33 columns]"
      ]
     },
     "execution_count": 48,
     "metadata": {},
     "output_type": "execute_result"
    }
   ],
   "source": [
    "thist"
   ]
  },
  {
   "cell_type": "code",
   "execution_count": 49,
   "id": "3aaea856",
   "metadata": {
    "execution": {
     "iopub.execute_input": "2023-04-03T18:07:10.865232Z",
     "iopub.status.busy": "2023-04-03T18:07:10.864767Z",
     "iopub.status.idle": "2023-04-03T18:07:12.153954Z",
     "shell.execute_reply": "2023-04-03T18:07:12.152470Z"
    },
    "papermill": {
     "duration": 1.331704,
     "end_time": "2023-04-03T18:07:12.157545",
     "exception": false,
     "start_time": "2023-04-03T18:07:10.825841",
     "status": "completed"
    },
    "tags": []
   },
   "outputs": [
    {
     "data": {
      "image/png": "[encoded data removed]",
      "text/plain": [
       "<Figure size 1400x700 with 2 Axes>"
      ]
     },
     "metadata": {},
     "output_type": "display_data"
    }
   ],
   "source": [
    "\n",
    "plt.figure(figsize=(14,7))\n",
    "\n",
    "sns.heatmap(floating.corr(),annot=True)\n",
    "\n",
    "plt.show()"
   ]
  },
  {
   "cell_type": "code",
   "execution_count": 50,
   "id": "bea91bea",
   "metadata": {
    "execution": {
     "iopub.execute_input": "2023-04-03T18:07:12.241332Z",
     "iopub.status.busy": "2023-04-03T18:07:12.240852Z",
     "iopub.status.idle": "2023-04-03T18:07:12.256129Z",
     "shell.execute_reply": "2023-04-03T18:07:12.254746Z"
    },
    "papermill": {
     "duration": 0.060804,
     "end_time": "2023-04-03T18:07:12.258973",
     "exception": false,
     "start_time": "2023-04-03T18:07:12.198169",
     "status": "completed"
    },
    "tags": []
   },
   "outputs": [
    {
     "data": {
      "text/plain": [
       "0    0\n",
       "1    0\n",
       "2    0\n",
       "3    0\n",
       "4    0\n",
       "5    0\n",
       "dtype: int64"
      ]
     },
     "execution_count": 50,
     "metadata": {},
     "output_type": "execute_result"
    }
   ],
   "source": [
    "obj.isnull().sum()"
   ]
  },
  {
   "cell_type": "code",
   "execution_count": 51,
   "id": "52839e62",
   "metadata": {
    "execution": {
     "iopub.execute_input": "2023-04-03T18:07:12.344796Z",
     "iopub.status.busy": "2023-04-03T18:07:12.344399Z",
     "iopub.status.idle": "2023-04-03T18:07:12.576823Z",
     "shell.execute_reply": "2023-04-03T18:07:12.575729Z"
    },
    "papermill": {
     "duration": 0.27908,
     "end_time": "2023-04-03T18:07:12.579927",
     "exception": false,
     "start_time": "2023-04-03T18:07:12.300847",
     "status": "completed"
    },
    "tags": []
   },
   "outputs": [],
   "source": [
    "from sklearn.preprocessing import QuantileTransformer\n",
    "\n",
    "qt = QuantileTransformer(output_distribution='normal')\n",
    "\n",
    "this = qt.fit_transform(this)\n",
    "thist = qt.fit_transform(thist)\n"
   ]
  },
  {
   "cell_type": "code",
   "execution_count": 52,
   "id": "e5055b32",
   "metadata": {
    "execution": {
     "iopub.execute_input": "2023-04-03T18:07:12.669135Z",
     "iopub.status.busy": "2023-04-03T18:07:12.668664Z",
     "iopub.status.idle": "2023-04-03T18:07:12.673453Z",
     "shell.execute_reply": "2023-04-03T18:07:12.672436Z"
    },
    "papermill": {
     "duration": 0.052852,
     "end_time": "2023-04-03T18:07:12.675802",
     "exception": false,
     "start_time": "2023-04-03T18:07:12.622950",
     "status": "completed"
    },
    "tags": []
   },
   "outputs": [],
   "source": [
    "from sklearn.preprocessing import StandardScaler"
   ]
  },
  {
   "cell_type": "code",
   "execution_count": null,
   "id": "fb98dac6",
   "metadata": {
    "papermill": {
     "duration": 0.041756,
     "end_time": "2023-04-03T18:07:12.759619",
     "exception": false,
     "start_time": "2023-04-03T18:07:12.717863",
     "status": "completed"
    },
    "tags": []
   },
   "outputs": [],
   "source": []
  },
  {
   "cell_type": "code",
   "execution_count": null,
   "id": "f942000b",
   "metadata": {
    "papermill": {
     "duration": 0.040192,
     "end_time": "2023-04-03T18:07:12.840994",
     "exception": false,
     "start_time": "2023-04-03T18:07:12.800802",
     "status": "completed"
    },
    "tags": []
   },
   "outputs": [],
   "source": []
  },
  {
   "cell_type": "code",
   "execution_count": 53,
   "id": "b857b634",
   "metadata": {
    "execution": {
     "iopub.execute_input": "2023-04-03T18:07:12.924540Z",
     "iopub.status.busy": "2023-04-03T18:07:12.923816Z",
     "iopub.status.idle": "2023-04-03T18:07:12.928790Z",
     "shell.execute_reply": "2023-04-03T18:07:12.927707Z"
    },
    "papermill": {
     "duration": 0.049486,
     "end_time": "2023-04-03T18:07:12.931418",
     "exception": false,
     "start_time": "2023-04-03T18:07:12.881932",
     "status": "completed"
    },
    "tags": []
   },
   "outputs": [],
   "source": [
    "# for col in this.columns:\n",
    "#     plt.figure(figsize=(14,4))\n",
    "#     plt.subplot(121)\n",
    "#     sns.kdeplot(this[col])"
   ]
  },
  {
   "cell_type": "code",
   "execution_count": 54,
   "id": "e18cc1f4",
   "metadata": {
    "execution": {
     "iopub.execute_input": "2023-04-03T18:07:13.017023Z",
     "iopub.status.busy": "2023-04-03T18:07:13.016314Z",
     "iopub.status.idle": "2023-04-03T18:07:13.023078Z",
     "shell.execute_reply": "2023-04-03T18:07:13.022059Z"
    },
    "papermill": {
     "duration": 0.05274,
     "end_time": "2023-04-03T18:07:13.025624",
     "exception": false,
     "start_time": "2023-04-03T18:07:12.972884",
     "status": "completed"
    },
    "tags": []
   },
   "outputs": [],
   "source": [
    "\n",
    "# from scipy import stats\n",
    "\n",
    "\n",
    "\n",
    "\n",
    "\n",
    "# z_scores = np.abs(stats.zscore(thisnew))\n",
    "\n",
    "\n",
    "# threshold = 2\n",
    "\n",
    "# thisnew1 = np.where(z_scores > threshold, threshold, thisnew)\n"
   ]
  },
  {
   "cell_type": "code",
   "execution_count": 55,
   "id": "57221829",
   "metadata": {
    "execution": {
     "iopub.execute_input": "2023-04-03T18:07:13.114627Z",
     "iopub.status.busy": "2023-04-03T18:07:13.113770Z",
     "iopub.status.idle": "2023-04-03T18:07:13.120133Z",
     "shell.execute_reply": "2023-04-03T18:07:13.118748Z"
    },
    "papermill": {
     "duration": 0.054309,
     "end_time": "2023-04-03T18:07:13.123055",
     "exception": false,
     "start_time": "2023-04-03T18:07:13.068746",
     "status": "completed"
    },
    "tags": []
   },
   "outputs": [],
   "source": [
    "\n",
    "# from scipy import stats\n",
    "\n",
    "\n",
    "\n",
    "\n",
    "\n",
    "# z_scores = np.abs(stats.zscore(thistnew))\n",
    "\n",
    "\n",
    "# threshold = 2\n",
    "\n",
    "\n",
    "# thistnew1 = np.where(z_scores > threshold, threshold, thistnew)\n",
    "\n",
    "\n"
   ]
  },
  {
   "cell_type": "code",
   "execution_count": null,
   "id": "460c44ea",
   "metadata": {
    "papermill": {
     "duration": 0.040648,
     "end_time": "2023-04-03T18:07:13.207253",
     "exception": false,
     "start_time": "2023-04-03T18:07:13.166605",
     "status": "completed"
    },
    "tags": []
   },
   "outputs": [],
   "source": []
  },
  {
   "cell_type": "code",
   "execution_count": null,
   "id": "5f77b4dd",
   "metadata": {
    "papermill": {
     "duration": 0.042282,
     "end_time": "2023-04-03T18:07:13.290262",
     "exception": false,
     "start_time": "2023-04-03T18:07:13.247980",
     "status": "completed"
    },
    "tags": []
   },
   "outputs": [],
   "source": []
  },
  {
   "cell_type": "code",
   "execution_count": 56,
   "id": "994dfa9c",
   "metadata": {
    "execution": {
     "iopub.execute_input": "2023-04-03T18:07:13.373302Z",
     "iopub.status.busy": "2023-04-03T18:07:13.372892Z",
     "iopub.status.idle": "2023-04-03T18:07:13.378200Z",
     "shell.execute_reply": "2023-04-03T18:07:13.377066Z"
    },
    "papermill": {
     "duration": 0.049808,
     "end_time": "2023-04-03T18:07:13.380899",
     "exception": false,
     "start_time": "2023-04-03T18:07:13.331091",
     "status": "completed"
    },
    "tags": []
   },
   "outputs": [],
   "source": [
    "from sklearn.preprocessing import RobustScaler\n",
    "\n",
    "\n",
    "scaler = RobustScaler()\n",
    "\n",
    "# scaled_data = sc.fit_transform(scaled_data7)\n",
    "\n",
    "# scaled_datat = sc.fit_transform(scaled_datat7)\n",
    "\n",
    "\n",
    "# scaled_d = pd.DataFrame(scaled_data)\n",
    "# scaled_dt = pd.DataFrame(scaled_datat)\n",
    "\n",
    "\n"
   ]
  },
  {
   "cell_type": "code",
   "execution_count": 57,
   "id": "b7722227",
   "metadata": {
    "execution": {
     "iopub.execute_input": "2023-04-03T18:07:13.465877Z",
     "iopub.status.busy": "2023-04-03T18:07:13.465464Z",
     "iopub.status.idle": "2023-04-03T18:07:13.470865Z",
     "shell.execute_reply": "2023-04-03T18:07:13.469242Z"
    },
    "papermill": {
     "duration": 0.05141,
     "end_time": "2023-04-03T18:07:13.473670",
     "exception": false,
     "start_time": "2023-04-03T18:07:13.422260",
     "status": "completed"
    },
    "tags": []
   },
   "outputs": [],
   "source": [
    "# for col in scaled_d.columns:\n",
    "#     plt.figure(figsize=(14,4))\n",
    "#     plt.subplot(121)\n",
    "#     sns.kdeplot(scaled_d[col])"
   ]
  },
  {
   "cell_type": "code",
   "execution_count": 58,
   "id": "d1952545",
   "metadata": {
    "execution": {
     "iopub.execute_input": "2023-04-03T18:07:13.558419Z",
     "iopub.status.busy": "2023-04-03T18:07:13.556931Z",
     "iopub.status.idle": "2023-04-03T18:07:13.562899Z",
     "shell.execute_reply": "2023-04-03T18:07:13.561989Z"
    },
    "papermill": {
     "duration": 0.051249,
     "end_time": "2023-04-03T18:07:13.565465",
     "exception": false,
     "start_time": "2023-04-03T18:07:13.514216",
     "status": "completed"
    },
    "tags": []
   },
   "outputs": [],
   "source": [
    "\n",
    "# from sklearn.preprocessing import PowerTransformer\n",
    "\n",
    "\n",
    "\n",
    "# pt = PowerTransformer()\n",
    "\n",
    "\n",
    "# scaled_d1 = pt.fit_transform(this)\n",
    "\n",
    "# scaled_dt1 = pt.fit_transform(thist)\n"
   ]
  },
  {
   "cell_type": "code",
   "execution_count": 59,
   "id": "1be76f57",
   "metadata": {
    "execution": {
     "iopub.execute_input": "2023-04-03T18:07:13.652106Z",
     "iopub.status.busy": "2023-04-03T18:07:13.650938Z",
     "iopub.status.idle": "2023-04-03T18:07:13.657336Z",
     "shell.execute_reply": "2023-04-03T18:07:13.656297Z"
    },
    "papermill": {
     "duration": 0.052033,
     "end_time": "2023-04-03T18:07:13.659766",
     "exception": false,
     "start_time": "2023-04-03T18:07:13.607733",
     "status": "completed"
    },
    "tags": []
   },
   "outputs": [],
   "source": [
    "scaled_d1=pd.DataFrame(this)\n",
    "scaled_dt1=pd.DataFrame(thist)"
   ]
  },
  {
   "cell_type": "code",
   "execution_count": 60,
   "id": "62ffbe92",
   "metadata": {
    "execution": {
     "iopub.execute_input": "2023-04-03T18:07:13.744816Z",
     "iopub.status.busy": "2023-04-03T18:07:13.743810Z",
     "iopub.status.idle": "2023-04-03T18:07:13.771455Z",
     "shell.execute_reply": "2023-04-03T18:07:13.770036Z"
    },
    "papermill": {
     "duration": 0.072934,
     "end_time": "2023-04-03T18:07:13.774181",
     "exception": false,
     "start_time": "2023-04-03T18:07:13.701247",
     "status": "completed"
    },
    "tags": []
   },
   "outputs": [
    {
     "data": {
      "text/html": [
       "<div>\n",
       "<style scoped>\n",
       "    .dataframe tbody tr th:only-of-type {\n",
       "        vertical-align: middle;\n",
       "    }\n",
       "\n",
       "    .dataframe tbody tr th {\n",
       "        vertical-align: top;\n",
       "    }\n",
       "\n",
       "    .dataframe thead th {\n",
       "        text-align: right;\n",
       "    }\n",
       "</style>\n",
       "<table border=\"1\" class=\"dataframe\">\n",
       "  <thead>\n",
       "    <tr style=\"text-align: right;\">\n",
       "      <th></th>\n",
       "      <th>0</th>\n",
       "      <th>1</th>\n",
       "      <th>2</th>\n",
       "      <th>3</th>\n",
       "      <th>4</th>\n",
       "      <th>5</th>\n",
       "      <th>6</th>\n",
       "      <th>7</th>\n",
       "      <th>8</th>\n",
       "      <th>9</th>\n",
       "      <th>...</th>\n",
       "      <th>23</th>\n",
       "      <th>24</th>\n",
       "      <th>25</th>\n",
       "      <th>26</th>\n",
       "      <th>27</th>\n",
       "      <th>28</th>\n",
       "      <th>29</th>\n",
       "      <th>30</th>\n",
       "      <th>31</th>\n",
       "      <th>32</th>\n",
       "    </tr>\n",
       "  </thead>\n",
       "  <tbody>\n",
       "    <tr>\n",
       "      <th>0</th>\n",
       "      <td>-5.199338</td>\n",
       "      <td>-5.199338</td>\n",
       "      <td>5.199338</td>\n",
       "      <td>-5.199338</td>\n",
       "      <td>-5.199338</td>\n",
       "      <td>-5.199338</td>\n",
       "      <td>-5.199338</td>\n",
       "      <td>-5.199338</td>\n",
       "      <td>-5.199338</td>\n",
       "      <td>-5.199338</td>\n",
       "      <td>...</td>\n",
       "      <td>0.234493</td>\n",
       "      <td>-5.199338</td>\n",
       "      <td>-0.830726</td>\n",
       "      <td>1.489697</td>\n",
       "      <td>1.934489</td>\n",
       "      <td>-0.052716</td>\n",
       "      <td>0.058999</td>\n",
       "      <td>0.202098</td>\n",
       "      <td>-5.199338</td>\n",
       "      <td>-5.199338</td>\n",
       "    </tr>\n",
       "    <tr>\n",
       "      <th>1</th>\n",
       "      <td>-0.301855</td>\n",
       "      <td>-5.199338</td>\n",
       "      <td>5.199338</td>\n",
       "      <td>-5.199338</td>\n",
       "      <td>-5.199338</td>\n",
       "      <td>-5.199338</td>\n",
       "      <td>-5.199338</td>\n",
       "      <td>-5.199338</td>\n",
       "      <td>-5.199338</td>\n",
       "      <td>-5.199338</td>\n",
       "      <td>...</td>\n",
       "      <td>1.011412</td>\n",
       "      <td>0.064027</td>\n",
       "      <td>-0.684186</td>\n",
       "      <td>1.214419</td>\n",
       "      <td>-5.199338</td>\n",
       "      <td>-0.052716</td>\n",
       "      <td>1.733071</td>\n",
       "      <td>-5.199338</td>\n",
       "      <td>-0.365531</td>\n",
       "      <td>-5.199338</td>\n",
       "    </tr>\n",
       "    <tr>\n",
       "      <th>2</th>\n",
       "      <td>-5.199338</td>\n",
       "      <td>-5.199338</td>\n",
       "      <td>-5.199338</td>\n",
       "      <td>-5.199338</td>\n",
       "      <td>-5.199338</td>\n",
       "      <td>5.199338</td>\n",
       "      <td>-5.199338</td>\n",
       "      <td>-5.199338</td>\n",
       "      <td>-5.199338</td>\n",
       "      <td>-5.199338</td>\n",
       "      <td>...</td>\n",
       "      <td>0.901900</td>\n",
       "      <td>-5.199338</td>\n",
       "      <td>-0.293000</td>\n",
       "      <td>0.907926</td>\n",
       "      <td>-5.199338</td>\n",
       "      <td>-0.052716</td>\n",
       "      <td>0.058999</td>\n",
       "      <td>1.244778</td>\n",
       "      <td>-0.365531</td>\n",
       "      <td>-5.199338</td>\n",
       "    </tr>\n",
       "    <tr>\n",
       "      <th>3</th>\n",
       "      <td>-5.199338</td>\n",
       "      <td>-5.199338</td>\n",
       "      <td>-5.199338</td>\n",
       "      <td>-5.199338</td>\n",
       "      <td>-5.199338</td>\n",
       "      <td>5.199338</td>\n",
       "      <td>-5.199338</td>\n",
       "      <td>-5.199338</td>\n",
       "      <td>-5.199338</td>\n",
       "      <td>-5.199338</td>\n",
       "      <td>...</td>\n",
       "      <td>1.181842</td>\n",
       "      <td>-5.199338</td>\n",
       "      <td>-1.514861</td>\n",
       "      <td>1.413322</td>\n",
       "      <td>-5.199338</td>\n",
       "      <td>-0.052716</td>\n",
       "      <td>0.058999</td>\n",
       "      <td>0.593940</td>\n",
       "      <td>-0.365531</td>\n",
       "      <td>-5.199338</td>\n",
       "    </tr>\n",
       "    <tr>\n",
       "      <th>4</th>\n",
       "      <td>5.199338</td>\n",
       "      <td>-5.199338</td>\n",
       "      <td>-5.199338</td>\n",
       "      <td>-5.199338</td>\n",
       "      <td>-5.199338</td>\n",
       "      <td>5.199338</td>\n",
       "      <td>-5.199338</td>\n",
       "      <td>-5.199338</td>\n",
       "      <td>-5.199338</td>\n",
       "      <td>-5.199338</td>\n",
       "      <td>...</td>\n",
       "      <td>0.279547</td>\n",
       "      <td>-5.199338</td>\n",
       "      <td>-2.256745</td>\n",
       "      <td>2.665932</td>\n",
       "      <td>-5.199338</td>\n",
       "      <td>-0.052716</td>\n",
       "      <td>0.058999</td>\n",
       "      <td>5.199338</td>\n",
       "      <td>-0.365531</td>\n",
       "      <td>-5.199338</td>\n",
       "    </tr>\n",
       "  </tbody>\n",
       "</table>\n",
       "<p>5 rows × 33 columns</p>\n",
       "</div>"
      ],
      "text/plain": [
       "         0         1         2         3         4         5         6   \\\n",
       "0 -5.199338 -5.199338  5.199338 -5.199338 -5.199338 -5.199338 -5.199338   \n",
       "1 -0.301855 -5.199338  5.199338 -5.199338 -5.199338 -5.199338 -5.199338   \n",
       "2 -5.199338 -5.199338 -5.199338 -5.199338 -5.199338  5.199338 -5.199338   \n",
       "3 -5.199338 -5.199338 -5.199338 -5.199338 -5.199338  5.199338 -5.199338   \n",
       "4  5.199338 -5.199338 -5.199338 -5.199338 -5.199338  5.199338 -5.199338   \n",
       "\n",
       "         7         8         9   ...        23        24        25        26  \\\n",
       "0 -5.199338 -5.199338 -5.199338  ...  0.234493 -5.199338 -0.830726  1.489697   \n",
       "1 -5.199338 -5.199338 -5.199338  ...  1.011412  0.064027 -0.684186  1.214419   \n",
       "2 -5.199338 -5.199338 -5.199338  ...  0.901900 -5.199338 -0.293000  0.907926   \n",
       "3 -5.199338 -5.199338 -5.199338  ...  1.181842 -5.199338 -1.514861  1.413322   \n",
       "4 -5.199338 -5.199338 -5.199338  ...  0.279547 -5.199338 -2.256745  2.665932   \n",
       "\n",
       "         27        28        29        30        31        32  \n",
       "0  1.934489 -0.052716  0.058999  0.202098 -5.199338 -5.199338  \n",
       "1 -5.199338 -0.052716  1.733071 -5.199338 -0.365531 -5.199338  \n",
       "2 -5.199338 -0.052716  0.058999  1.244778 -0.365531 -5.199338  \n",
       "3 -5.199338 -0.052716  0.058999  0.593940 -0.365531 -5.199338  \n",
       "4 -5.199338 -0.052716  0.058999  5.199338 -0.365531 -5.199338  \n",
       "\n",
       "[5 rows x 33 columns]"
      ]
     },
     "execution_count": 60,
     "metadata": {},
     "output_type": "execute_result"
    }
   ],
   "source": [
    "scaled_d1.head()"
   ]
  },
  {
   "cell_type": "code",
   "execution_count": 61,
   "id": "cc156f1d",
   "metadata": {
    "execution": {
     "iopub.execute_input": "2023-04-03T18:07:13.860482Z",
     "iopub.status.busy": "2023-04-03T18:07:13.859272Z",
     "iopub.status.idle": "2023-04-03T18:07:13.864494Z",
     "shell.execute_reply": "2023-04-03T18:07:13.863056Z"
    },
    "papermill": {
     "duration": 0.052359,
     "end_time": "2023-04-03T18:07:13.867487",
     "exception": false,
     "start_time": "2023-04-03T18:07:13.815128",
     "status": "completed"
    },
    "tags": []
   },
   "outputs": [],
   "source": [
    "# t1=SimpleImputer()\n",
    "# scaled_d1=t1.fit_transform(scaled_d1)\n",
    "# scaled_dt1=t1.fit_transform(scaled_dt1)"
   ]
  },
  {
   "cell_type": "code",
   "execution_count": null,
   "id": "88831436",
   "metadata": {
    "papermill": {
     "duration": 0.040611,
     "end_time": "2023-04-03T18:07:13.954437",
     "exception": false,
     "start_time": "2023-04-03T18:07:13.913826",
     "status": "completed"
    },
    "tags": []
   },
   "outputs": [],
   "source": []
  },
  {
   "cell_type": "code",
   "execution_count": null,
   "id": "45143edc",
   "metadata": {
    "papermill": {
     "duration": 0.040298,
     "end_time": "2023-04-03T18:07:14.036789",
     "exception": false,
     "start_time": "2023-04-03T18:07:13.996491",
     "status": "completed"
    },
    "tags": []
   },
   "outputs": [],
   "source": [
    "\n"
   ]
  },
  {
   "cell_type": "code",
   "execution_count": null,
   "id": "61a7af08",
   "metadata": {
    "papermill": {
     "duration": 0.041137,
     "end_time": "2023-04-03T18:07:14.118424",
     "exception": false,
     "start_time": "2023-04-03T18:07:14.077287",
     "status": "completed"
    },
    "tags": []
   },
   "outputs": [],
   "source": []
  },
  {
   "cell_type": "code",
   "execution_count": null,
   "id": "cdfcdee8",
   "metadata": {
    "papermill": {
     "duration": 0.040809,
     "end_time": "2023-04-03T18:07:14.203247",
     "exception": false,
     "start_time": "2023-04-03T18:07:14.162438",
     "status": "completed"
    },
    "tags": []
   },
   "outputs": [],
   "source": []
  },
  {
   "cell_type": "code",
   "execution_count": 62,
   "id": "44967c7d",
   "metadata": {
    "execution": {
     "iopub.execute_input": "2023-04-03T18:07:14.286883Z",
     "iopub.status.busy": "2023-04-03T18:07:14.285840Z",
     "iopub.status.idle": "2023-04-03T18:07:15.146962Z",
     "shell.execute_reply": "2023-04-03T18:07:15.145863Z"
    },
    "papermill": {
     "duration": 0.906137,
     "end_time": "2023-04-03T18:07:15.149833",
     "exception": false,
     "start_time": "2023-04-03T18:07:14.243696",
     "status": "completed"
    },
    "tags": []
   },
   "outputs": [],
   "source": [
    "\n",
    "from sklearn.preprocessing import PowerTransformer\n",
    "\n",
    "\n",
    "\n",
    "pt = PowerTransformer()\n",
    "\n",
    "\n",
    "scaled_d1 = pt.fit_transform(scaled_d1)\n",
    "\n",
    "scaled_dt1 = pt.transform(scaled_dt1)"
   ]
  },
  {
   "cell_type": "code",
   "execution_count": 63,
   "id": "f3915bd0",
   "metadata": {
    "execution": {
     "iopub.execute_input": "2023-04-03T18:07:15.234350Z",
     "iopub.status.busy": "2023-04-03T18:07:15.233591Z",
     "iopub.status.idle": "2023-04-03T18:07:15.267428Z",
     "shell.execute_reply": "2023-04-03T18:07:15.266473Z"
    },
    "papermill": {
     "duration": 0.07917,
     "end_time": "2023-04-03T18:07:15.270167",
     "exception": false,
     "start_time": "2023-04-03T18:07:15.190997",
     "status": "completed"
    },
    "tags": []
   },
   "outputs": [],
   "source": [
    "\n",
    "scaled_d1 = scaler.fit_transform(scaled_d1)\n",
    "\n",
    "scaled_dt1 = scaler.transform(scaled_dt1)\n"
   ]
  },
  {
   "cell_type": "code",
   "execution_count": 64,
   "id": "6bebf41e",
   "metadata": {
    "execution": {
     "iopub.execute_input": "2023-04-03T18:07:15.355445Z",
     "iopub.status.busy": "2023-04-03T18:07:15.355025Z",
     "iopub.status.idle": "2023-04-03T18:07:15.375249Z",
     "shell.execute_reply": "2023-04-03T18:07:15.373604Z"
    },
    "papermill": {
     "duration": 0.067061,
     "end_time": "2023-04-03T18:07:15.378230",
     "exception": false,
     "start_time": "2023-04-03T18:07:15.311169",
     "status": "completed"
    },
    "tags": []
   },
   "outputs": [],
   "source": [
    "sc=StandardScaler()\n",
    "scaled_d1=sc.fit_transform(scaled_d1)\n",
    "scaled_dt1=sc.transform(scaled_dt1)"
   ]
  },
  {
   "cell_type": "code",
   "execution_count": null,
   "id": "294dc79f",
   "metadata": {
    "papermill": {
     "duration": 0.041401,
     "end_time": "2023-04-03T18:07:15.460557",
     "exception": false,
     "start_time": "2023-04-03T18:07:15.419156",
     "status": "completed"
    },
    "tags": []
   },
   "outputs": [],
   "source": []
  },
  {
   "cell_type": "code",
   "execution_count": 65,
   "id": "932001b4",
   "metadata": {
    "execution": {
     "iopub.execute_input": "2023-04-03T18:07:15.544725Z",
     "iopub.status.busy": "2023-04-03T18:07:15.544270Z",
     "iopub.status.idle": "2023-04-03T18:07:15.549662Z",
     "shell.execute_reply": "2023-04-03T18:07:15.548348Z"
    },
    "papermill": {
     "duration": 0.050857,
     "end_time": "2023-04-03T18:07:15.552331",
     "exception": false,
     "start_time": "2023-04-03T18:07:15.501474",
     "status": "completed"
    },
    "tags": []
   },
   "outputs": [],
   "source": [
    "#  for col in scaled_d.columns:\n",
    "#     plt.figure(figsize=(14,4))\n",
    "#     plt.subplot(121)\n",
    "#     sns.kdeplot(scaled_d1[col])"
   ]
  },
  {
   "cell_type": "code",
   "execution_count": 66,
   "id": "2e4c8285",
   "metadata": {
    "execution": {
     "iopub.execute_input": "2023-04-03T18:07:15.638362Z",
     "iopub.status.busy": "2023-04-03T18:07:15.637277Z",
     "iopub.status.idle": "2023-04-03T18:07:15.643377Z",
     "shell.execute_reply": "2023-04-03T18:07:15.642087Z"
    },
    "papermill": {
     "duration": 0.051663,
     "end_time": "2023-04-03T18:07:15.645988",
     "exception": false,
     "start_time": "2023-04-03T18:07:15.594325",
     "status": "completed"
    },
    "tags": []
   },
   "outputs": [],
   "source": [
    "#   for col in scaled_d.columns:\n",
    "#         plt.figure(figsize=(14,4))\n",
    "#         plt.subplot(121)\n",
    "#         sns.kdeplot(scaled_d1[col])"
   ]
  },
  {
   "cell_type": "code",
   "execution_count": 67,
   "id": "81d3b9f1",
   "metadata": {
    "execution": {
     "iopub.execute_input": "2023-04-03T18:07:15.730853Z",
     "iopub.status.busy": "2023-04-03T18:07:15.730385Z",
     "iopub.status.idle": "2023-04-03T18:07:15.735691Z",
     "shell.execute_reply": "2023-04-03T18:07:15.734171Z"
    },
    "papermill": {
     "duration": 0.051337,
     "end_time": "2023-04-03T18:07:15.738250",
     "exception": false,
     "start_time": "2023-04-03T18:07:15.686913",
     "status": "completed"
    },
    "tags": []
   },
   "outputs": [],
   "source": [
    "\n",
    "# from sklearn.preprocessing import PowerTransformer\n",
    "\n",
    "\n",
    "\n",
    "# pt = PowerTransformer()\n",
    "\n",
    "\n",
    "# scaled_d1 = pt.fit_transform(scaled_d1)\n",
    "\n",
    "# scaled_dt1 = pt.transform(scaled_dt1)"
   ]
  },
  {
   "cell_type": "code",
   "execution_count": 68,
   "id": "8a00cd12",
   "metadata": {
    "execution": {
     "iopub.execute_input": "2023-04-03T18:07:15.822303Z",
     "iopub.status.busy": "2023-04-03T18:07:15.821876Z",
     "iopub.status.idle": "2023-04-03T18:07:15.827487Z",
     "shell.execute_reply": "2023-04-03T18:07:15.826096Z"
    },
    "papermill": {
     "duration": 0.050489,
     "end_time": "2023-04-03T18:07:15.830215",
     "exception": false,
     "start_time": "2023-04-03T18:07:15.779726",
     "status": "completed"
    },
    "tags": []
   },
   "outputs": [],
   "source": [
    "\n",
    "scaled_d1=pd.DataFrame(scaled_d1)\n",
    "scaled_dt1=pd.DataFrame(scaled_dt1)"
   ]
  },
  {
   "cell_type": "code",
   "execution_count": null,
   "id": "3aacb594",
   "metadata": {
    "papermill": {
     "duration": 0.040935,
     "end_time": "2023-04-03T18:07:15.911955",
     "exception": false,
     "start_time": "2023-04-03T18:07:15.871020",
     "status": "completed"
    },
    "tags": []
   },
   "outputs": [],
   "source": []
  },
  {
   "cell_type": "code",
   "execution_count": 69,
   "id": "7da46277",
   "metadata": {
    "execution": {
     "iopub.execute_input": "2023-04-03T18:07:15.996272Z",
     "iopub.status.busy": "2023-04-03T18:07:15.995759Z",
     "iopub.status.idle": "2023-04-03T18:07:16.000987Z",
     "shell.execute_reply": "2023-04-03T18:07:15.999609Z"
    },
    "papermill": {
     "duration": 0.050342,
     "end_time": "2023-04-03T18:07:16.003499",
     "exception": false,
     "start_time": "2023-04-03T18:07:15.953157",
     "status": "completed"
    },
    "tags": []
   },
   "outputs": [],
   "source": [
    "# for col in scaled_d1.columns:\n",
    "#     plt.figure(figsize=(14,4))\n",
    "#     plt.subplot(121)\n",
    "#     sns.kdeplot(scaled_d1[col])"
   ]
  },
  {
   "cell_type": "code",
   "execution_count": null,
   "id": "5647ac50",
   "metadata": {
    "papermill": {
     "duration": 0.112237,
     "end_time": "2023-04-03T18:07:16.156880",
     "exception": false,
     "start_time": "2023-04-03T18:07:16.044643",
     "status": "completed"
    },
    "tags": []
   },
   "outputs": [],
   "source": [
    "\n"
   ]
  },
  {
   "cell_type": "code",
   "execution_count": null,
   "id": "35b2043d",
   "metadata": {
    "papermill": {
     "duration": 0.041378,
     "end_time": "2023-04-03T18:07:16.240122",
     "exception": false,
     "start_time": "2023-04-03T18:07:16.198744",
     "status": "completed"
    },
    "tags": []
   },
   "outputs": [],
   "source": []
  },
  {
   "cell_type": "code",
   "execution_count": null,
   "id": "4fd391fd",
   "metadata": {
    "papermill": {
     "duration": 0.040752,
     "end_time": "2023-04-03T18:07:16.322865",
     "exception": false,
     "start_time": "2023-04-03T18:07:16.282113",
     "status": "completed"
    },
    "tags": []
   },
   "outputs": [],
   "source": [
    "\n"
   ]
  },
  {
   "cell_type": "code",
   "execution_count": 70,
   "id": "1b09f89c",
   "metadata": {
    "execution": {
     "iopub.execute_input": "2023-04-03T18:07:16.408515Z",
     "iopub.status.busy": "2023-04-03T18:07:16.407831Z",
     "iopub.status.idle": "2023-04-03T18:07:16.412773Z",
     "shell.execute_reply": "2023-04-03T18:07:16.411526Z"
    },
    "papermill": {
     "duration": 0.049798,
     "end_time": "2023-04-03T18:07:16.415100",
     "exception": false,
     "start_time": "2023-04-03T18:07:16.365302",
     "status": "completed"
    },
    "tags": []
   },
   "outputs": [],
   "source": [
    "# from sklearn.model_selection import train_test_split\n",
    "\n",
    "\n",
    "\n",
    "\n",
    "# x_train, x_test, y_train1, y_test1 = train_test_split(scaled_d1,y_train, test_size=0.2, random_state=42\n",
    "# )\n",
    "\n"
   ]
  },
  {
   "cell_type": "code",
   "execution_count": 71,
   "id": "2d2082e4",
   "metadata": {
    "execution": {
     "iopub.execute_input": "2023-04-03T18:07:16.498980Z",
     "iopub.status.busy": "2023-04-03T18:07:16.498519Z",
     "iopub.status.idle": "2023-04-03T18:07:37.704933Z",
     "shell.execute_reply": "2023-04-03T18:07:37.703684Z"
    },
    "papermill": {
     "duration": 21.251976,
     "end_time": "2023-04-03T18:07:37.708042",
     "exception": false,
     "start_time": "2023-04-03T18:07:16.456066",
     "status": "completed"
    },
    "tags": []
   },
   "outputs": [],
   "source": [
    "from sklearn.ensemble import VotingClassifier\n",
    "from sklearn.neighbors import KNeighborsClassifier\n",
    "from sklearn.linear_model import LogisticRegression\n",
    "from sklearn.ensemble import AdaBoostClassifier\n",
    "from sklearn.model_selection import cross_val_score\n",
    "from sklearn.utils import shuffle\n",
    "\n",
    "# shuffle the training data\n",
    "xtrain, ytrain = shuffle(scaled_d1, y_train, random_state=1)\n",
    "\n",
    "\n",
    "ready=VotingClassifier(estimators=[\n",
    "   \n",
    "    ('kn', KNeighborsClassifier(n_neighbors=50)),\n",
    "   ('ad', AdaBoostClassifier(n_estimators=50, learning_rate=0.001, random_state=1))\n",
    "    ],\n",
    "    voting='soft')\n",
    "ready.fit(xtrain, ytrain)\n",
    "s = cross_val_score(ready, xtrain, ytrain, cv=15)"
   ]
  },
  {
   "cell_type": "code",
   "execution_count": 72,
   "id": "39c304af",
   "metadata": {
    "execution": {
     "iopub.execute_input": "2023-04-03T18:07:37.794624Z",
     "iopub.status.busy": "2023-04-03T18:07:37.793727Z",
     "iopub.status.idle": "2023-04-03T18:07:37.801269Z",
     "shell.execute_reply": "2023-04-03T18:07:37.800199Z"
    },
    "papermill": {
     "duration": 0.052876,
     "end_time": "2023-04-03T18:07:37.803513",
     "exception": false,
     "start_time": "2023-04-03T18:07:37.750637",
     "status": "completed"
    },
    "tags": []
   },
   "outputs": [
    {
     "data": {
      "text/plain": [
       "array([0.67382413, 0.6605317 , 0.66257669, 0.6605317 , 0.66564417,\n",
       "       0.65746421, 0.66666667, 0.64928425, 0.66768916, 0.66768916,\n",
       "       0.66257669, 0.65404299, 0.66018424, 0.66939611, 0.67758444])"
      ]
     },
     "execution_count": 72,
     "metadata": {},
     "output_type": "execute_result"
    }
   ],
   "source": [
    "s\n"
   ]
  },
  {
   "cell_type": "code",
   "execution_count": 73,
   "id": "bc9f4406",
   "metadata": {
    "execution": {
     "iopub.execute_input": "2023-04-03T18:07:37.887770Z",
     "iopub.status.busy": "2023-04-03T18:07:37.887346Z",
     "iopub.status.idle": "2023-04-03T18:07:37.894891Z",
     "shell.execute_reply": "2023-04-03T18:07:37.893683Z"
    },
    "papermill": {
     "duration": 0.05281,
     "end_time": "2023-04-03T18:07:37.897489",
     "exception": false,
     "start_time": "2023-04-03T18:07:37.844679",
     "status": "completed"
    },
    "tags": []
   },
   "outputs": [
    {
     "data": {
      "text/plain": [
       "0.6637124204348271"
      ]
     },
     "execution_count": 73,
     "metadata": {},
     "output_type": "execute_result"
    }
   ],
   "source": [
    "s.mean()"
   ]
  },
  {
   "cell_type": "code",
   "execution_count": 74,
   "id": "f9375060",
   "metadata": {
    "execution": {
     "iopub.execute_input": "2023-04-03T18:07:37.983389Z",
     "iopub.status.busy": "2023-04-03T18:07:37.982954Z",
     "iopub.status.idle": "2023-04-03T18:07:37.988258Z",
     "shell.execute_reply": "2023-04-03T18:07:37.986793Z"
    },
    "papermill": {
     "duration": 0.051516,
     "end_time": "2023-04-03T18:07:37.990881",
     "exception": false,
     "start_time": "2023-04-03T18:07:37.939365",
     "status": "completed"
    },
    "tags": []
   },
   "outputs": [],
   "source": [
    "# gradboost_best_params = {'n_estimators': 50,\n",
    "                        \n",
    "#                    }\n",
    "\n",
    "# adaboost_best_params = {'n_estimators': 75,\n",
    "                        \n",
    "#                        }\n",
    "\n"
   ]
  },
  {
   "cell_type": "code",
   "execution_count": 75,
   "id": "9f6244c8",
   "metadata": {
    "execution": {
     "iopub.execute_input": "2023-04-03T18:07:38.077117Z",
     "iopub.status.busy": "2023-04-03T18:07:38.076696Z",
     "iopub.status.idle": "2023-04-03T18:07:38.081665Z",
     "shell.execute_reply": "2023-04-03T18:07:38.080499Z"
    },
    "papermill": {
     "duration": 0.05212,
     "end_time": "2023-04-03T18:07:38.084246",
     "exception": false,
     "start_time": "2023-04-03T18:07:38.032126",
     "status": "completed"
    },
    "tags": []
   },
   "outputs": [],
   "source": [
    "from sklearn.ensemble import GradientBoostingClassifier,StackingClassifier\n"
   ]
  },
  {
   "cell_type": "code",
   "execution_count": 76,
   "id": "701f4e99",
   "metadata": {
    "execution": {
     "iopub.execute_input": "2023-04-03T18:07:38.171466Z",
     "iopub.status.busy": "2023-04-03T18:07:38.171004Z",
     "iopub.status.idle": "2023-04-03T18:07:38.176383Z",
     "shell.execute_reply": "2023-04-03T18:07:38.175053Z"
    },
    "papermill": {
     "duration": 0.053479,
     "end_time": "2023-04-03T18:07:38.179124",
     "exception": false,
     "start_time": "2023-04-03T18:07:38.125645",
     "status": "completed"
    },
    "tags": []
   },
   "outputs": [],
   "source": [
    "# estimators = [\n",
    "#     ('gradboost', GradientBoostingClassifier(**gradboost_best_params,\n",
    "#                                              random_state= 2\n",
    "#                                             )),\n",
    "    \n",
    "#     ('adaboost', AdaBoostClassifier(**adaboost_best_params,\n",
    "#                                     random_state= 2,\n",
    "#                                    ))\n",
    "#     ]\n",
    "                 "
   ]
  },
  {
   "cell_type": "code",
   "execution_count": null,
   "id": "239223eb",
   "metadata": {
    "papermill": {
     "duration": 0.040755,
     "end_time": "2023-04-03T18:07:38.261574",
     "exception": false,
     "start_time": "2023-04-03T18:07:38.220819",
     "status": "completed"
    },
    "tags": []
   },
   "outputs": [],
   "source": []
  },
  {
   "cell_type": "code",
   "execution_count": 77,
   "id": "97452b33",
   "metadata": {
    "execution": {
     "iopub.execute_input": "2023-04-03T18:07:38.346685Z",
     "iopub.status.busy": "2023-04-03T18:07:38.346245Z",
     "iopub.status.idle": "2023-04-03T18:07:38.351944Z",
     "shell.execute_reply": "2023-04-03T18:07:38.350347Z"
    },
    "papermill": {
     "duration": 0.05203,
     "end_time": "2023-04-03T18:07:38.354891",
     "exception": false,
     "start_time": "2023-04-03T18:07:38.302861",
     "status": "completed"
    },
    "tags": []
   },
   "outputs": [],
   "source": [
    "        \n",
    "# ready= StackingClassifier(estimators=estimators, final_estimator=AdaBoostClassifier(**adaboost_best_params,random_state= 2 ))"
   ]
  },
  {
   "cell_type": "code",
   "execution_count": 78,
   "id": "d77d82c7",
   "metadata": {
    "execution": {
     "iopub.execute_input": "2023-04-03T18:07:38.440179Z",
     "iopub.status.busy": "2023-04-03T18:07:38.439702Z",
     "iopub.status.idle": "2023-04-03T18:07:38.444631Z",
     "shell.execute_reply": "2023-04-03T18:07:38.443400Z"
    },
    "papermill": {
     "duration": 0.049826,
     "end_time": "2023-04-03T18:07:38.446940",
     "exception": false,
     "start_time": "2023-04-03T18:07:38.397114",
     "status": "completed"
    },
    "tags": []
   },
   "outputs": [],
   "source": [
    "# # from sklearn.ensemble import AdaBoostClassifier\n",
    "# from sklearn.model_selection import cross_val_score\n",
    "\n",
    "\n",
    "\n",
    "#ready = AdaBoostClassifier(n_estimators=300, learning_rate=0.001, random_state=1)\n",
    "\n",
    "\n",
    "# # ready.fit(x_train, y_train1)\n"
   ]
  },
  {
   "cell_type": "code",
   "execution_count": 79,
   "id": "1afeca63",
   "metadata": {
    "execution": {
     "iopub.execute_input": "2023-04-03T18:07:38.532596Z",
     "iopub.status.busy": "2023-04-03T18:07:38.532177Z",
     "iopub.status.idle": "2023-04-03T18:07:38.538274Z",
     "shell.execute_reply": "2023-04-03T18:07:38.536566Z"
    },
    "papermill": {
     "duration": 0.05364,
     "end_time": "2023-04-03T18:07:38.541682",
     "exception": false,
     "start_time": "2023-04-03T18:07:38.488042",
     "status": "completed"
    },
    "tags": []
   },
   "outputs": [],
   "source": [
    "# from xgboost import XGBClassifier\n",
    "# ready= XGBClassifier(n_estimators=2, max_depth=2, learning_rate=1, objective='binary:logistic')\n"
   ]
  },
  {
   "cell_type": "code",
   "execution_count": 80,
   "id": "a9e7d680",
   "metadata": {
    "execution": {
     "iopub.execute_input": "2023-04-03T18:07:38.631745Z",
     "iopub.status.busy": "2023-04-03T18:07:38.631328Z",
     "iopub.status.idle": "2023-04-03T18:07:38.636031Z",
     "shell.execute_reply": "2023-04-03T18:07:38.634953Z"
    },
    "papermill": {
     "duration": 0.051277,
     "end_time": "2023-04-03T18:07:38.638596",
     "exception": false,
     "start_time": "2023-04-03T18:07:38.587319",
     "status": "completed"
    },
    "tags": []
   },
   "outputs": [],
   "source": [
    "# from sklearn.linear_model import LogisticRegression\n",
    "\n",
    "# from sklearn.ensemble import  VotingClassifier\n",
    "# from sklearn.ensemble import AdaBoostClassifier\n",
    "# from sklearn.model_selection import cross_val_score\n",
    "# ready=VotingClassifier(estimators=[\n",
    "#     ('lr', LogisticRegression(solver='liblinear',penalty='l1', random_state=6) ),\n",
    "#     ('gb', XGBClassifier(n_estimators=2, max_depth=2, learning_rate=1, objective='binary:logistic') )\n",
    "   \n",
    "#     ],\n",
    "#     voting='soft')\n"
   ]
  },
  {
   "cell_type": "code",
   "execution_count": 81,
   "id": "554abc55",
   "metadata": {
    "execution": {
     "iopub.execute_input": "2023-04-03T18:07:38.726781Z",
     "iopub.status.busy": "2023-04-03T18:07:38.725969Z",
     "iopub.status.idle": "2023-04-03T18:07:38.730975Z",
     "shell.execute_reply": "2023-04-03T18:07:38.729732Z"
    },
    "papermill": {
     "duration": 0.05119,
     "end_time": "2023-04-03T18:07:38.733687",
     "exception": false,
     "start_time": "2023-04-03T18:07:38.682497",
     "status": "completed"
    },
    "tags": []
   },
   "outputs": [],
   "source": [
    "# ready.fit(x_train,y_train1)"
   ]
  },
  {
   "cell_type": "code",
   "execution_count": 82,
   "id": "625e068a",
   "metadata": {
    "execution": {
     "iopub.execute_input": "2023-04-03T18:07:38.819224Z",
     "iopub.status.busy": "2023-04-03T18:07:38.818552Z",
     "iopub.status.idle": "2023-04-03T18:07:38.823449Z",
     "shell.execute_reply": "2023-04-03T18:07:38.822262Z"
    },
    "papermill": {
     "duration": 0.050366,
     "end_time": "2023-04-03T18:07:38.826056",
     "exception": false,
     "start_time": "2023-04-03T18:07:38.775690",
     "status": "completed"
    },
    "tags": []
   },
   "outputs": [],
   "source": [
    "# y_pred1 = ready.predict(x_test)\n",
    "# y_pred1 = y_pred1.astype(bool)"
   ]
  },
  {
   "cell_type": "code",
   "execution_count": 83,
   "id": "15d16df6",
   "metadata": {
    "execution": {
     "iopub.execute_input": "2023-04-03T18:07:38.911662Z",
     "iopub.status.busy": "2023-04-03T18:07:38.911178Z",
     "iopub.status.idle": "2023-04-03T18:07:38.916430Z",
     "shell.execute_reply": "2023-04-03T18:07:38.915110Z"
    },
    "papermill": {
     "duration": 0.051226,
     "end_time": "2023-04-03T18:07:38.918889",
     "exception": false,
     "start_time": "2023-04-03T18:07:38.867663",
     "status": "completed"
    },
    "tags": []
   },
   "outputs": [],
   "source": [
    "# from xgboost import XGBClassifier\n",
    "# mod = XGBClassifier(n_estimators=100, max_depth=4, learning_rate=0.01,objective='binary:logistic')\n",
    "# mod.fit(x_train,y_train1)"
   ]
  },
  {
   "cell_type": "code",
   "execution_count": null,
   "id": "ec6d5f00",
   "metadata": {
    "papermill": {
     "duration": 0.042299,
     "end_time": "2023-04-03T18:07:39.003583",
     "exception": false,
     "start_time": "2023-04-03T18:07:38.961284",
     "status": "completed"
    },
    "tags": []
   },
   "outputs": [],
   "source": []
  },
  {
   "cell_type": "code",
   "execution_count": 84,
   "id": "3b1120cc",
   "metadata": {
    "execution": {
     "iopub.execute_input": "2023-04-03T18:07:39.088825Z",
     "iopub.status.busy": "2023-04-03T18:07:39.088417Z",
     "iopub.status.idle": "2023-04-03T18:07:39.092381Z",
     "shell.execute_reply": "2023-04-03T18:07:39.091394Z"
    },
    "papermill": {
     "duration": 0.049909,
     "end_time": "2023-04-03T18:07:39.094817",
     "exception": false,
     "start_time": "2023-04-03T18:07:39.044908",
     "status": "completed"
    },
    "tags": []
   },
   "outputs": [],
   "source": [
    "# y_pred1 = mod.predict(x_test)\n",
    "# y_pred1 = y_pred1.astype(bool)"
   ]
  },
  {
   "cell_type": "code",
   "execution_count": 85,
   "id": "cc2d99ff",
   "metadata": {
    "execution": {
     "iopub.execute_input": "2023-04-03T18:07:39.182936Z",
     "iopub.status.busy": "2023-04-03T18:07:39.182490Z",
     "iopub.status.idle": "2023-04-03T18:07:39.188058Z",
     "shell.execute_reply": "2023-04-03T18:07:39.186475Z"
    },
    "papermill": {
     "duration": 0.054002,
     "end_time": "2023-04-03T18:07:39.190920",
     "exception": false,
     "start_time": "2023-04-03T18:07:39.136918",
     "status": "completed"
    },
    "tags": []
   },
   "outputs": [],
   "source": [
    "# from sklearn.model_selection import cross_val_score\n",
    "\n",
    "\n",
    "# scores = cross_val_score(ready,scaled_d1,y_train , cv=5) \n",
    "\n",
    "\n",
    "# print(\"Average score:\", scores.mean())\n",
    "# print(\"Standard deviation:\", scores.std())\n"
   ]
  },
  {
   "cell_type": "code",
   "execution_count": 86,
   "id": "93b1a8cb",
   "metadata": {
    "execution": {
     "iopub.execute_input": "2023-04-03T18:07:39.276951Z",
     "iopub.status.busy": "2023-04-03T18:07:39.276565Z",
     "iopub.status.idle": "2023-04-03T18:07:39.281345Z",
     "shell.execute_reply": "2023-04-03T18:07:39.279979Z"
    },
    "papermill": {
     "duration": 0.05052,
     "end_time": "2023-04-03T18:07:39.284027",
     "exception": false,
     "start_time": "2023-04-03T18:07:39.233507",
     "status": "completed"
    },
    "tags": []
   },
   "outputs": [],
   "source": [
    "# scores"
   ]
  },
  {
   "cell_type": "code",
   "execution_count": null,
   "id": "4e45eef1",
   "metadata": {
    "papermill": {
     "duration": 0.043905,
     "end_time": "2023-04-03T18:07:39.370329",
     "exception": false,
     "start_time": "2023-04-03T18:07:39.326424",
     "status": "completed"
    },
    "tags": []
   },
   "outputs": [],
   "source": [
    "\n"
   ]
  },
  {
   "cell_type": "code",
   "execution_count": null,
   "id": "3bd64699",
   "metadata": {
    "papermill": {
     "duration": 0.041933,
     "end_time": "2023-04-03T18:07:39.455353",
     "exception": false,
     "start_time": "2023-04-03T18:07:39.413420",
     "status": "completed"
    },
    "tags": []
   },
   "outputs": [],
   "source": []
  },
  {
   "cell_type": "code",
   "execution_count": null,
   "id": "d2e67331",
   "metadata": {
    "papermill": {
     "duration": 0.042492,
     "end_time": "2023-04-03T18:07:39.540225",
     "exception": false,
     "start_time": "2023-04-03T18:07:39.497733",
     "status": "completed"
    },
    "tags": []
   },
   "outputs": [],
   "source": []
  },
  {
   "cell_type": "code",
   "execution_count": 87,
   "id": "49adb5e2",
   "metadata": {
    "execution": {
     "iopub.execute_input": "2023-04-03T18:07:39.629503Z",
     "iopub.status.busy": "2023-04-03T18:07:39.628953Z",
     "iopub.status.idle": "2023-04-03T18:07:40.666795Z",
     "shell.execute_reply": "2023-04-03T18:07:40.665568Z"
    },
    "papermill": {
     "duration": 1.084734,
     "end_time": "2023-04-03T18:07:40.669533",
     "exception": false,
     "start_time": "2023-04-03T18:07:39.584799",
     "status": "completed"
    },
    "tags": []
   },
   "outputs": [
    {
     "data": {
      "text/plain": [
       "VotingClassifier(estimators=[('kn', KNeighborsClassifier(n_neighbors=50)),\n",
       "                             ('ad',\n",
       "                              AdaBoostClassifier(learning_rate=0.001,\n",
       "                                                 random_state=1))],\n",
       "                 voting='soft')"
      ]
     },
     "execution_count": 87,
     "metadata": {},
     "output_type": "execute_result"
    }
   ],
   "source": [
    "ready.fit(scaled_d1, y_train)"
   ]
  },
  {
   "cell_type": "code",
   "execution_count": 88,
   "id": "1a702503",
   "metadata": {
    "execution": {
     "iopub.execute_input": "2023-04-03T18:07:40.757670Z",
     "iopub.status.busy": "2023-04-03T18:07:40.757214Z",
     "iopub.status.idle": "2023-04-03T18:07:43.014398Z",
     "shell.execute_reply": "2023-04-03T18:07:43.012896Z"
    },
    "papermill": {
     "duration": 2.305058,
     "end_time": "2023-04-03T18:07:43.017161",
     "exception": false,
     "start_time": "2023-04-03T18:07:40.712103",
     "status": "completed"
    },
    "tags": []
   },
   "outputs": [
    {
     "data": {
      "text/plain": [
       "array([False, False, False, ..., False, False, False])"
      ]
     },
     "execution_count": 88,
     "metadata": {},
     "output_type": "execute_result"
    }
   ],
   "source": [
    "y_pred = ready.predict(scaled_dt1)\n",
    "y_pred = y_pred.astype(bool)\n",
    "y_pred             "
   ]
  },
  {
   "cell_type": "raw",
   "id": "88d07ce3",
   "metadata": {
    "papermill": {
     "duration": 0.04902,
     "end_time": "2023-04-03T18:07:43.108674",
     "exception": false,
     "start_time": "2023-04-03T18:07:43.059654",
     "status": "completed"
    },
    "tags": []
   },
   "source": []
  },
  {
   "cell_type": "code",
   "execution_count": 89,
   "id": "e341f969",
   "metadata": {
    "execution": {
     "iopub.execute_input": "2023-04-03T18:07:43.193177Z",
     "iopub.status.busy": "2023-04-03T18:07:43.192783Z",
     "iopub.status.idle": "2023-04-03T18:07:43.197254Z",
     "shell.execute_reply": "2023-04-03T18:07:43.196270Z"
    },
    "papermill": {
     "duration": 0.049363,
     "end_time": "2023-04-03T18:07:43.199441",
     "exception": false,
     "start_time": "2023-04-03T18:07:43.150078",
     "status": "completed"
    },
    "tags": []
   },
   "outputs": [],
   "source": [
    "#train_data.shape\n"
   ]
  },
  {
   "cell_type": "code",
   "execution_count": null,
   "id": "8c84fda1",
   "metadata": {
    "papermill": {
     "duration": 0.043734,
     "end_time": "2023-04-03T18:07:43.285107",
     "exception": false,
     "start_time": "2023-04-03T18:07:43.241373",
     "status": "completed"
    },
    "tags": []
   },
   "outputs": [],
   "source": []
  },
  {
   "cell_type": "code",
   "execution_count": null,
   "id": "65e83135",
   "metadata": {
    "papermill": {
     "duration": 0.041611,
     "end_time": "2023-04-03T18:07:43.368148",
     "exception": false,
     "start_time": "2023-04-03T18:07:43.326537",
     "status": "completed"
    },
    "tags": []
   },
   "outputs": [],
   "source": []
  },
  {
   "cell_type": "code",
   "execution_count": 90,
   "id": "9d1ac070",
   "metadata": {
    "execution": {
     "iopub.execute_input": "2023-04-03T18:07:43.456248Z",
     "iopub.status.busy": "2023-04-03T18:07:43.455792Z",
     "iopub.status.idle": "2023-04-03T18:07:43.460349Z",
     "shell.execute_reply": "2023-04-03T18:07:43.459328Z"
    },
    "papermill": {
     "duration": 0.050823,
     "end_time": "2023-04-03T18:07:43.462772",
     "exception": false,
     "start_time": "2023-04-03T18:07:43.411949",
     "status": "completed"
    },
    "tags": []
   },
   "outputs": [],
   "source": [
    "#train_data.isnull().sum()"
   ]
  },
  {
   "cell_type": "code",
   "execution_count": null,
   "id": "1e32a884",
   "metadata": {
    "papermill": {
     "duration": 0.043921,
     "end_time": "2023-04-03T18:07:43.549586",
     "exception": false,
     "start_time": "2023-04-03T18:07:43.505665",
     "status": "completed"
    },
    "tags": []
   },
   "outputs": [],
   "source": []
  },
  {
   "cell_type": "code",
   "execution_count": null,
   "id": "c144acca",
   "metadata": {
    "papermill": {
     "duration": 0.042861,
     "end_time": "2023-04-03T18:07:43.635011",
     "exception": false,
     "start_time": "2023-04-03T18:07:43.592150",
     "status": "completed"
    },
    "tags": []
   },
   "outputs": [],
   "source": []
  },
  {
   "cell_type": "code",
   "execution_count": null,
   "id": "71309e06",
   "metadata": {
    "papermill": {
     "duration": 0.042334,
     "end_time": "2023-04-03T18:07:43.723180",
     "exception": false,
     "start_time": "2023-04-03T18:07:43.680846",
     "status": "completed"
    },
    "tags": []
   },
   "outputs": [],
   "source": []
  },
  {
   "cell_type": "code",
   "execution_count": 91,
   "id": "394b8474",
   "metadata": {
    "execution": {
     "iopub.execute_input": "2023-04-03T18:07:43.810368Z",
     "iopub.status.busy": "2023-04-03T18:07:43.809530Z",
     "iopub.status.idle": "2023-04-03T18:07:43.813922Z",
     "shell.execute_reply": "2023-04-03T18:07:43.812953Z"
    },
    "papermill": {
     "duration": 0.050904,
     "end_time": "2023-04-03T18:07:43.816409",
     "exception": false,
     "start_time": "2023-04-03T18:07:43.765505",
     "status": "completed"
    },
    "tags": []
   },
   "outputs": [],
   "source": [
    "#sns.boxplot(train_data.HomePage)"
   ]
  },
  {
   "cell_type": "code",
   "execution_count": null,
   "id": "eb0f6e25",
   "metadata": {
    "papermill": {
     "duration": 0.041379,
     "end_time": "2023-04-03T18:07:43.900361",
     "exception": false,
     "start_time": "2023-04-03T18:07:43.858982",
     "status": "completed"
    },
    "tags": []
   },
   "outputs": [],
   "source": []
  },
  {
   "cell_type": "code",
   "execution_count": 92,
   "id": "0eb5eabd",
   "metadata": {
    "execution": {
     "iopub.execute_input": "2023-04-03T18:07:43.987485Z",
     "iopub.status.busy": "2023-04-03T18:07:43.987010Z",
     "iopub.status.idle": "2023-04-03T18:07:43.991089Z",
     "shell.execute_reply": "2023-04-03T18:07:43.990219Z"
    },
    "papermill": {
     "duration": 0.0516,
     "end_time": "2023-04-03T18:07:43.993363",
     "exception": false,
     "start_time": "2023-04-03T18:07:43.941763",
     "status": "completed"
    },
    "tags": []
   },
   "outputs": [],
   "source": [
    "#train_data.isnull().sum()"
   ]
  },
  {
   "cell_type": "code",
   "execution_count": 93,
   "id": "4397fcb3",
   "metadata": {
    "execution": {
     "iopub.execute_input": "2023-04-03T18:07:44.079792Z",
     "iopub.status.busy": "2023-04-03T18:07:44.079120Z",
     "iopub.status.idle": "2023-04-03T18:07:44.083261Z",
     "shell.execute_reply": "2023-04-03T18:07:44.082370Z"
    },
    "papermill": {
     "duration": 0.050529,
     "end_time": "2023-04-03T18:07:44.085542",
     "exception": false,
     "start_time": "2023-04-03T18:07:44.035013",
     "status": "completed"
    },
    "tags": []
   },
   "outputs": [],
   "source": [
    "#sns.displot(train_data.HomePage_Duration)\n",
    "#sns.displot(train_data.LandingPage)\n",
    "#sns.displot(train_data.LandingPage_Duration)\n",
    "    \n",
    "#sns.displot(train_data.ProductDescriptionPage)\n",
    "#sns.displot(train_data.ProductDescriptionPage_Duration)\n"
   ]
  },
  {
   "cell_type": "code",
   "execution_count": 94,
   "id": "0239da58",
   "metadata": {
    "execution": {
     "iopub.execute_input": "2023-04-03T18:07:44.172096Z",
     "iopub.status.busy": "2023-04-03T18:07:44.171431Z",
     "iopub.status.idle": "2023-04-03T18:07:44.176452Z",
     "shell.execute_reply": "2023-04-03T18:07:44.175518Z"
    },
    "papermill": {
     "duration": 0.05134,
     "end_time": "2023-04-03T18:07:44.179151",
     "exception": false,
     "start_time": "2023-04-03T18:07:44.127811",
     "status": "completed"
    },
    "tags": []
   },
   "outputs": [],
   "source": [
    "# train_data['HomePage'].fillna(train_data['HomePage'].median(),inplace=True)\n",
    "# train_data['HomePage_Duration'].fillna(train_data['HomePage_Duration'].median(),inplace=True)\n",
    "# train_data['LandingPage'].fillna(train_data['LandingPage'].median(),inplace=True)\n",
    "# train_data['LandingPage_Duration'].fillna(train_data['LandingPage_Duration'].median(),inplace=True)\n",
    "# train_data['ProductDescriptionPage'].fillna(train_data['ProductDescriptionPage'].median(),inplace=True)\n",
    "# train_data['ProductDescriptionPage_Duration'].fillna(train_data['ProductDescriptionPage_Duration'].median(),inplace=True)\n",
    "# train_data['GoogleMetric:Bounce Rates'].fillna(train_data['GoogleMetric:Bounce Rates'].median(),inplace=True)\n",
    "# train_data['GoogleMetric:Exit Rates'].fillna(train_data['GoogleMetric:Exit Rates'].median(),inplace=True)\n",
    "# train_data['GoogleMetric:Page Values'].fillna(train_data['GoogleMetric:Page Values'].median(),inplace=True)\n",
    "# train_data['OS'].fillna(train_data['OS'].median(),inplace=True)\n",
    "# train_data['SearchEngine'].fillna(train_data['SearchEngine'].median(),inplace=True)\n",
    "# train_data['Type of Traffic'].fillna(train_data['Type of Traffic'].median(),inplace=True)\n",
    "# train_data['WeekendPurchase'].fillna(train_data['WeekendPurchase'].median(),inplace=True)\n",
    "# train_data['Zone'].fillna(train_data['Zone'].median(),inplace=True)\n",
    "# train_data['SeasonalPurchase'].fillna(train_data['SeasonalPurchase'].median(),inplace=True)\n"
   ]
  },
  {
   "cell_type": "code",
   "execution_count": 95,
   "id": "eae88669",
   "metadata": {
    "execution": {
     "iopub.execute_input": "2023-04-03T18:07:44.266162Z",
     "iopub.status.busy": "2023-04-03T18:07:44.265441Z",
     "iopub.status.idle": "2023-04-03T18:07:44.269550Z",
     "shell.execute_reply": "2023-04-03T18:07:44.268623Z"
    },
    "papermill": {
     "duration": 0.050556,
     "end_time": "2023-04-03T18:07:44.272121",
     "exception": false,
     "start_time": "2023-04-03T18:07:44.221565",
     "status": "completed"
    },
    "tags": []
   },
   "outputs": [],
   "source": [
    "#train_data.info()"
   ]
  },
  {
   "cell_type": "code",
   "execution_count": 96,
   "id": "ea847fec",
   "metadata": {
    "execution": {
     "iopub.execute_input": "2023-04-03T18:07:44.360853Z",
     "iopub.status.busy": "2023-04-03T18:07:44.360113Z",
     "iopub.status.idle": "2023-04-03T18:07:44.364233Z",
     "shell.execute_reply": "2023-04-03T18:07:44.363292Z"
    },
    "papermill": {
     "duration": 0.052487,
     "end_time": "2023-04-03T18:07:44.366894",
     "exception": false,
     "start_time": "2023-04-03T18:07:44.314407",
     "status": "completed"
    },
    "tags": []
   },
   "outputs": [],
   "source": [
    "#train_data.isnull().sum()"
   ]
  },
  {
   "cell_type": "code",
   "execution_count": 97,
   "id": "00156467",
   "metadata": {
    "execution": {
     "iopub.execute_input": "2023-04-03T18:07:44.454223Z",
     "iopub.status.busy": "2023-04-03T18:07:44.453473Z",
     "iopub.status.idle": "2023-04-03T18:07:44.457724Z",
     "shell.execute_reply": "2023-04-03T18:07:44.456758Z"
    },
    "papermill": {
     "duration": 0.049848,
     "end_time": "2023-04-03T18:07:44.460123",
     "exception": false,
     "start_time": "2023-04-03T18:07:44.410275",
     "status": "completed"
    },
    "tags": []
   },
   "outputs": [],
   "source": [
    "#train_data['Month_SeasonalPurchase'].value_counts()"
   ]
  },
  {
   "cell_type": "code",
   "execution_count": 98,
   "id": "5b66649d",
   "metadata": {
    "execution": {
     "iopub.execute_input": "2023-04-03T18:07:44.546774Z",
     "iopub.status.busy": "2023-04-03T18:07:44.545103Z",
     "iopub.status.idle": "2023-04-03T18:07:44.552985Z",
     "shell.execute_reply": "2023-04-03T18:07:44.551234Z"
    },
    "papermill": {
     "duration": 0.055279,
     "end_time": "2023-04-03T18:07:44.556889",
     "exception": false,
     "start_time": "2023-04-03T18:07:44.501610",
     "status": "completed"
    },
    "tags": []
   },
   "outputs": [],
   "source": [
    "#from sklearn.preprocessing import LabelEncoder"
   ]
  },
  {
   "cell_type": "code",
   "execution_count": 99,
   "id": "bfd6722b",
   "metadata": {
    "execution": {
     "iopub.execute_input": "2023-04-03T18:07:44.665578Z",
     "iopub.status.busy": "2023-04-03T18:07:44.664764Z",
     "iopub.status.idle": "2023-04-03T18:07:44.669147Z",
     "shell.execute_reply": "2023-04-03T18:07:44.668165Z"
    },
    "papermill": {
     "duration": 0.057014,
     "end_time": "2023-04-03T18:07:44.671737",
     "exception": false,
     "start_time": "2023-04-03T18:07:44.614723",
     "status": "completed"
    },
    "tags": []
   },
   "outputs": [],
   "source": [
    "#le=LabelEncoder()\n"
   ]
  },
  {
   "cell_type": "code",
   "execution_count": 100,
   "id": "bee69513",
   "metadata": {
    "execution": {
     "iopub.execute_input": "2023-04-03T18:07:44.759340Z",
     "iopub.status.busy": "2023-04-03T18:07:44.758574Z",
     "iopub.status.idle": "2023-04-03T18:07:44.763144Z",
     "shell.execute_reply": "2023-04-03T18:07:44.762215Z"
    },
    "papermill": {
     "duration": 0.050542,
     "end_time": "2023-04-03T18:07:44.765632",
     "exception": false,
     "start_time": "2023-04-03T18:07:44.715090",
     "status": "completed"
    },
    "tags": []
   },
   "outputs": [],
   "source": [
    "# labels =le.fit_transform(train_data.Month_SeasonalPurchase)\n",
    "# labels1 =le.fit_transform(train_data.CustomerType)\n",
    "# labels2 =le.fit_transform(train_data.Gender)\n",
    "# labels3 =le.fit_transform(train_data['Cookies Setting'])\n",
    "# labels4 =le.fit_transform(train_data.Education)\n",
    "# labels5 =le.fit_transform(train_data['Marital Status'])\n"
   ]
  },
  {
   "cell_type": "code",
   "execution_count": 101,
   "id": "c4fc6de2",
   "metadata": {
    "execution": {
     "iopub.execute_input": "2023-04-03T18:07:44.852753Z",
     "iopub.status.busy": "2023-04-03T18:07:44.851317Z",
     "iopub.status.idle": "2023-04-03T18:07:44.857130Z",
     "shell.execute_reply": "2023-04-03T18:07:44.856239Z"
    },
    "papermill": {
     "duration": 0.052336,
     "end_time": "2023-04-03T18:07:44.859620",
     "exception": false,
     "start_time": "2023-04-03T18:07:44.807284",
     "status": "completed"
    },
    "tags": []
   },
   "outputs": [],
   "source": [
    "# train_data['Month_SeasonalPurchase'] = labels\n",
    "# train_data['CustomerType'] = labels1\n",
    "# train_data['Gender'] = labels2\n",
    "# train_data['Cookies Setting'] = labels3\n",
    "# train_data['Education'] = labels4\n",
    "# train_data['Marital Status'] = labels5"
   ]
  },
  {
   "cell_type": "code",
   "execution_count": 102,
   "id": "c91a138c",
   "metadata": {
    "execution": {
     "iopub.execute_input": "2023-04-03T18:07:44.945374Z",
     "iopub.status.busy": "2023-04-03T18:07:44.944776Z",
     "iopub.status.idle": "2023-04-03T18:07:44.950313Z",
     "shell.execute_reply": "2023-04-03T18:07:44.949300Z"
    },
    "papermill": {
     "duration": 0.051159,
     "end_time": "2023-04-03T18:07:44.952784",
     "exception": false,
     "start_time": "2023-04-03T18:07:44.901625",
     "status": "completed"
    },
    "tags": []
   },
   "outputs": [],
   "source": [
    "# train_data['Month_SeasonalPurchase'].fillna(train_data['Month_SeasonalPurchase'].median(),inplace=True)\n",
    "# train_data['CustomerType'].fillna(train_data['CustomerType'].median(),inplace=True)\n",
    "# train_data['Gender'].fillna(train_data['Gender'].median(),inplace=True)\n",
    "# train_data['Cookies Setting'].fillna(train_data['Cookies Setting'].median(),inplace=True)\n",
    "# train_data['Education'].fillna(train_data['Education'].median(),inplace=True)\n",
    "# train_data['Marital Status'].fillna(train_data['Marital Status'].median(),inplace=True)"
   ]
  },
  {
   "cell_type": "code",
   "execution_count": null,
   "id": "79093409",
   "metadata": {
    "papermill": {
     "duration": 0.041605,
     "end_time": "2023-04-03T18:07:45.037183",
     "exception": false,
     "start_time": "2023-04-03T18:07:44.995578",
     "status": "completed"
    },
    "tags": []
   },
   "outputs": [],
   "source": []
  },
  {
   "cell_type": "code",
   "execution_count": 103,
   "id": "772ba528",
   "metadata": {
    "execution": {
     "iopub.execute_input": "2023-04-03T18:07:45.122609Z",
     "iopub.status.busy": "2023-04-03T18:07:45.121792Z",
     "iopub.status.idle": "2023-04-03T18:07:45.127924Z",
     "shell.execute_reply": "2023-04-03T18:07:45.126424Z"
    },
    "papermill": {
     "duration": 0.052087,
     "end_time": "2023-04-03T18:07:45.130761",
     "exception": false,
     "start_time": "2023-04-03T18:07:45.078674",
     "status": "completed"
    },
    "tags": []
   },
   "outputs": [],
   "source": [
    "# train_data.info()"
   ]
  },
  {
   "cell_type": "code",
   "execution_count": 104,
   "id": "c75090f7",
   "metadata": {
    "execution": {
     "iopub.execute_input": "2023-04-03T18:07:45.217818Z",
     "iopub.status.busy": "2023-04-03T18:07:45.217333Z",
     "iopub.status.idle": "2023-04-03T18:07:45.222532Z",
     "shell.execute_reply": "2023-04-03T18:07:45.221120Z"
    },
    "papermill": {
     "duration": 0.051928,
     "end_time": "2023-04-03T18:07:45.225068",
     "exception": false,
     "start_time": "2023-04-03T18:07:45.173140",
     "status": "completed"
    },
    "tags": []
   },
   "outputs": [],
   "source": [
    "# labels =le.fit_transform(test_data.Month_SeasonalPurchase)\n",
    "# labels1 =le.fit_transform(test_data.CustomerType)\n",
    "# labels2 =le.fit_transform(test_data.Gender)\n",
    "# labels3 =le.fit_transform(test_data['Cookies Setting'])\n",
    "# labels4 =le.fit_transform(test_data.Education)\n",
    "# labels5 =le.fit_transform(test_data['Marital Status'])\n"
   ]
  },
  {
   "cell_type": "code",
   "execution_count": 105,
   "id": "f0a31a71",
   "metadata": {
    "execution": {
     "iopub.execute_input": "2023-04-03T18:07:45.310271Z",
     "iopub.status.busy": "2023-04-03T18:07:45.309822Z",
     "iopub.status.idle": "2023-04-03T18:07:45.314839Z",
     "shell.execute_reply": "2023-04-03T18:07:45.313889Z"
    },
    "papermill": {
     "duration": 0.050403,
     "end_time": "2023-04-03T18:07:45.317210",
     "exception": false,
     "start_time": "2023-04-03T18:07:45.266807",
     "status": "completed"
    },
    "tags": []
   },
   "outputs": [],
   "source": [
    "# test_data['Month_SeasonalPurchase'] = labels\n",
    "# test_data['CustomerType'] = labels1\n",
    "# test_data['Gender'] = labels2\n",
    "# test_data['Cookies Setting'] = labels3\n",
    "# test_data['Education'] = labels4\n",
    "# test_data['Marital Status'] = labels5"
   ]
  },
  {
   "cell_type": "code",
   "execution_count": 106,
   "id": "5f21190b",
   "metadata": {
    "execution": {
     "iopub.execute_input": "2023-04-03T18:07:45.404037Z",
     "iopub.status.busy": "2023-04-03T18:07:45.402870Z",
     "iopub.status.idle": "2023-04-03T18:07:45.408004Z",
     "shell.execute_reply": "2023-04-03T18:07:45.406799Z"
    },
    "papermill": {
     "duration": 0.050838,
     "end_time": "2023-04-03T18:07:45.410850",
     "exception": false,
     "start_time": "2023-04-03T18:07:45.360012",
     "status": "completed"
    },
    "tags": []
   },
   "outputs": [],
   "source": [
    "# test_data['Month_SeasonalPurchase'].fillna(train_data['Month_SeasonalPurchase'].median(),inplace=True)\n",
    "# test_data['CustomerType'].fillna(train_data['CustomerType'].median(),inplace=True)\n",
    "# test_data['Gender'].fillna(train_data['Gender'].median(),inplace=True)\n",
    "# test_data['Cookies Setting'].fillna(train_data['Cookies Setting'].median(),inplace=True)\n",
    "# test_data['Education'].fillna(train_data['Education'].median(),inplace=True)\n",
    "# test_data['Marital Status'].fillna(train_data['Marital Status'].median(),inplace=True)"
   ]
  },
  {
   "cell_type": "code",
   "execution_count": 107,
   "id": "21ad3d43",
   "metadata": {
    "execution": {
     "iopub.execute_input": "2023-04-03T18:07:45.497589Z",
     "iopub.status.busy": "2023-04-03T18:07:45.497095Z",
     "iopub.status.idle": "2023-04-03T18:07:45.502976Z",
     "shell.execute_reply": "2023-04-03T18:07:45.501737Z"
    },
    "papermill": {
     "duration": 0.05215,
     "end_time": "2023-04-03T18:07:45.505479",
     "exception": false,
     "start_time": "2023-04-03T18:07:45.453329",
     "status": "completed"
    },
    "tags": []
   },
   "outputs": [],
   "source": [
    "# test_data['HomePage'].fillna(train_data['HomePage'].median(),inplace=True)\n",
    "# test_data['HomePage_Duration'].fillna(train_data['HomePage_Duration'].median(),inplace=True)\n",
    "# test_data['LandingPage'].fillna(train_data['LandingPage'].median(),inplace=True)\n",
    "# test_data['LandingPage_Duration'].fillna(train_data['LandingPage_Duration'].median(),inplace=True)\n",
    "# test_data['ProductDescriptionPage'].fillna(train_data['ProductDescriptionPage'].median(),inplace=True)\n",
    "# test_data['ProductDescriptionPage_Duration'].fillna(train_data['ProductDescriptionPage_Duration'].median(),inplace=True)\n",
    "# test_data['GoogleMetric:Bounce Rates'].fillna(train_data['GoogleMetric:Bounce Rates'].median(),inplace=True)\n",
    "# test_data['GoogleMetric:Exit Rates'].fillna(train_data['GoogleMetric:Exit Rates'].median(),inplace=True)\n",
    "# test_data['GoogleMetric:Page Values'].fillna(train_data['GoogleMetric:Page Values'].median(),inplace=True)\n",
    "# test_data['OS'].fillna(train_data['OS'].median(),inplace=True)\n",
    "# test_data['SearchEngine'].fillna(train_data['SearchEngine'].median(),inplace=True)\n",
    "# test_data['Type of Traffic'].fillna(train_data['Type of Traffic'].median(),inplace=True)\n",
    "# test_data['WeekendPurchase'].fillna(train_data['WeekendPurchase'].median(),inplace=True)\n",
    "# test_data['Zone'].fillna(train_data['Zone'].median(),inplace=True)\n",
    "# test_data['SeasonalPurchase'].fillna(train_data['SeasonalPurchase'].median(),inplace=True)\n"
   ]
  },
  {
   "cell_type": "code",
   "execution_count": 108,
   "id": "68cf1b18",
   "metadata": {
    "execution": {
     "iopub.execute_input": "2023-04-03T18:07:45.593097Z",
     "iopub.status.busy": "2023-04-03T18:07:45.592634Z",
     "iopub.status.idle": "2023-04-03T18:07:45.598299Z",
     "shell.execute_reply": "2023-04-03T18:07:45.597008Z"
    },
    "papermill": {
     "duration": 0.052387,
     "end_time": "2023-04-03T18:07:45.600779",
     "exception": false,
     "start_time": "2023-04-03T18:07:45.548392",
     "status": "completed"
    },
    "tags": []
   },
   "outputs": [],
   "source": [
    "# test_data.isnull().sum()"
   ]
  },
  {
   "cell_type": "code",
   "execution_count": null,
   "id": "c07390da",
   "metadata": {
    "papermill": {
     "duration": 0.042822,
     "end_time": "2023-04-03T18:07:45.688277",
     "exception": false,
     "start_time": "2023-04-03T18:07:45.645455",
     "status": "completed"
    },
    "tags": []
   },
   "outputs": [],
   "source": []
  },
  {
   "cell_type": "code",
   "execution_count": null,
   "id": "86398803",
   "metadata": {
    "papermill": {
     "duration": 0.04222,
     "end_time": "2023-04-03T18:07:45.774163",
     "exception": false,
     "start_time": "2023-04-03T18:07:45.731943",
     "status": "completed"
    },
    "tags": []
   },
   "outputs": [],
   "source": []
  },
  {
   "cell_type": "code",
   "execution_count": 109,
   "id": "54c468a5",
   "metadata": {
    "execution": {
     "iopub.execute_input": "2023-04-03T18:07:45.859417Z",
     "iopub.status.busy": "2023-04-03T18:07:45.858961Z",
     "iopub.status.idle": "2023-04-03T18:07:45.863977Z",
     "shell.execute_reply": "2023-04-03T18:07:45.862713Z"
    },
    "papermill": {
     "duration": 0.050723,
     "end_time": "2023-04-03T18:07:45.866536",
     "exception": false,
     "start_time": "2023-04-03T18:07:45.815813",
     "status": "completed"
    },
    "tags": []
   },
   "outputs": [],
   "source": [
    "# l=pd.read_csv('/kaggle/input/e-commerce-shoppers-behaviour-understanding/sample.csv')\n",
    "# l.head()"
   ]
  },
  {
   "cell_type": "code",
   "execution_count": 110,
   "id": "f28c3b81",
   "metadata": {
    "execution": {
     "iopub.execute_input": "2023-04-03T18:07:45.952886Z",
     "iopub.status.busy": "2023-04-03T18:07:45.952043Z",
     "iopub.status.idle": "2023-04-03T18:07:45.957081Z",
     "shell.execute_reply": "2023-04-03T18:07:45.955864Z"
    },
    "papermill": {
     "duration": 0.050726,
     "end_time": "2023-04-03T18:07:45.959695",
     "exception": false,
     "start_time": "2023-04-03T18:07:45.908969",
     "status": "completed"
    },
    "tags": []
   },
   "outputs": [],
   "source": [
    "# labels00 =le.fit_transform(train_data['Made_Purchase'])\n",
    "# train_data['Made_Purchase'] = labels00"
   ]
  },
  {
   "cell_type": "code",
   "execution_count": null,
   "id": "1382d9a5",
   "metadata": {
    "papermill": {
     "duration": 0.041255,
     "end_time": "2023-04-03T18:07:46.042487",
     "exception": false,
     "start_time": "2023-04-03T18:07:46.001232",
     "status": "completed"
    },
    "tags": []
   },
   "outputs": [],
   "source": []
  },
  {
   "cell_type": "code",
   "execution_count": null,
   "id": "cdd44010",
   "metadata": {
    "papermill": {
     "duration": 0.041243,
     "end_time": "2023-04-03T18:07:46.125503",
     "exception": false,
     "start_time": "2023-04-03T18:07:46.084260",
     "status": "completed"
    },
    "tags": []
   },
   "outputs": [],
   "source": [
    "\n",
    "\n"
   ]
  },
  {
   "cell_type": "code",
   "execution_count": null,
   "id": "46577777",
   "metadata": {
    "papermill": {
     "duration": 0.042179,
     "end_time": "2023-04-03T18:07:46.209448",
     "exception": false,
     "start_time": "2023-04-03T18:07:46.167269",
     "status": "completed"
    },
    "tags": []
   },
   "outputs": [],
   "source": []
  },
  {
   "cell_type": "code",
   "execution_count": null,
   "id": "c36b01d0",
   "metadata": {
    "papermill": {
     "duration": 0.041187,
     "end_time": "2023-04-03T18:07:46.292600",
     "exception": false,
     "start_time": "2023-04-03T18:07:46.251413",
     "status": "completed"
    },
    "tags": []
   },
   "outputs": [],
   "source": []
  },
  {
   "cell_type": "code",
   "execution_count": 111,
   "id": "f7835112",
   "metadata": {
    "execution": {
     "iopub.execute_input": "2023-04-03T18:07:46.377842Z",
     "iopub.status.busy": "2023-04-03T18:07:46.377377Z",
     "iopub.status.idle": "2023-04-03T18:07:46.382122Z",
     "shell.execute_reply": "2023-04-03T18:07:46.380984Z"
    },
    "papermill": {
     "duration": 0.050393,
     "end_time": "2023-04-03T18:07:46.384409",
     "exception": false,
     "start_time": "2023-04-03T18:07:46.334016",
     "status": "completed"
    },
    "tags": []
   },
   "outputs": [],
   "source": [
    "# train_data.shape"
   ]
  },
  {
   "cell_type": "code",
   "execution_count": null,
   "id": "428a8af7",
   "metadata": {
    "papermill": {
     "duration": 0.041208,
     "end_time": "2023-04-03T18:07:46.468663",
     "exception": false,
     "start_time": "2023-04-03T18:07:46.427455",
     "status": "completed"
    },
    "tags": []
   },
   "outputs": [],
   "source": []
  },
  {
   "cell_type": "code",
   "execution_count": 112,
   "id": "e15670b3",
   "metadata": {
    "execution": {
     "iopub.execute_input": "2023-04-03T18:07:46.554350Z",
     "iopub.status.busy": "2023-04-03T18:07:46.553477Z",
     "iopub.status.idle": "2023-04-03T18:07:46.558588Z",
     "shell.execute_reply": "2023-04-03T18:07:46.557683Z"
    },
    "papermill": {
     "duration": 0.050826,
     "end_time": "2023-04-03T18:07:46.561063",
     "exception": false,
     "start_time": "2023-04-03T18:07:46.510237",
     "status": "completed"
    },
    "tags": []
   },
   "outputs": [],
   "source": [
    "# from sklearn.preprocessing import StandardScaler"
   ]
  },
  {
   "cell_type": "code",
   "execution_count": 113,
   "id": "93a30d3c",
   "metadata": {
    "execution": {
     "iopub.execute_input": "2023-04-03T18:07:46.646615Z",
     "iopub.status.busy": "2023-04-03T18:07:46.645751Z",
     "iopub.status.idle": "2023-04-03T18:07:46.651549Z",
     "shell.execute_reply": "2023-04-03T18:07:46.650163Z"
    },
    "papermill": {
     "duration": 0.051519,
     "end_time": "2023-04-03T18:07:46.654111",
     "exception": false,
     "start_time": "2023-04-03T18:07:46.602592",
     "status": "completed"
    },
    "tags": []
   },
   "outputs": [],
   "source": [
    "# sc=StandardScaler()\n",
    "# sc.fit_transform(train_data)\n",
    "# sc.fit_transform(test_data)\n",
    "\n"
   ]
  },
  {
   "cell_type": "code",
   "execution_count": null,
   "id": "75f65d91",
   "metadata": {
    "papermill": {
     "duration": 0.043354,
     "end_time": "2023-04-03T18:07:46.738916",
     "exception": false,
     "start_time": "2023-04-03T18:07:46.695562",
     "status": "completed"
    },
    "tags": []
   },
   "outputs": [],
   "source": []
  },
  {
   "cell_type": "code",
   "execution_count": null,
   "id": "1f5eafd4",
   "metadata": {
    "papermill": {
     "duration": 0.040948,
     "end_time": "2023-04-03T18:07:46.822063",
     "exception": false,
     "start_time": "2023-04-03T18:07:46.781115",
     "status": "completed"
    },
    "tags": []
   },
   "outputs": [],
   "source": []
  },
  {
   "cell_type": "code",
   "execution_count": 114,
   "id": "98baa32b",
   "metadata": {
    "execution": {
     "iopub.execute_input": "2023-04-03T18:07:46.906782Z",
     "iopub.status.busy": "2023-04-03T18:07:46.906378Z",
     "iopub.status.idle": "2023-04-03T18:07:46.910867Z",
     "shell.execute_reply": "2023-04-03T18:07:46.909480Z"
    },
    "papermill": {
     "duration": 0.050181,
     "end_time": "2023-04-03T18:07:46.913612",
     "exception": false,
     "start_time": "2023-04-03T18:07:46.863431",
     "status": "completed"
    },
    "tags": []
   },
   "outputs": [],
   "source": [
    "\n",
    "# #\n",
    "\n"
   ]
  },
  {
   "cell_type": "code",
   "execution_count": 115,
   "id": "1933569a",
   "metadata": {
    "execution": {
     "iopub.execute_input": "2023-04-03T18:07:46.999242Z",
     "iopub.status.busy": "2023-04-03T18:07:46.998800Z",
     "iopub.status.idle": "2023-04-03T18:07:47.003709Z",
     "shell.execute_reply": "2023-04-03T18:07:47.002469Z"
    },
    "papermill": {
     "duration": 0.051183,
     "end_time": "2023-04-03T18:07:47.006175",
     "exception": false,
     "start_time": "2023-04-03T18:07:46.954992",
     "status": "completed"
    },
    "tags": []
   },
   "outputs": [],
   "source": [
    "# y_pred = ready.predict(scaled_datat)\n",
    "# y_pred = y_pred.astype(bool)\n",
    "# y_pred             "
   ]
  },
  {
   "cell_type": "code",
   "execution_count": 116,
   "id": "b589e6d7",
   "metadata": {
    "execution": {
     "iopub.execute_input": "2023-04-03T18:07:47.092358Z",
     "iopub.status.busy": "2023-04-03T18:07:47.091604Z",
     "iopub.status.idle": "2023-04-03T18:07:47.095531Z",
     "shell.execute_reply": "2023-04-03T18:07:47.094725Z"
    },
    "papermill": {
     "duration": 0.050187,
     "end_time": "2023-04-03T18:07:47.097859",
     "exception": false,
     "start_time": "2023-04-03T18:07:47.047672",
     "status": "completed"
    },
    "tags": []
   },
   "outputs": [],
   "source": [
    "# from xgboost import XGBClassifier\n",
    "# bst = XGBClassifier(n_estimators=2, max_depth=2, learning_rate=1, objective='binary:logistic')\n",
    "# bst.fit(train_data, y_train)"
   ]
  },
  {
   "cell_type": "code",
   "execution_count": 117,
   "id": "83a7d53e",
   "metadata": {
    "execution": {
     "iopub.execute_input": "2023-04-03T18:07:47.185679Z",
     "iopub.status.busy": "2023-04-03T18:07:47.185237Z",
     "iopub.status.idle": "2023-04-03T18:07:47.190164Z",
     "shell.execute_reply": "2023-04-03T18:07:47.188582Z"
    },
    "papermill": {
     "duration": 0.052454,
     "end_time": "2023-04-03T18:07:47.192796",
     "exception": false,
     "start_time": "2023-04-03T18:07:47.140342",
     "status": "completed"
    },
    "tags": []
   },
   "outputs": [],
   "source": [
    "# y_pred = bst.predict(test_data)\n",
    "# y_pred = y_pred.astype(bool)\n",
    "# y_pred"
   ]
  },
  {
   "cell_type": "code",
   "execution_count": 118,
   "id": "e7f1f880",
   "metadata": {
    "execution": {
     "iopub.execute_input": "2023-04-03T18:07:47.280186Z",
     "iopub.status.busy": "2023-04-03T18:07:47.279481Z",
     "iopub.status.idle": "2023-04-03T18:07:47.284117Z",
     "shell.execute_reply": "2023-04-03T18:07:47.283268Z"
    },
    "papermill": {
     "duration": 0.051035,
     "end_time": "2023-04-03T18:07:47.286445",
     "exception": false,
     "start_time": "2023-04-03T18:07:47.235410",
     "status": "completed"
    },
    "tags": []
   },
   "outputs": [],
   "source": [
    "# ready.fit(train_data, y_train)\n",
    "# y_pred = ready.predict(test_data)\n",
    "# y_pred = y_pred.astype(bool)\n",
    "# y_pred"
   ]
  },
  {
   "cell_type": "code",
   "execution_count": 119,
   "id": "baebd708",
   "metadata": {
    "execution": {
     "iopub.execute_input": "2023-04-03T18:07:47.371708Z",
     "iopub.status.busy": "2023-04-03T18:07:47.371007Z",
     "iopub.status.idle": "2023-04-03T18:07:47.391060Z",
     "shell.execute_reply": "2023-04-03T18:07:47.389680Z"
    },
    "papermill": {
     "duration": 0.066167,
     "end_time": "2023-04-03T18:07:47.393976",
     "exception": false,
     "start_time": "2023-04-03T18:07:47.327809",
     "status": "completed"
    },
    "tags": []
   },
   "outputs": [],
   "source": [
    "submission = pd.DataFrame({'id': range(len(y_pred)), 'Made_Purchase': y_pred})\n",
    "submission.to_csv('submission.csv', index=False)"
   ]
  },
  {
   "cell_type": "code",
   "execution_count": 120,
   "id": "5f0975fe",
   "metadata": {
    "execution": {
     "iopub.execute_input": "2023-04-03T18:07:47.481178Z",
     "iopub.status.busy": "2023-04-03T18:07:47.480775Z",
     "iopub.status.idle": "2023-04-03T18:07:47.491493Z",
     "shell.execute_reply": "2023-04-03T18:07:47.490251Z"
    },
    "papermill": {
     "duration": 0.057281,
     "end_time": "2023-04-03T18:07:47.493906",
     "exception": false,
     "start_time": "2023-04-03T18:07:47.436625",
     "status": "completed"
    },
    "tags": []
   },
   "outputs": [
    {
     "data": {
      "text/html": [
       "<div>\n",
       "<style scoped>\n",
       "    .dataframe tbody tr th:only-of-type {\n",
       "        vertical-align: middle;\n",
       "    }\n",
       "\n",
       "    .dataframe tbody tr th {\n",
       "        vertical-align: top;\n",
       "    }\n",
       "\n",
       "    .dataframe thead th {\n",
       "        text-align: right;\n",
       "    }\n",
       "</style>\n",
       "<table border=\"1\" class=\"dataframe\">\n",
       "  <thead>\n",
       "    <tr style=\"text-align: right;\">\n",
       "      <th></th>\n",
       "      <th>id</th>\n",
       "      <th>Made_Purchase</th>\n",
       "    </tr>\n",
       "  </thead>\n",
       "  <tbody>\n",
       "    <tr>\n",
       "      <th>0</th>\n",
       "      <td>0</td>\n",
       "      <td>False</td>\n",
       "    </tr>\n",
       "    <tr>\n",
       "      <th>1</th>\n",
       "      <td>1</td>\n",
       "      <td>False</td>\n",
       "    </tr>\n",
       "    <tr>\n",
       "      <th>2</th>\n",
       "      <td>2</td>\n",
       "      <td>False</td>\n",
       "    </tr>\n",
       "    <tr>\n",
       "      <th>3</th>\n",
       "      <td>3</td>\n",
       "      <td>False</td>\n",
       "    </tr>\n",
       "    <tr>\n",
       "      <th>4</th>\n",
       "      <td>4</td>\n",
       "      <td>False</td>\n",
       "    </tr>\n",
       "  </tbody>\n",
       "</table>\n",
       "</div>"
      ],
      "text/plain": [
       "   id  Made_Purchase\n",
       "0   0          False\n",
       "1   1          False\n",
       "2   2          False\n",
       "3   3          False\n",
       "4   4          False"
      ]
     },
     "execution_count": 120,
     "metadata": {},
     "output_type": "execute_result"
    }
   ],
   "source": [
    "submission.head()"
   ]
  },
  {
   "cell_type": "code",
   "execution_count": null,
   "id": "8966fba0",
   "metadata": {
    "papermill": {
     "duration": 0.043129,
     "end_time": "2023-04-03T18:07:47.580460",
     "exception": false,
     "start_time": "2023-04-03T18:07:47.537331",
     "status": "completed"
    },
    "tags": []
   },
   "outputs": [],
   "source": []
  }
 ],
 "metadata": {
  "kernelspec": {
   "display_name": "Python 3",
   "language": "python",
   "name": "python3"
  },
  "language_info": {
   "codemirror_mode": {
    "name": "ipython",
    "version": 3
   },
   "file_extension": ".py",
   "mimetype": "text/x-python",
   "name": "python",
   "nbconvert_exporter": "python",
   "pygments_lexer": "ipython3",
   "version": "3.7.12"
  },
  "papermill": {
   "default_parameters": {},
   "duration": 56.201975,
   "end_time": "2023-04-03T18:07:48.449465",
   "environment_variables": {},
   "exception": null,
   "input_path": "__notebook__.ipynb",
   "output_path": "__notebook__.ipynb",
   "parameters": {},
   "start_time": "2023-04-03T18:06:52.247490",
   "version": "2.4.0"
  }
 },
 "nbformat": 4,
 "nbformat_minor": 5
}
